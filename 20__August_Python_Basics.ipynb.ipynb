{
 "cells": [
  {
   "cell_type": "code",
   "execution_count": null,
   "id": "14f8fb6a-7e4a-49e5-9148-d0feed867d20",
   "metadata": {},
   "outputs": [],
   "source": [
    "#String based assignment problems.\n",
    "#Write a program to reverse a string."
   ]
  },
  {
   "cell_type": "code",
   "execution_count": 8,
   "id": "707dbd7d-d27d-47ce-adc7-5c0c55e87943",
   "metadata": {
    "tags": []
   },
   "outputs": [
    {
     "name": "stdout",
     "output_type": "stream",
     "text": [
      "!dlroW ,olleH\n"
     ]
    }
   ],
   "source": [
    "def reverse_string(input_string):\n",
    "    # Step 1: Define a function called reverse_string that takes an input_string as its parameter.\n",
    "\n",
    "    reversed_string = \"\"\n",
    "    # Step 2: Initialize an empty string called reversed_string to store the reversed characters.\n",
    "\n",
    "    for char in input_string:\n",
    "        # Step 3: Start a loop that iterates through each character in the input_string.\n",
    "\n",
    "        reversed_string = char + reversed_string\n",
    "        # Step 4: Concatenate the current character with the existing reversed_string.\n",
    "        # This effectively adds the current character to the beginning of the reversed string.\n",
    "\n",
    "    return reversed_string\n",
    "    # Step 5: After the loop is done, return the reversed_string as the output of the function.\n",
    "#Test the function    \n",
    "input_str = \"Hello, World!\"\n",
    "reversed_str = reverse_string(input_str)\n",
    "print(reversed_str)    "
   ]
  },
  {
   "cell_type": "code",
   "execution_count": null,
   "id": "45a6470b-1b0f-475e-842c-773082be1baa",
   "metadata": {},
   "outputs": [],
   "source": [
    "#2.check if string is a palindrome"
   ]
  },
  {
   "cell_type": "code",
   "execution_count": 9,
   "id": "4c4c895c-0ffb-4748-a77c-27d12e13b230",
   "metadata": {
    "tags": []
   },
   "outputs": [
    {
     "name": "stdout",
     "output_type": "stream",
     "text": [
      "True\n",
      "False\n",
      "True\n"
     ]
    }
   ],
   "source": [
    "def is_palindrome(s):\n",
    "    # Convert the string to lowercase to ensure case-insensitive comparison\n",
    "    s = s.lower()\n",
    "\n",
    "    # Remove spaces and punctuation from the string\n",
    "    s = ''.join(e for e in s if e.isalnum())\n",
    "\n",
    "    # Compare the original string with its reverse\n",
    "    return s == s[::-1]\n",
    "#Test the function\n",
    "print(is_palindrome(\"radar\"))\n",
    "print(is_palindrome(\"hello\"))\n",
    "print(is_palindrome(\"A man, a plan, a canal, Panama\"))"
   ]
  },
  {
   "cell_type": "code",
   "execution_count": null,
   "id": "e7b7b597-6a5e-44d9-973f-aeeb7064742f",
   "metadata": {},
   "outputs": [],
   "source": []
  },
  {
   "cell_type": "code",
   "execution_count": null,
   "id": "cc300046-8168-4347-852e-4a11662f6f99",
   "metadata": {},
   "outputs": [],
   "source": [
    "#3. Conver a strig to uppercase."
   ]
  },
  {
   "cell_type": "code",
   "execution_count": 5,
   "id": "66b34e4f-dea4-4f95-a4de-3dc1f592585a",
   "metadata": {
    "tags": []
   },
   "outputs": [
    {
     "name": "stdin",
     "output_type": "stream",
     "text": [
      "Enter a string:  mukti gupta\n"
     ]
    },
    {
     "name": "stdout",
     "output_type": "stream",
     "text": [
      "Uppercase string: MUKTI GUPTA\n"
     ]
    }
   ],
   "source": [
    "# Step 1: Get input from the user\n",
    "input_string = input(\"Enter a string: \")\n",
    "\n",
    "# Step 2: Convert the string to uppercase\n",
    "uppercase_string = input_string.upper()\n",
    "\n",
    "# Step 3: Print the uppercase string\n",
    "print(\"Uppercase string:\", uppercase_string)"
   ]
  },
  {
   "cell_type": "code",
   "execution_count": null,
   "id": "3e11e37c-c065-4b38-8333-1a4856b3b93f",
   "metadata": {},
   "outputs": [],
   "source": [
    "#4.Convert a string to lowercase."
   ]
  },
  {
   "cell_type": "code",
   "execution_count": 6,
   "id": "51b21e7f-3dd4-4158-9e3d-2ec101563c01",
   "metadata": {
    "tags": []
   },
   "outputs": [
    {
     "name": "stdin",
     "output_type": "stream",
     "text": [
      "Enter a string:  VAIBHAV\n"
     ]
    },
    {
     "name": "stdout",
     "output_type": "stream",
     "text": [
      "Lowercase string: vaibhav\n"
     ]
    }
   ],
   "source": [
    "# Step 1: Get input from the user\n",
    "input_string = input(\"Enter a string: \")\n",
    "\n",
    "# Step 2: Convert the string to lowercase using the lower() method\n",
    "lowercase_string = input_string.lower()\n",
    "\n",
    "# Step 3: Print the lowercase string\n",
    "print(\"Lowercase string:\", lowercase_string)"
   ]
  },
  {
   "cell_type": "code",
   "execution_count": null,
   "id": "9fd9e6c5-de2c-4e80-82ba-1ff2100b3dfd",
   "metadata": {},
   "outputs": [],
   "source": [
    "#5. Count number of vowels of string"
   ]
  },
  {
   "cell_type": "code",
   "execution_count": 7,
   "id": "cff50223-f4c3-4c4e-80c6-49758b28cef1",
   "metadata": {
    "tags": []
   },
   "outputs": [
    {
     "name": "stdout",
     "output_type": "stream",
     "text": [
      "Number of vowels: 7\n"
     ]
    }
   ],
   "source": [
    "def count_vowels(string):\n",
    "    # Initialize a variable to keep track of the vowel count\n",
    "    vowel_count = 0\n",
    "\n",
    "    # Convert the input string to lowercase to handle both upper and lowercase vowels\n",
    "    string = string.lower()\n",
    "\n",
    "    # Define a set of vowels\n",
    "    vowels = set(\"aeiou\")\n",
    "\n",
    "    # Iterate through each character in the string\n",
    "    for char in string:\n",
    "        # Check if the character is a vowel\n",
    "        if char in vowels:\n",
    "            # Increment the vowel count if the character is a vowel\n",
    "            vowel_count += 1\n",
    "\n",
    "    # Return the final vowel count\n",
    "    return vowel_count\n",
    "\n",
    "# Test the function\n",
    "input_string = \"Hello, how are you?\"\n",
    "result = count_vowels(input_string)\n",
    "print(\"Number of vowels:\", result)"
   ]
  },
  {
   "cell_type": "code",
   "execution_count": null,
   "id": "82774558-ed97-493f-9f06-e9005b98a3d3",
   "metadata": {},
   "outputs": [],
   "source": [
    "#Test number of consonants in string"
   ]
  },
  {
   "cell_type": "code",
   "execution_count": 10,
   "id": "4cdfbf81-7c73-4152-8f56-1634275a9938",
   "metadata": {
    "tags": []
   },
   "outputs": [
    {
     "name": "stdin",
     "output_type": "stream",
     "text": [
      "Enter a string:  my name is mukti\n"
     ]
    },
    {
     "name": "stdout",
     "output_type": "stream",
     "text": [
      "Number of consonants: 8\n"
     ]
    }
   ],
   "source": [
    "def count_consonants(string):\n",
    "    # Initialize a variable to keep track of the count of consonants\n",
    "    consonant_count = 0\n",
    "\n",
    "    # Define a set of consonant characters\n",
    "    consonants = \"bcdfghjklmnpqrstvwxyzBCDFGHJKLMNPQRSTVWXYZ\"\n",
    "\n",
    "    # Iterate through each character in the input string\n",
    "    for char in string:\n",
    "        # Check if the character is in the set of consonants\n",
    "        if char in consonants:\n",
    "            # Increment the consonant count\n",
    "            consonant_count += 1\n",
    "\n",
    "    # Return the final count of consonants\n",
    "    return consonant_count\n",
    "\n",
    "# Input string\n",
    "input_string = input(\"Enter a string: \")\n",
    "\n",
    "# Call the function and print the result\n",
    "result = count_consonants(input_string)\n",
    "print(\"Number of consonants:\", result)"
   ]
  },
  {
   "cell_type": "code",
   "execution_count": null,
   "id": "7ea48d3b-3811-4e27-b6ed-ad21bab6b422",
   "metadata": {},
   "outputs": [],
   "source": [
    "#7.Remove all white spaces from string"
   ]
  },
  {
   "cell_type": "code",
   "execution_count": 11,
   "id": "11679cd7-b010-4dad-89f1-98c543c7271c",
   "metadata": {
    "tags": []
   },
   "outputs": [
    {
     "name": "stdout",
     "output_type": "stream",
     "text": [
      "HelloWorld!How'sitgoing?\n"
     ]
    }
   ],
   "source": [
    "def remove_whitespace(input_string):\n",
    "    # Step 1: Initialize an empty string to store the result.\n",
    "    result = \"\"\n",
    "\n",
    "    # Step 2: Iterate through each character in the input string.\n",
    "    for char in input_string:\n",
    "        # Step 3: Check if the character is a whitespace.\n",
    "        if char != \" \":\n",
    "            # Step 4: If the character is not a whitespace, append it to the result string.\n",
    "            result += char\n",
    "\n",
    "    # Step 5: Return the result string with all whitespaces removed.\n",
    "    return result\n",
    "\n",
    "# Example usage\n",
    "input_string = \"Hello   World!  How's   it   going?\"\n",
    "output_string = remove_whitespace(input_string)\n",
    "print(output_string)"
   ]
  },
  {
   "cell_type": "code",
   "execution_count": null,
   "id": "cf9a60cc-2c05-4e6c-90ee-5cf87e168083",
   "metadata": {},
   "outputs": [],
   "source": [
    "#8.Find length of string without using len() function"
   ]
  },
  {
   "cell_type": "code",
   "execution_count": 12,
   "id": "15a79e25-c11c-4215-9f31-6bd148622e8a",
   "metadata": {
    "tags": []
   },
   "outputs": [
    {
     "name": "stdout",
     "output_type": "stream",
     "text": [
      "The length of the string is: 35\n"
     ]
    }
   ],
   "source": [
    "# Step 1: Initialize a variable to keep track of the count\n",
    "count = 0\n",
    "\n",
    "# Step 2: Iterate through each character in the string\n",
    "for char in input_string:  # Replace 'input_string' with your actual string variable\n",
    "    # Step 3: Increment the count variable by 1 for each character\n",
    "    count += 1\n",
    "\n",
    "# Step 5: Print the final count, which represents the length of the string\n",
    "print(\"The length of the string is:\", count)"
   ]
  },
  {
   "cell_type": "code",
   "execution_count": null,
   "id": "c7bc1f5e-2636-42eb-bdfd-57205bfb3ba6",
   "metadata": {},
   "outputs": [],
   "source": [
    "#9.Check if string contain specific word."
   ]
  },
  {
   "cell_type": "code",
   "execution_count": 14,
   "id": "f0e944f9-b9c6-4e1d-94ed-7319f7954cb0",
   "metadata": {
    "tags": []
   },
   "outputs": [
    {
     "name": "stdin",
     "output_type": "stream",
     "text": [
      "Enter a string:  live life long\n",
      "Enter the specific word to check for:  long\n"
     ]
    },
    {
     "name": "stdout",
     "output_type": "stream",
     "text": [
      "The string contains the word 'long'.\n"
     ]
    }
   ],
   "source": [
    "# Step 1: Input the string and the specific word\n",
    "input_string = input(\"Enter a string: \")\n",
    "specific_word = input(\"Enter the specific word to check for: \")\n",
    "\n",
    "# Step 2: Check if the specific word is present in the string using the 'in' keyword\n",
    "if specific_word in input_string:\n",
    "    # Step 3: Print message if word is present\n",
    "    print(f\"The string contains the word '{specific_word}'.\")\n",
    "else:\n",
    "    # Step 3: Print message if word is not present\n",
    "    print(f\"The string does not contain the word '{specific_word}'.\")"
   ]
  },
  {
   "cell_type": "code",
   "execution_count": null,
   "id": "7fb02099-0b11-4d44-95ef-7851b51e6ef8",
   "metadata": {},
   "outputs": [],
   "source": [
    "#10.Replace a string with another word"
   ]
  },
  {
   "cell_type": "code",
   "execution_count": 13,
   "id": "b88bc8d4-d610-4bf0-bb0c-8a9be051bb1d",
   "metadata": {
    "tags": []
   },
   "outputs": [
    {
     "name": "stdin",
     "output_type": "stream",
     "text": [
      "Enter a sentence:  mukti gupta\n",
      "Enter the word to be replaced:  gupta\n",
      "Enter the new word:  maheshwary\n"
     ]
    },
    {
     "name": "stdout",
     "output_type": "stream",
     "text": [
      "Modified string: mukti maheshwary\n"
     ]
    }
   ],
   "source": [
    "# Step 1: Accept the input string\n",
    "input_string = input(\"Enter a sentence: \")\n",
    "\n",
    "# Step 2: Accept the old word and the new word\n",
    "old_word = input(\"Enter the word to be replaced: \")\n",
    "new_word = input(\"Enter the new word: \")\n",
    "\n",
    "# Step 3: Replace the old word with the new word using string.replace() method\n",
    "modified_string = input_string.replace(old_word, new_word)\n",
    "\n",
    "# Step 4: Print the modified string\n",
    "print(\"Modified string:\", modified_string)"
   ]
  },
  {
   "cell_type": "code",
   "execution_count": null,
   "id": "26201f13-9525-45bc-9be2-1da8a02dbc05",
   "metadata": {},
   "outputs": [],
   "source": [
    "#11 count the occurrences of word in string."
   ]
  },
  {
   "cell_type": "code",
   "execution_count": 15,
   "id": "89fa2414-7849-47e1-a6c9-4bdfe4e96907",
   "metadata": {
    "tags": []
   },
   "outputs": [
    {
     "name": "stdout",
     "output_type": "stream",
     "text": [
      "The word 'sample' appears 1 times in the input string.\n"
     ]
    }
   ],
   "source": [
    "def count_word_occurrences(input_string, target_word):\n",
    "    # Step 1: Initialize a variable to keep track of the word count\n",
    "    word_count = 0\n",
    "\n",
    "    # Step 2: Split the input string into a list of words\n",
    "    words = input_string.split()\n",
    "\n",
    "    # Step 3: Iterate through each word in the list\n",
    "    for word in words:\n",
    "        # Step 4: Check if the current word matches the target word\n",
    "        if word == target_word:\n",
    "            # Step 5: Increment the word count if the words match\n",
    "            word_count += 1\n",
    "\n",
    "    # Step 6: Return the final word count\n",
    "    return word_count\n",
    "\n",
    "# Input string\n",
    "input_string = \"This is a sample sentence. This sentence contains the word 'sample' multiple times.\"\n",
    "\n",
    "# Target word to count\n",
    "target_word = \"sample\"\n",
    "\n",
    "# Call the function and print the result\n",
    "result = count_word_occurrences(input_string, target_word)\n",
    "print(f\"The word '{target_word}' appears {result} times in the input string.\")"
   ]
  },
  {
   "cell_type": "code",
   "execution_count": null,
   "id": "c4995a65-3675-4881-8511-75e201bee0bd",
   "metadata": {},
   "outputs": [],
   "source": [
    "#12 Find first occurrence of word in string."
   ]
  },
  {
   "cell_type": "code",
   "execution_count": 16,
   "id": "bb66c7a2-a776-47a1-ad02-4707644e9b2b",
   "metadata": {
    "tags": []
   },
   "outputs": [
    {
     "name": "stdout",
     "output_type": "stream",
     "text": [
      "Index of the first occurrence: 11\n"
     ]
    }
   ],
   "source": [
    "def find_first_occurrence(text, word):\n",
    "    # Step 1: Find the index of the first occurrence of the word in the text.\n",
    "    index = text.find(word)\n",
    "\n",
    "    # Step 2: Check if the index is -1, indicating that the word was not found.\n",
    "    if index == -1:\n",
    "        return None  # Return None if the word is not found.\n",
    "\n",
    "    # Step 3: Return the index of the first occurrence of the word.\n",
    "    return index\n",
    "\n",
    "# Example usage\n",
    "text = \"This is an example sentence. This sentence contains the word example.\"\n",
    "word = \"example\"\n",
    "result = find_first_occurrence(text, word)\n",
    "print(\"Index of the first occurrence:\", result)"
   ]
  },
  {
   "cell_type": "code",
   "execution_count": null,
   "id": "45a16374-578c-4bac-a6e5-8852e5b51e96",
   "metadata": {},
   "outputs": [],
   "source": [
    "#13 Find the last occurrence of word in string"
   ]
  },
  {
   "cell_type": "code",
   "execution_count": 17,
   "id": "1005a8ae-e753-4a7f-baa6-93ee4dac724d",
   "metadata": {
    "tags": []
   },
   "outputs": [
    {
     "name": "stdout",
     "output_type": "stream",
     "text": [
      "Index of the last occurrence: 66\n"
     ]
    }
   ],
   "source": [
    "def find_last_occurrence(text, word):\n",
    "    # Step 1: Find the index of the last occurrence of the word in the text.\n",
    "    index = text.rfind(word)\n",
    "\n",
    "    # Step 2: Check if the index is -1, indicating that the word was not found.\n",
    "    if index == -1:\n",
    "        return None  # Return None if the word is not found.\n",
    "\n",
    "    # Step 3: Return the index of the last occurrence of the word.\n",
    "    return index\n",
    "\n",
    "# Example usage\n",
    "text = \"This is an example sentence. This sentence also contains the word example.\"\n",
    "word = \"example\"\n",
    "result = find_last_occurrence(text, word)\n",
    "print(\"Index of the last occurrence:\", result)"
   ]
  },
  {
   "cell_type": "code",
   "execution_count": null,
   "id": "7066abfb-9813-4b7e-839b-47d3355341b2",
   "metadata": {},
   "outputs": [],
   "source": [
    "#14  split a string into list of words"
   ]
  },
  {
   "cell_type": "code",
   "execution_count": 19,
   "id": "f25700c5-561b-486f-b293-f34da7fa1c5b",
   "metadata": {
    "tags": []
   },
   "outputs": [
    {
     "name": "stdout",
     "output_type": "stream",
     "text": [
      "List of words: ['This', 'is', 'an', 'example', 'sentence.']\n"
     ]
    }
   ],
   "source": [
    "def split_string_into_words(text):\n",
    "    # Step 1: Use the split() method to split the text into a list of words.\n",
    "    words_list = text.split()\n",
    "\n",
    "    # Step 2: Return the list of words.\n",
    "    return words_list\n",
    "\n",
    "# Example usage\n",
    "text = \"This is an example sentence.\"\n",
    "words = split_string_into_words(text)\n",
    "print(\"List of words:\", words)"
   ]
  },
  {
   "cell_type": "code",
   "execution_count": null,
   "id": "4c40fe48-bb70-4a77-988e-7453f4933609",
   "metadata": {},
   "outputs": [],
   "source": [
    "#15 Join a list of words into string"
   ]
  },
  {
   "cell_type": "code",
   "execution_count": 20,
   "id": "3f01a7c5-6596-4dd7-8860-034db626593e",
   "metadata": {
    "tags": []
   },
   "outputs": [
    {
     "name": "stdout",
     "output_type": "stream",
     "text": [
      "Joined string: This is an example sentence.\n"
     ]
    }
   ],
   "source": [
    "def join_words_into_string(words_list):\n",
    "    # Step 1: Use the join() method to join the words in the list into a single string.\n",
    "    joined_string = ' '.join(words_list)\n",
    "\n",
    "    # Step 2: Return the joined string.\n",
    "    return joined_string\n",
    "\n",
    "# Example usage\n",
    "words = [\"This\", \"is\", \"an\", \"example\", \"sentence.\"]\n",
    "text = join_words_into_string(words)\n",
    "print(\"Joined string:\", text)"
   ]
  },
  {
   "cell_type": "code",
   "execution_count": null,
   "id": "0f7e5ebc-9718-4064-9fe9-822fcb127545",
   "metadata": {},
   "outputs": [],
   "source": [
    "#16 Convert a string where word separated by spaces and underscore"
   ]
  },
  {
   "cell_type": "code",
   "execution_count": 21,
   "id": "ecc39189-a358-4dc7-bdcb-b33eb75b4cda",
   "metadata": {
    "tags": []
   },
   "outputs": [
    {
     "name": "stdout",
     "output_type": "stream",
     "text": [
      "Converted text: This_is_an_example_sentence.\n"
     ]
    }
   ],
   "source": [
    "def convert_to_underscore_separated(text):\n",
    "    # Step 1: Use the replace() method to replace spaces with underscores.\n",
    "    underscore_separated = text.replace(\" \", \"_\")\n",
    "\n",
    "    # Step 2: Return the converted string.\n",
    "    return underscore_separated\n",
    "\n",
    "# Example usage\n",
    "text = \"This is an example sentence.\"\n",
    "converted_text = convert_to_underscore_separated(text)\n",
    "print(\"Converted text:\", converted_text)"
   ]
  },
  {
   "cell_type": "code",
   "execution_count": null,
   "id": "e2b8bbd7-5d05-4655-9eb5-e7280d7ab9d4",
   "metadata": {},
   "outputs": [],
   "source": [
    "#17 Check if string start with specific word or phrase"
   ]
  },
  {
   "cell_type": "code",
   "execution_count": 22,
   "id": "7d1eadcb-9ad3-43fe-b8aa-0db424d98ed4",
   "metadata": {
    "tags": []
   },
   "outputs": [
    {
     "name": "stdout",
     "output_type": "stream",
     "text": [
      "The text starts with the prefix.\n"
     ]
    }
   ],
   "source": [
    "def starts_with(text, prefix):\n",
    "    # Step 1: Use the startswith() method to check if the text starts with the specified prefix.\n",
    "    is_start = text.startswith(prefix)\n",
    "\n",
    "    # Step 2: Return the result of the check.\n",
    "    return is_start\n",
    "\n",
    "# Example usage\n",
    "text = \"Hello, world!\"\n",
    "prefix = \"Hello\"\n",
    "result = starts_with(text, prefix)\n",
    "if result:\n",
    "    print(\"The text starts with the prefix.\")\n",
    "else:\n",
    "    print(\"The text does not start with the prefix.\")"
   ]
  },
  {
   "cell_type": "code",
   "execution_count": null,
   "id": "b72eec15-fc8f-4d21-aa6d-1a6bd9ba941e",
   "metadata": {},
   "outputs": [],
   "source": [
    "#18 Check string ends with specific word or phrase"
   ]
  },
  {
   "cell_type": "code",
   "execution_count": 23,
   "id": "e5c08fab-134d-4e36-bc4b-3006d7f3fec6",
   "metadata": {
    "tags": []
   },
   "outputs": [
    {
     "name": "stdout",
     "output_type": "stream",
     "text": [
      "The text ends with the suffix.\n"
     ]
    }
   ],
   "source": [
    "def ends_with(text, suffix):\n",
    "    # Step 1: Use the endswith() method to check if the text ends with the specified suffix.\n",
    "    is_end = text.endswith(suffix)\n",
    "\n",
    "    # Step 2: Return the result of the check.\n",
    "    return is_end\n",
    "\n",
    "# Example usage\n",
    "text = \"Hello, world!\"\n",
    "suffix = \"world!\"\n",
    "result = ends_with(text, suffix)\n",
    "if result:\n",
    "    print(\"The text ends with the suffix.\")\n",
    "else:\n",
    "    print(\"The text does not end with the suffix.\")"
   ]
  },
  {
   "cell_type": "code",
   "execution_count": null,
   "id": "80a9ee8b-e3fa-4e38-9ef8-d81dfd9e8369",
   "metadata": {},
   "outputs": [],
   "source": [
    "#19 Convert string to title case"
   ]
  },
  {
   "cell_type": "code",
   "execution_count": 24,
   "id": "02c2f81c-6210-4051-b222-d3c3f38e4f14",
   "metadata": {
    "tags": []
   },
   "outputs": [
    {
     "name": "stdout",
     "output_type": "stream",
     "text": [
      "Title case: Hello World\n"
     ]
    }
   ],
   "source": [
    "def convert_to_title_case(text):\n",
    "    # Step 1: Use the title() method to convert the text to title case.\n",
    "    title_case_text = text.title()\n",
    "\n",
    "    # Step 2: Return the converted text.\n",
    "    return title_case_text\n",
    "\n",
    "# Example usage\n",
    "text = \"hello world\"\n",
    "title_case_result = convert_to_title_case(text)\n",
    "print(\"Title case:\", title_case_result)"
   ]
  },
  {
   "cell_type": "code",
   "execution_count": null,
   "id": "290e167e-f50a-4848-80cc-ea93a1f08d15",
   "metadata": {},
   "outputs": [],
   "source": [
    "#20 Find longest word in string"
   ]
  },
  {
   "cell_type": "code",
   "execution_count": 25,
   "id": "a6618dc4-763b-428e-b3bc-f2b59e750e60",
   "metadata": {
    "tags": []
   },
   "outputs": [
    {
     "name": "stdout",
     "output_type": "stream",
     "text": [
      "Longest word: sentence\n"
     ]
    }
   ],
   "source": [
    "def find_longest_word(text):\n",
    "    # Step 1: Use the split() method to split the text into a list of words.\n",
    "    words = text.split()\n",
    "\n",
    "    # Step 2: Initialize variables to keep track of the longest word and its length.\n",
    "    longest_word = \"\"\n",
    "    max_length = 0\n",
    "\n",
    "    # Step 3: Iterate through the list of words.\n",
    "    for word in words:\n",
    "        # Check if the length of the current word is greater than the current max_length.\n",
    "        if len(word) > max_length:\n",
    "            max_length = len(word)\n",
    "            longest_word = word\n",
    "\n",
    "    # Step 4: Return the longest word.\n",
    "    return longest_word\n",
    "\n",
    "# Example usage\n",
    "text = \"This is an example sentence with some long words.\"\n",
    "longest_word = find_longest_word(text)\n",
    "print(\"Longest word:\", longest_word)"
   ]
  },
  {
   "cell_type": "code",
   "execution_count": null,
   "id": "3724546d-a924-48c6-9313-5b65063bcabe",
   "metadata": {},
   "outputs": [],
   "source": [
    "#21 Find shortest word in string"
   ]
  },
  {
   "cell_type": "code",
   "execution_count": 26,
   "id": "75c68473-6e95-464b-92d3-f5e24fbb2692",
   "metadata": {
    "tags": []
   },
   "outputs": [
    {
     "name": "stdout",
     "output_type": "stream",
     "text": [
      "Shortest word: is\n"
     ]
    }
   ],
   "source": [
    "def find_shortest_word(text):\n",
    "    # Step 1: Use the split() method to split the text into a list of words.\n",
    "    words = text.split()\n",
    "\n",
    "    # Step 2: Initialize variables to keep track of the shortest word and its length.\n",
    "    shortest_word = None\n",
    "    min_length = float('inf')  # Initialize to a large value\n",
    "\n",
    "    # Step 3: Iterate through the list of words.\n",
    "    for word in words:\n",
    "        # Check if the length of the current word is smaller than the current min_length.\n",
    "        if len(word) < min_length:\n",
    "            min_length = len(word)\n",
    "            shortest_word = word\n",
    "\n",
    "    # Step 4: Return the shortest word.\n",
    "    return shortest_word\n",
    "\n",
    "# Example usage\n",
    "text = \"This is an example sentence with some short words.\"\n",
    "shortest_word = find_shortest_word(text)\n",
    "print(\"Shortest word:\", shortest_word)"
   ]
  },
  {
   "cell_type": "code",
   "execution_count": null,
   "id": "37aa5f67-a69f-4f29-946a-97a2aab6c808",
   "metadata": {},
   "outputs": [],
   "source": [
    "#22 Reverse the order of words in string"
   ]
  },
  {
   "cell_type": "code",
   "execution_count": 28,
   "id": "35084ef7-c2dd-4cc6-b7af-fcab978dc118",
   "metadata": {
    "tags": []
   },
   "outputs": [
    {
     "name": "stdout",
     "output_type": "stream",
     "text": [
      "happy is life my\n"
     ]
    }
   ],
   "source": [
    "# input string\n",
    "string = \"my life is happy\"\n",
    "# reversing words in a given string\n",
    "s = string.split()[::-1]\n",
    "l = []\n",
    "for i in s:\n",
    "    # appending reversed words to l\n",
    "    l.append(i)\n",
    "# printing reverse words\n",
    "print(\" \".join(l))"
   ]
  },
  {
   "cell_type": "code",
   "execution_count": null,
   "id": "c9d73afc-cde7-47eb-8483-e8a144d25409",
   "metadata": {},
   "outputs": [],
   "source": [
    "#23 Check if a string is alphanumeric"
   ]
  },
  {
   "cell_type": "code",
   "execution_count": 29,
   "id": "b326039f-d988-41a6-83ce-1cf6601ff919",
   "metadata": {
    "tags": []
   },
   "outputs": [
    {
     "name": "stdout",
     "output_type": "stream",
     "text": [
      "The string is alphanumeric.\n"
     ]
    }
   ],
   "source": [
    "def is_alphanumeric(text):\n",
    "    # Step 1: Use the isalnum() method to check if the string is alphanumeric.\n",
    "    return text.isalnum()\n",
    "\n",
    "# Example usage\n",
    "text = \"Hello123\"\n",
    "result = is_alphanumeric(text)\n",
    "if result:\n",
    "    print(\"The string is alphanumeric.\")\n",
    "else:\n",
    "    print(\"The string is not alphanumeric.\")"
   ]
  },
  {
   "cell_type": "code",
   "execution_count": null,
   "id": "6753e86f-0014-472d-8cea-5b4fabe54e86",
   "metadata": {},
   "outputs": [],
   "source": [
    "#24 Extract all digit from string"
   ]
  },
  {
   "cell_type": "code",
   "execution_count": 30,
   "id": "28528955-a2ea-4529-9ed3-b8ee70333390",
   "metadata": {
    "tags": []
   },
   "outputs": [
    {
     "name": "stdout",
     "output_type": "stream",
     "text": [
      "Extracted digits: 123456\n"
     ]
    }
   ],
   "source": [
    "def extract_digits(text):\n",
    "    # Step 1: Initialize an empty string to store the extracted digits.\n",
    "    digits = \"\"\n",
    "\n",
    "    # Step 2: Iterate through each character in the text.\n",
    "    for char in text:\n",
    "        # Check if the character is a digit using the isdigit() method.\n",
    "        if char.isdigit():\n",
    "            # Append the digit to the digits string.\n",
    "            digits += char\n",
    "\n",
    "    # Step 3: Return the extracted digits.\n",
    "    return digits\n",
    "\n",
    "# Example usage\n",
    "text = \"Hello123World456\"\n",
    "extracted_digits = extract_digits(text)\n",
    "print(\"Extracted digits:\", extracted_digits)"
   ]
  },
  {
   "cell_type": "code",
   "execution_count": null,
   "id": "4c099cfc-6f7d-484d-aff3-58915ca27449",
   "metadata": {},
   "outputs": [],
   "source": [
    "#25 Extract all alphabets from string"
   ]
  },
  {
   "cell_type": "code",
   "execution_count": 31,
   "id": "b0f26c0f-474a-413f-a2b8-e123639a9945",
   "metadata": {
    "tags": []
   },
   "outputs": [
    {
     "name": "stdout",
     "output_type": "stream",
     "text": [
      "H e l l o W o r l d\n"
     ]
    }
   ],
   "source": [
    "def extract_alphabets(input_string):\n",
    "    alphabets = ' '.join([char for char in input_string if char.isalpha()])\n",
    "    return alphabets\n",
    "\n",
    "# Example input string\n",
    "input_string = \"Hello123World456\"\n",
    "result = extract_alphabets(input_string)\n",
    "print(result)"
   ]
  },
  {
   "cell_type": "code",
   "execution_count": null,
   "id": "e814458c-9aa0-49ee-93a3-bca3f80aa0ae",
   "metadata": {},
   "outputs": [],
   "source": [
    "#26 Count number of uppercase letters in string"
   ]
  },
  {
   "cell_type": "code",
   "execution_count": 32,
   "id": "b70c5bd4-12b7-471f-8d52-aac862e9fdee",
   "metadata": {
    "tags": []
   },
   "outputs": [
    {
     "name": "stdout",
     "output_type": "stream",
     "text": [
      "6\n"
     ]
    }
   ],
   "source": [
    "def count_uppercase(input_string):\n",
    "    uppercase_count = sum(1 for char in input_string if char.isupper())\n",
    "    return uppercase_count\n",
    "\n",
    "# Example input string\n",
    "input_string = \"HelloWORLD\"\n",
    "result = count_uppercase(input_string)\n",
    "print(result)"
   ]
  },
  {
   "cell_type": "code",
   "execution_count": null,
   "id": "8dfec9d6-e02f-4f48-b89f-f5996e2dd379",
   "metadata": {},
   "outputs": [],
   "source": [
    "#27 Count number of lowercase letters in string"
   ]
  },
  {
   "cell_type": "code",
   "execution_count": 33,
   "id": "d44b74bf-c704-470c-9dfb-08b8ac27b0b7",
   "metadata": {
    "tags": []
   },
   "outputs": [
    {
     "name": "stdout",
     "output_type": "stream",
     "text": [
      "4\n"
     ]
    }
   ],
   "source": [
    "def count_lowercase(input_string):\n",
    "    lowercase_count = sum(1 for char in input_string if char.islower())\n",
    "    return lowercase_count\n",
    "\n",
    "# Example input string\n",
    "input_string = \"HelloWORLD\"\n",
    "result = count_lowercase(input_string)\n",
    "print(result)"
   ]
  },
  {
   "cell_type": "code",
   "execution_count": null,
   "id": "46c929c9-2f3e-42ba-8df2-861cc701dc65",
   "metadata": {},
   "outputs": [],
   "source": [
    "#28 Swap the case of each character in string"
   ]
  },
  {
   "cell_type": "code",
   "execution_count": 34,
   "id": "87369a3a-6ef0-46a3-b62b-d96d6f1c125c",
   "metadata": {
    "tags": []
   },
   "outputs": [
    {
     "name": "stdout",
     "output_type": "stream",
     "text": [
      "hELLOworld\n"
     ]
    }
   ],
   "source": [
    "def swap_case(input_string):\n",
    "    swapped_string = input_string.swapcase()\n",
    "    return swapped_string\n",
    "\n",
    "# Example input string\n",
    "input_string = \"HelloWORLD\"\n",
    "result = swap_case(input_string)\n",
    "print(result)"
   ]
  },
  {
   "cell_type": "code",
   "execution_count": null,
   "id": "8501a2b8-85de-4cdb-9761-11ce4f188d97",
   "metadata": {},
   "outputs": [],
   "source": [
    "#29 Remove a specific word from string"
   ]
  },
  {
   "cell_type": "code",
   "execution_count": null,
   "id": "381ed55a-b911-4642-93c4-44977c1fad39",
   "metadata": {},
   "outputs": [],
   "source": [
    "def remove_word(input_string, word_to_remove):\n",
    "    words = input_string.split()  # Split the input string into a list of words\n",
    "    filtered_words = [word for word in words if word != word_to_remove]  # Create a new list excluding the word to remove\n",
    "    modified_string = ' '.join(filtered_words)  # Join the filtered words back into a string\n",
    "    return modified_string\n",
    "\n",
    "# Example input string and word to remove\n",
    "input_string = \"Hello world, welcome to the world of programming.\"\n",
    "word_to_remove = \"world\"\n",
    "result = remove_word(input_string, word_to_remove)\n",
    "print(result)"
   ]
  },
  {
   "cell_type": "code",
   "execution_count": null,
   "id": "c00a6ea6-745b-4bd8-a477-9d1cd2d7e6d1",
   "metadata": {},
   "outputs": [],
   "source": [
    "#30 Check if string is a valid email address"
   ]
  },
  {
   "cell_type": "code",
   "execution_count": 35,
   "id": "08d34d99-56a7-47b0-8887-e4c7080a34e5",
   "metadata": {
    "tags": []
   },
   "outputs": [
    {
     "name": "stdout",
     "output_type": "stream",
     "text": [
      "True\n",
      "False\n"
     ]
    }
   ],
   "source": [
    "import re  # Import the regular expression module\n",
    "\n",
    "def is_valid_email(email):\n",
    "    pattern = r'^[\\w\\.-]+@[\\w\\.-]+\\.\\w+$'  # Regular expression pattern for a basic email validation\n",
    "    if re.match(pattern, email):\n",
    "        return True\n",
    "    else:\n",
    "        return False\n",
    "\n",
    "# Example email addresses\n",
    "email1 = \"example@email.com\"\n",
    "email2 = \"invalid-email\"\n",
    "result1 = is_valid_email(email1)\n",
    "result2 = is_valid_email(email2)\n",
    "print(result1)\n",
    "print(result2)"
   ]
  },
  {
   "cell_type": "code",
   "execution_count": null,
   "id": "e1e83803-b427-46fa-bdc3-7e440f4edb7e",
   "metadata": {},
   "outputs": [],
   "source": [
    "#31 Extract a username from email address string"
   ]
  },
  {
   "cell_type": "code",
   "execution_count": 36,
   "id": "fc0e3cbe-d152-4712-b0a1-6dd9458fac19",
   "metadata": {
    "tags": []
   },
   "outputs": [
    {
     "name": "stdout",
     "output_type": "stream",
     "text": [
      "example\n"
     ]
    }
   ],
   "source": [
    "def extract_username(email):\n",
    "    username = email.split('@')[0]  # Split the email address at \"@\" and take the first part\n",
    "    return username\n",
    "\n",
    "# Example email address\n",
    "email = \"example@email.com\"\n",
    "result = extract_username(email)\n",
    "print(result)"
   ]
  },
  {
   "cell_type": "markdown",
   "id": "4667a48c-f3da-4575-a214-3d564d52ee6a",
   "metadata": {},
   "source": [
    "#32 Extract domain name from email address string"
   ]
  },
  {
   "cell_type": "code",
   "execution_count": 37,
   "id": "65524c98-17aa-46ee-a4da-965eb84c5abe",
   "metadata": {
    "tags": []
   },
   "outputs": [
    {
     "name": "stdout",
     "output_type": "stream",
     "text": [
      "email.com\n"
     ]
    }
   ],
   "source": [
    "def extract_domain(email):\n",
    "    domain = email.split('@')[1]  # Split the email address at \"@\" and take the second part\n",
    "    return domain\n",
    "\n",
    "# Example email address\n",
    "email = \"example@email.com\"\n",
    "result = extract_domain(email)\n",
    "print(result)"
   ]
  },
  {
   "cell_type": "code",
   "execution_count": null,
   "id": "b573c7bd-e56d-47e4-af09-f225ec5fa0a0",
   "metadata": {},
   "outputs": [],
   "source": [
    "#33 Replace multiple spaces in string with single space"
   ]
  },
  {
   "cell_type": "code",
   "execution_count": 38,
   "id": "e512c015-0e93-4212-a286-7bd97803538b",
   "metadata": {
    "tags": []
   },
   "outputs": [
    {
     "name": "stdout",
     "output_type": "stream",
     "text": [
      "Hello world! How are you?\n"
     ]
    }
   ],
   "source": [
    "def replace_multiple_spaces(input_string):\n",
    "    cleaned_string = ' '.join(input_string.split())  # Split the string at spaces and then join using a single space\n",
    "    return cleaned_string\n",
    "\n",
    "# Example input string with multiple spaces\n",
    "input_string = \"Hello     world!   How   are   you?\"\n",
    "result = replace_multiple_spaces(input_string)\n",
    "print(result)"
   ]
  },
  {
   "cell_type": "code",
   "execution_count": null,
   "id": "77b92c43-510d-4493-85ed-e44c1b98b905",
   "metadata": {},
   "outputs": [],
   "source": [
    "#34 Check if string is a valid URL"
   ]
  },
  {
   "cell_type": "code",
   "execution_count": 39,
   "id": "faefe1af-f026-4100-b4d4-62a252f027be",
   "metadata": {
    "tags": []
   },
   "outputs": [
    {
     "name": "stdout",
     "output_type": "stream",
     "text": [
      "True\n",
      "False\n"
     ]
    }
   ],
   "source": [
    "from urllib.parse import urlparse\n",
    "\n",
    "def is_valid_url(url):\n",
    "    try:\n",
    "        result = urlparse(url)\n",
    "        return all([result.scheme, result.netloc])  # Check if both scheme and netloc are present\n",
    "    except ValueError:\n",
    "        return False\n",
    "\n",
    "# Example URLs\n",
    "url1 = \"https://www.example.com\"\n",
    "url2 = \"invalid-url\"\n",
    "result1 = is_valid_url(url1)\n",
    "result2 = is_valid_url(url2)\n",
    "print(result1)  # Should print True\n",
    "print(result2)  # Should print False"
   ]
  },
  {
   "cell_type": "code",
   "execution_count": null,
   "id": "1c85fc84-00eb-483a-9c89-84d1a10e928b",
   "metadata": {},
   "outputs": [],
   "source": [
    "#35 Extract the protocol from URL string"
   ]
  },
  {
   "cell_type": "code",
   "execution_count": 40,
   "id": "499f5632-b6a3-4f98-b9f8-c9a3e88ec9e4",
   "metadata": {
    "tags": []
   },
   "outputs": [
    {
     "name": "stdout",
     "output_type": "stream",
     "text": [
      "Protocol 1: https\n",
      "Protocol 2: http\n",
      "Protocol 3: ftp\n"
     ]
    }
   ],
   "source": [
    "def extract_protocol(url):\n",
    "    # Find the index of the first occurrence of \"://\"\n",
    "    protocol_end = url.find(\"://\")\n",
    "\n",
    "    if protocol_end != -1:\n",
    "        # Extract the protocol from the URL\n",
    "        protocol = url[:protocol_end]\n",
    "        return protocol\n",
    "    else:\n",
    "        return None\n",
    "\n",
    "# Example URL strings\n",
    "url1 = \"https://www.example.com\"\n",
    "url2 = \"http://google.com\"\n",
    "url3 = \"ftp://ftp.example.com\"\n",
    "\n",
    "# Extract protocols\n",
    "protocol1 = extract_protocol(url1)\n",
    "protocol2 = extract_protocol(url2)\n",
    "protocol3 = extract_protocol(url3)\n",
    "\n",
    "# Print extracted protocols\n",
    "print(\"Protocol 1:\", protocol1)\n",
    "print(\"Protocol 2:\", protocol2)\n",
    "print(\"Protocol 3:\", protocol3)"
   ]
  },
  {
   "cell_type": "code",
   "execution_count": null,
   "id": "9da41bc2-b3d9-4122-b54a-0d040beac7eb",
   "metadata": {},
   "outputs": [],
   "source": [
    "#36 Find frequency of each character in string"
   ]
  },
  {
   "cell_type": "code",
   "execution_count": 41,
   "id": "e8793ea7-344e-4af1-9ceb-b9222cda45c5",
   "metadata": {
    "tags": []
   },
   "outputs": [
    {
     "name": "stdout",
     "output_type": "stream",
     "text": [
      "Character: 'h', Frequency: 1\n",
      "Character: 'e', Frequency: 1\n",
      "Character: 'l', Frequency: 3\n",
      "Character: 'o', Frequency: 2\n",
      "Character: ' ', Frequency: 1\n",
      "Character: 'w', Frequency: 1\n",
      "Character: 'r', Frequency: 1\n",
      "Character: 'd', Frequency: 1\n"
     ]
    }
   ],
   "source": [
    "def character_frequency(input_string):\n",
    "    frequency = {}  # Create an empty dictionary to store character frequencies\n",
    "\n",
    "    for char in input_string:\n",
    "        if char in frequency:\n",
    "            frequency[char] += 1  # Increment the frequency count if the character is already in the dictionary\n",
    "        else:\n",
    "            frequency[char] = 1   # Initialize the frequency count to 1 if the character is not in the dictionary\n",
    "\n",
    "    return frequency\n",
    "\n",
    "# Example string\n",
    "input_str = \"hello world\"\n",
    "\n",
    "# Calculate character frequencies\n",
    "char_freq = character_frequency(input_str)\n",
    "\n",
    "# Print character frequencies\n",
    "for char, freq in char_freq.items():\n",
    "    print(f\"Character: '{char}', Frequency: {freq}\")"
   ]
  },
  {
   "cell_type": "code",
   "execution_count": null,
   "id": "b4793e3a-e02d-4f51-beb4-a327dbc776a3",
   "metadata": {},
   "outputs": [],
   "source": [
    "#37 Remove all puntuations from string"
   ]
  },
  {
   "cell_type": "code",
   "execution_count": 42,
   "id": "e0ff4f87-2377-42d9-9fbc-328d8e6193d0",
   "metadata": {
    "tags": []
   },
   "outputs": [
    {
     "name": "stdout",
     "output_type": "stream",
     "text": [
      "Original string: Hello, world! How's it going?\n",
      "Cleaned string: Hello world Hows it going\n"
     ]
    }
   ],
   "source": [
    "import string\n",
    "\n",
    "def remove_punctuation(input_string):\n",
    "    # Create a translation table to remove punctuation\n",
    "    translator = str.maketrans(\"\", \"\", string.punctuation)\n",
    "\n",
    "    # Use the translation table to remove punctuation from the input string\n",
    "    clean_string = input_string.translate(translator)\n",
    "\n",
    "    return clean_string\n",
    "\n",
    "# Example string with punctuation\n",
    "input_str = \"Hello, world! How's it going?\"\n",
    "\n",
    "# Remove punctuation\n",
    "cleaned_str = remove_punctuation(input_str)\n",
    "\n",
    "# Print the cleaned string\n",
    "print(\"Original string:\", input_str)\n",
    "print(\"Cleaned string:\", cleaned_str)"
   ]
  },
  {
   "cell_type": "code",
   "execution_count": null,
   "id": "aaa25fa7-4080-4057-9b57-792cce6505ff",
   "metadata": {},
   "outputs": [],
   "source": [
    "#38 Check if a string contain only digits"
   ]
  },
  {
   "cell_type": "code",
   "execution_count": 43,
   "id": "65a3948a-5e10-4403-955b-b6b845fcc5d8",
   "metadata": {
    "tags": []
   },
   "outputs": [
    {
     "name": "stdout",
     "output_type": "stream",
     "text": [
      "'12345' contains only digits: True\n",
      "'Hello123' contains only digits: False\n",
      "'456.789' contains only digits: False\n"
     ]
    }
   ],
   "source": [
    "def contains_only_digits(input_string):\n",
    "    # Check if all characters in the string are digits\n",
    "    return input_string.isdigit()\n",
    "\n",
    "# Example strings\n",
    "string1 = \"12345\"\n",
    "string2 = \"Hello123\"\n",
    "string3 = \"456.789\"\n",
    "\n",
    "# Check if strings contain only digits\n",
    "result1 = contains_only_digits(string1)\n",
    "result2 = contains_only_digits(string2)\n",
    "result3 = contains_only_digits(string3)\n",
    "\n",
    "# Print the results\n",
    "print(f\"'{string1}' contains only digits:\", result1)\n",
    "print(f\"'{string2}' contains only digits:\", result2)\n",
    "print(f\"'{string3}' contains only digits:\", result3)"
   ]
  },
  {
   "cell_type": "code",
   "execution_count": null,
   "id": "64945e63-e73a-4c61-902a-2d3a37963b74",
   "metadata": {},
   "outputs": [],
   "source": [
    "#39 Check if string contain only alphabets"
   ]
  },
  {
   "cell_type": "code",
   "execution_count": 44,
   "id": "4920f3df-efc8-4e5f-80b2-dc2e3a96981a",
   "metadata": {
    "tags": []
   },
   "outputs": [
    {
     "name": "stdout",
     "output_type": "stream",
     "text": [
      "'Hello' contains only alphabets: True\n",
      "'Hello123' contains only alphabets: False\n",
      "'12345' contains only alphabets: False\n"
     ]
    }
   ],
   "source": [
    "def contains_only_alphabets(input_string):\n",
    "    # Check if all characters in the string are alphabetic\n",
    "    return input_string.isalpha()\n",
    "\n",
    "# Example strings\n",
    "string1 = \"Hello\"\n",
    "string2 = \"Hello123\"\n",
    "string3 = \"12345\"\n",
    "\n",
    "# Check if strings contain only alphabets\n",
    "result1 = contains_only_alphabets(string1)\n",
    "result2 = contains_only_alphabets(string2)\n",
    "result3 = contains_only_alphabets(string3)\n",
    "\n",
    "# Print the results\n",
    "print(f\"'{string1}' contains only alphabets:\", result1)\n",
    "print(f\"'{string2}' contains only alphabets:\", result2)\n",
    "print(f\"'{string3}' contains only alphabets:\", result3)"
   ]
  },
  {
   "cell_type": "code",
   "execution_count": null,
   "id": "df654ae2-8d6e-4255-9841-1eeaed71c5bd",
   "metadata": {},
   "outputs": [],
   "source": [
    "#40 Convert a string to a list of characters"
   ]
  },
  {
   "cell_type": "code",
   "execution_count": 45,
   "id": "da9101cd-09d0-4fdb-b969-0f6c84ab01f1",
   "metadata": {
    "tags": []
   },
   "outputs": [
    {
     "name": "stdout",
     "output_type": "stream",
     "text": [
      "Original string: Hello, world!\n",
      "List of characters: ['H', 'e', 'l', 'l', 'o', ',', ' ', 'w', 'o', 'r', 'l', 'd', '!']\n"
     ]
    }
   ],
   "source": [
    "def string_to_list(input_string):\n",
    "    # Use list() constructor to convert the string to a list of characters\n",
    "    char_list = list(input_string)\n",
    "    return char_list\n",
    "\n",
    "# Example string\n",
    "input_str = \"Hello, world!\"\n",
    "\n",
    "# Convert the string to a list of characters\n",
    "char_list = string_to_list(input_str)\n",
    "\n",
    "# Print the list of characters\n",
    "print(\"Original string:\", input_str)\n",
    "print(\"List of characters:\", char_list)"
   ]
  },
  {
   "cell_type": "code",
   "execution_count": null,
   "id": "da51ff5d-6dd4-4426-bfd7-a8bb92d3bed7",
   "metadata": {},
   "outputs": [],
   "source": [
    "#41 Check if two string is anagrams"
   ]
  },
  {
   "cell_type": "code",
   "execution_count": 46,
   "id": "e2a42834-b6b1-4907-aa64-aabbe88deb5a",
   "metadata": {
    "tags": []
   },
   "outputs": [
    {
     "name": "stdout",
     "output_type": "stream",
     "text": [
      "'listen' and 'silent' are anagrams: True\n",
      "'hello' and 'world' are anagrams: False\n"
     ]
    }
   ],
   "source": [
    "def are_anagrams(str1, str2):\n",
    "    # Remove spaces and convert strings to lowercase for accurate comparison\n",
    "    str1 = str1.replace(\" \", \"\").lower()\n",
    "    str2 = str2.replace(\" \", \"\").lower()\n",
    "\n",
    "    # Sort the characters in both strings and compare\n",
    "    return sorted(str1) == sorted(str2)\n",
    "\n",
    "# Example strings\n",
    "string1 = \"listen\"\n",
    "string2 = \"silent\"\n",
    "string3 = \"hello\"\n",
    "string4 = \"world\"\n",
    "\n",
    "# Check if strings are anagrams\n",
    "result1 = are_anagrams(string1, string2)\n",
    "result2 = are_anagrams(string3, string4)\n",
    "\n",
    "# Print the results\n",
    "print(f\"'{string1}' and '{string2}' are anagrams:\", result1)\n",
    "print(f\"'{string3}' and '{string4}' are anagrams:\", result2)"
   ]
  },
  {
   "cell_type": "code",
   "execution_count": null,
   "id": "b5827c78-e2c5-4e03-b36e-34f9854ab180",
   "metadata": {},
   "outputs": [],
   "source": [
    "#42 Encode a string using a Caeser cipher"
   ]
  },
  {
   "cell_type": "code",
   "execution_count": 47,
   "id": "e8ddfee4-ad9d-41da-844c-9afa05c1f17f",
   "metadata": {
    "tags": []
   },
   "outputs": [
    {
     "name": "stdout",
     "output_type": "stream",
     "text": [
      "Encoded text: ehoor, zruog!\n"
     ]
    }
   ],
   "source": [
    "# Define a function named caesar_cipher that encodes a string using a Caesar cipher.\n",
    "def caesar_cipher(text, shift):\n",
    "  \"\"\"\n",
    "  Encodes a string using a Caesar cipher.\n",
    "\n",
    "  Args:\n",
    "    text: The string to encode.\n",
    "    shift: The number of positions to shift each letter.\n",
    "\n",
    "  Returns:\n",
    "    The encoded string.\n",
    "  \"\"\"\n",
    "\n",
    "  # Initialize an empty string to store the encoded text.\n",
    "  encoded_text = \"\"\n",
    "\n",
    "  # Iterate through each character in the input text.\n",
    "  for char in text:\n",
    "    # Check if the character is alphabetic.\n",
    "    if char.isalpha():\n",
    "      # Calculate the encoded character's Unicode code point value by shifting it by the specified amount.\n",
    "      # Ensure the value wraps around within the lowercase alphabet range (a-z).\n",
    "      encoded_char = chr((ord(char) + shift - ord('a')) % 26 + ord('a'))\n",
    "    else:\n",
    "      # Keep non-alphabetic characters unchanged.\n",
    "      encoded_char = char\n",
    "\n",
    "    # Add the encoded character to the encoded text.\n",
    "    encoded_text += encoded_char\n",
    "\n",
    "  # Return the resulting encoded text.\n",
    "  return encoded_text\n",
    "\n",
    "# Define the input text and the shift value for encoding.\n",
    "text = \"Hello, world!\"\n",
    "shift = 3\n",
    "\n",
    "# Call the caesar_cipher function to encode the text using the specified shift.\n",
    "encoded_text = caesar_cipher(text, shift)\n",
    "\n",
    "# Print the encoded text.\n",
    "print(\"Encoded text:\", encoded_text)"
   ]
  },
  {
   "cell_type": "code",
   "execution_count": null,
   "id": "77a61005-26f7-4d73-8067-14abda928851",
   "metadata": {},
   "outputs": [],
   "source": [
    "#43 Decode a Caeser cipher encoded strong"
   ]
  },
  {
   "cell_type": "code",
   "execution_count": 48,
   "id": "b5f841e5-ba1c-4dc2-9eae-af280af5d414",
   "metadata": {
    "tags": []
   },
   "outputs": [
    {
     "name": "stdout",
     "output_type": "stream",
     "text": [
      "Decoded text: ilmm, world!\n"
     ]
    }
   ],
   "source": [
    "# Define a function to decode a string using a Caesar cipher\n",
    "def caesar_cipher_decoder(text, shift):\n",
    "    \"\"\"\n",
    "    Decodes a string using a Caesar cipher.\n",
    "\n",
    "    Args:\n",
    "        text: The string to decode.\n",
    "        shift: The number of positions to shift each letter.\n",
    "\n",
    "    Returns:\n",
    "        The decoded string.\n",
    "    \"\"\"\n",
    "\n",
    "    # Initialize an empty string to store the decoded text\n",
    "    decoded_text = \"\"\n",
    "\n",
    "    # Loop through each character in the input text\n",
    "    for char in text:\n",
    "        # Check if the character is an alphabetic character\n",
    "        if char.isalpha():\n",
    "            # Calculate the decoded character using the shift value\n",
    "            decoded_char = chr((ord(char) - shift - ord('a')) % 26 + ord('a'))\n",
    "        else:\n",
    "            # If the character is not alphabetic, keep it unchanged\n",
    "            decoded_char = char\n",
    "\n",
    "        # Add the decoded character to the decoded text\n",
    "        decoded_text += decoded_char\n",
    "\n",
    "    # Return the fully decoded text\n",
    "    return decoded_text\n",
    "\n",
    "# Example input\n",
    "text = \"lopp, zruog!\"\n",
    "shift = 3\n",
    "\n",
    "# Call the caesar_cipher_decoder function to decode the input text\n",
    "decoded_text = caesar_cipher_decoder(text, shift)\n",
    "\n",
    "# Print the decoded text\n",
    "print(\"Decoded text:\", decoded_text)"
   ]
  },
  {
   "cell_type": "code",
   "execution_count": null,
   "id": "beadb6b5-4419-4290-af2a-70734fee877b",
   "metadata": {},
   "outputs": [],
   "source": [
    "#44 Find a most frequent word in string"
   ]
  },
  {
   "cell_type": "code",
   "execution_count": 56,
   "id": "00679e37-d601-40d4-88ce-b6cbfe4f067c",
   "metadata": {
    "tags": []
   },
   "outputs": [
    {
     "name": "stdout",
     "output_type": "stream",
     "text": [
      "The original list is : ['gfg is best for geeks', 'geeks love gfg', 'gfg is best']\n",
      "Word with maximum frequency : gfg\n"
     ]
    }
   ],
   "source": [
    "from collections import defaultdict\n",
    " \n",
    "# initializing Matrix\n",
    "test_list = [\"gfg is best for geeks\", \"geeks love gfg\", \"gfg is best\"]\n",
    " \n",
    "# printing original list\n",
    "print(\"The original list is : \" + str(test_list))\n",
    " \n",
    "temp = defaultdict(int)\n",
    " \n",
    "# memoizing count\n",
    "for sub in test_list:\n",
    "    for wrd in sub.split():\n",
    "        temp[wrd] += 1\n",
    " \n",
    "# getting max frequency\n",
    "res = max(temp, key=temp.get)\n",
    " \n",
    "# printing result\n",
    "print(\"Word with maximum frequency : \" + str(res))"
   ]
  },
  {
   "cell_type": "code",
   "execution_count": null,
   "id": "86be6d81-8bec-4984-87ff-a405c53021e3",
   "metadata": {},
   "outputs": [],
   "source": [
    "#45 Find all unique words in string "
   ]
  },
  {
   "cell_type": "code",
   "execution_count": 57,
   "id": "ce62b31c-a158-425c-a78c-9841f252d0ac",
   "metadata": {
    "tags": []
   },
   "outputs": [
    {
     "name": "stdout",
     "output_type": "stream",
     "text": [
      "Unique words: {'there', 'hows', 'the', 'hello', 'world'}\n"
     ]
    }
   ],
   "source": [
    "import re\n",
    "\n",
    "def unique_words(input_string):\n",
    "    # Remove punctuation and convert to lowercase\n",
    "    clean_string = re.sub(r'[^\\w\\s]', '', input_string).lower()\n",
    "\n",
    "    # Split the string into words and convert to a set for uniqueness\n",
    "    words = set(clean_string.split())\n",
    "\n",
    "    return words\n",
    "\n",
    "# Example string\n",
    "input_str = \"Hello world, hello there! How's the world?\"\n",
    "\n",
    "# Find unique words\n",
    "unique_word_set = unique_words(input_str)\n",
    "\n",
    "# Print the result\n",
    "print(\"Unique words:\", unique_word_set)"
   ]
  },
  {
   "cell_type": "code",
   "execution_count": null,
   "id": "b87161b4-0b0d-434e-a30b-92a5ceb46285",
   "metadata": {},
   "outputs": [],
   "source": [
    "#46 Count the number of syllabus in a string"
   ]
  },
  {
   "cell_type": "code",
   "execution_count": 59,
   "id": "401045a3-3d17-43aa-af32-bd4664ea5cd9",
   "metadata": {
    "tags": []
   },
   "outputs": [
    {
     "name": "stdout",
     "output_type": "stream",
     "text": [
      "'hello' has 2 syllables.\n",
      "'banana' has 3 syllables.\n",
      "'syllable' has 3 syllables.\n"
     ]
    }
   ],
   "source": [
    "import re\n",
    "\n",
    "def count_syllables(word):\n",
    "    # Count vowel groups using regular expression\n",
    "    vowel_groups = re.findall(r'[aeiouy]+', word, re.IGNORECASE)\n",
    "\n",
    "    return len(vowel_groups)\n",
    "\n",
    "# Example words\n",
    "word1 = \"hello\"\n",
    "word2 = \"banana\"\n",
    "word3 = \"syllable\"\n",
    "\n",
    "# Count syllables\n",
    "syllables1 = count_syllables(word1)\n",
    "syllables2 = count_syllables(word2)\n",
    "syllables3 = count_syllables(word3)\n",
    "\n",
    "# Print the results\n",
    "print(f\"'{word1}' has {syllables1} syllables.\")\n",
    "print(f\"'{word2}' has {syllables2} syllables.\")\n",
    "print(f\"'{word3}' has {syllables3} syllables.\")"
   ]
  },
  {
   "cell_type": "code",
   "execution_count": null,
   "id": "bb0e6d61-b277-410b-a328-d5703650f74f",
   "metadata": {},
   "outputs": [],
   "source": [
    "#47 Check if string contain special charactwrs"
   ]
  },
  {
   "cell_type": "code",
   "execution_count": 60,
   "id": "1e5dcd8d-90d6-405f-986b-70642c272e7d",
   "metadata": {
    "tags": []
   },
   "outputs": [
    {
     "name": "stdout",
     "output_type": "stream",
     "text": [
      "'Hello, world!' contains special characters: True\n",
      "'This is a test.' contains special characters: True\n",
      "'Special@Characters' contains special characters: True\n"
     ]
    }
   ],
   "source": [
    "import re\n",
    "\n",
    "def contains_special_characters(input_string):\n",
    "    # Define a regular expression pattern to match special characters\n",
    "    pattern = re.compile(r'[!@#$%^&*()_+{}\\[\\]:;<>,.?~\\\\/]')\n",
    "\n",
    "    # Use the search() method to find a match\n",
    "    match = pattern.search(input_string)\n",
    "\n",
    "    # Return True if a match is found, False otherwise\n",
    "    return bool(match)\n",
    "\n",
    "# Example strings\n",
    "string1 = \"Hello, world!\"\n",
    "string2 = \"This is a test.\"\n",
    "string3 = \"Special@Characters\"\n",
    "\n",
    "# Check if strings contain special characters\n",
    "result1 = contains_special_characters(string1)\n",
    "result2 = contains_special_characters(string2)\n",
    "result3 = contains_special_characters(string3)\n",
    "\n",
    "# Print the results\n",
    "print(f\"'{string1}' contains special characters:\", result1)\n",
    "print(f\"'{string2}' contains special characters:\", result2)\n",
    "print(f\"'{string3}' contains special characters:\", result3)"
   ]
  },
  {
   "cell_type": "code",
   "execution_count": null,
   "id": "713ffeab-f700-4fb0-a857-e6db9f83a677",
   "metadata": {},
   "outputs": [],
   "source": [
    "#48 Remove nth word from string"
   ]
  },
  {
   "cell_type": "code",
   "execution_count": 61,
   "id": "2132364d-318e-44df-a3ed-06756233ef63",
   "metadata": {
    "tags": []
   },
   "outputs": [
    {
     "name": "stdout",
     "output_type": "stream",
     "text": [
      "Original string: This is an example sentence to test the function.\n",
      "Modified string: This is an sentence to test the function.\n",
      "Removed word: example\n"
     ]
    }
   ],
   "source": [
    "def remove_nth_word(input_string, n):\n",
    "    # Split the input string into words\n",
    "    words = input_string.split()\n",
    "\n",
    "    # Check if n is within a valid range\n",
    "    if n >= 1 and n <= len(words):\n",
    "        # Remove the nth word by excluding it from the words list\n",
    "        removed_word = words.pop(n - 1)\n",
    "\n",
    "        # Join the remaining words to form the modified string\n",
    "        modified_string = ' '.join(words)\n",
    "\n",
    "        return modified_string, removed_word\n",
    "    else:\n",
    "        return None, None\n",
    "\n",
    "# Example string and n value\n",
    "input_str = \"This is an example sentence to test the function.\"\n",
    "n_value = 4\n",
    "\n",
    "# Remove the nth word\n",
    "modified_str, removed_word = remove_nth_word(input_str, n_value)\n",
    "\n",
    "# Print the results\n",
    "print(\"Original string:\", input_str)\n",
    "if modified_str is not None:\n",
    "    print(\"Modified string:\", modified_str)\n",
    "    print(\"Removed word:\", removed_word)\n",
    "else:\n",
    "    print(\"Invalid n value.\")"
   ]
  },
  {
   "cell_type": "code",
   "execution_count": null,
   "id": "4faaf600-2222-4159-9f22-044265292a97",
   "metadata": {},
   "outputs": [],
   "source": [
    "#49 Insert a word at nth position in string"
   ]
  },
  {
   "cell_type": "code",
   "execution_count": 1,
   "id": "73b6cc26-3dc6-4160-a5c9-f27f1116197d",
   "metadata": {},
   "outputs": [
    {
     "name": "stdout",
     "output_type": "stream",
     "text": [
      "This is new a sample string.\n"
     ]
    }
   ],
   "source": [
    "def insert_word_at_nth_position(original_string, word, n):\n",
    "    # Split the original string into a list of words\n",
    "    words_list = original_string.split()\n",
    "    \n",
    "    # Insert the word at the nth position\n",
    "    words_list.insert(n - 1, word)\n",
    "    \n",
    "    # Join the words back together into a string\n",
    "    modified_string = ' '.join(words_list)\n",
    "    \n",
    "    return modified_string\n",
    "original_str = \"This is a sample string.\"\n",
    "word_to_insert = \"new\"\n",
    "position = 3\n",
    "\n",
    "result = insert_word_at_nth_position(original_str, word_to_insert, position)\n",
    "print(result)\n",
    "\n"
   ]
  },
  {
   "cell_type": "code",
   "execution_count": null,
   "id": "78a69377-11bf-483c-aaa7-22659fd46806",
   "metadata": {},
   "outputs": [],
   "source": [
    "#50 Convert a CSV string to a list of lists"
   ]
  },
  {
   "cell_type": "code",
   "execution_count": 62,
   "id": "67efca3f-328a-40c0-ae9b-20fd791c85a3",
   "metadata": {
    "tags": []
   },
   "outputs": [
    {
     "name": "stdout",
     "output_type": "stream",
     "text": [
      "['Name', ' Age', ' Country']\n",
      "['John', ' 25', ' USA']\n",
      "['Alice', ' 30', ' Canada']\n",
      "['Bob', ' 22', ' UK']\n"
     ]
    }
   ],
   "source": [
    "def csv_string_to_list(csv_string):\n",
    "    # Split the CSV string into lines\n",
    "    lines = csv_string.split('\\n')\n",
    "\n",
    "    # Initialize an empty list to store the result\n",
    "    result = []\n",
    "\n",
    "    for line in lines:\n",
    "        # Split each line into fields using comma as the delimiter\n",
    "        fields = line.split(',')\n",
    "\n",
    "        # Append the fields to the result list as a row\n",
    "        result.append(fields)\n",
    "\n",
    "    return result\n",
    "\n",
    "# Example CSV string\n",
    "csv_data = \"Name, Age, Country\\nJohn, 25, USA\\nAlice, 30, Canada\\nBob, 22, UK\"\n",
    "\n",
    "# Convert CSV string to a list of lists\n",
    "list_of_lists = csv_string_to_list(csv_data)\n",
    "\n",
    "# Print the result\n",
    "for row in list_of_lists:\n",
    "    print(row)"
   ]
  },
  {
   "cell_type": "code",
   "execution_count": null,
   "id": "74d38007-85d7-4b10-ba1b-9c74994f0d3b",
   "metadata": {},
   "outputs": [],
   "source": [
    "#List based problems"
   ]
  },
  {
   "cell_type": "code",
   "execution_count": null,
   "id": "6886b449-b678-4953-a9c4-519d7c3c7571",
   "metadata": {},
   "outputs": [],
   "source": [
    "#1 Create a list from integer 1 to 10"
   ]
  },
  {
   "cell_type": "code",
   "execution_count": 2,
   "id": "deb49700-dd05-4963-80c5-8e9eb5ccb224",
   "metadata": {
    "tags": []
   },
   "outputs": [
    {
     "name": "stdout",
     "output_type": "stream",
     "text": [
      "[1, 2, 3, 4, 5, 6, 7, 8, 9, 10]\n"
     ]
    }
   ],
   "source": [
    "# Use a list comprehension to create a list of integers from 1 to 10\n",
    "integer_list = [i for i in range(1, 11)]\n",
    "\n",
    "# Print the list\n",
    "print(integer_list)"
   ]
  },
  {
   "cell_type": "code",
   "execution_count": null,
   "id": "95162385-9f62-4e05-8070-723e0a13b371",
   "metadata": {},
   "outputs": [],
   "source": [
    "#2 Find length of string without using len() function "
   ]
  },
  {
   "cell_type": "code",
   "execution_count": 3,
   "id": "775ef3f1-c628-4444-b140-af7473e69018",
   "metadata": {
    "tags": []
   },
   "outputs": [
    {
     "name": "stdout",
     "output_type": "stream",
     "text": [
      "Length of the list: 5\n"
     ]
    }
   ],
   "source": [
    "def custom_len(input_list):\n",
    "    count = 0\n",
    "    for _ in input_list:\n",
    "        count += 1\n",
    "    return count\n",
    "\n",
    "# Example list\n",
    "my_list = [10, 20, 30, 40, 50]\n",
    "\n",
    "# Find the length of the list using the custom_len function\n",
    "length = custom_len(my_list)\n",
    "\n",
    "# Print the length of the list\n",
    "print(\"Length of the list:\", length)"
   ]
  },
  {
   "cell_type": "code",
   "execution_count": null,
   "id": "6c97f25a-8708-429e-b9bf-1f29c39245f0",
   "metadata": {},
   "outputs": [],
   "source": [
    "#3 Append an elenment at end of list"
   ]
  },
  {
   "cell_type": "code",
   "execution_count": 5,
   "id": "3298ec4d-e87e-40d0-9f90-a8387500214d",
   "metadata": {
    "tags": []
   },
   "outputs": [
    {
     "name": "stdout",
     "output_type": "stream",
     "text": [
      "Updated list: [10, 20, 30, 40]\n"
     ]
    }
   ],
   "source": [
    "# Example list\n",
    "my_list = [10, 20, 30]\n",
    "\n",
    "# Element to append\n",
    "new_element = 40\n",
    "\n",
    "# Append the new element to the end of the list\n",
    "my_list.append(new_element)\n",
    "\n",
    "# Print the updated list\n",
    "print(\"Updated list:\", my_list)"
   ]
  },
  {
   "cell_type": "code",
   "execution_count": null,
   "id": "71937715-26a3-46c9-a33b-37771430617d",
   "metadata": {},
   "outputs": [],
   "source": [
    "#4 Insert element at specific index in string"
   ]
  },
  {
   "cell_type": "code",
   "execution_count": 6,
   "id": "caf7a641-0dc7-4d86-8c8f-dd3f9068a1da",
   "metadata": {
    "tags": []
   },
   "outputs": [
    {
     "name": "stdout",
     "output_type": "stream",
     "text": [
      "Updated list: [10, 20, 25, 30, 40, 50]\n"
     ]
    }
   ],
   "source": [
    "# Example list\n",
    "my_list = [10, 20, 30, 40, 50]\n",
    "\n",
    "# Element to insert\n",
    "new_element = 25\n",
    "\n",
    "# Index at which to insert the element\n",
    "index_to_insert = 2\n",
    "\n",
    "# Insert the new element at the specified index\n",
    "my_list.insert(index_to_insert, new_element)\n",
    "\n",
    "# Print the updated list\n",
    "print(\"Updated list:\", my_list)"
   ]
  },
  {
   "cell_type": "code",
   "execution_count": null,
   "id": "9a9eb24c-8013-4ae0-aa6e-c80afd7f548f",
   "metadata": {},
   "outputs": [],
   "source": [
    "#5 Remove an element from list by its value"
   ]
  },
  {
   "cell_type": "code",
   "execution_count": 7,
   "id": "7da9e04b-0975-4fde-8854-5111010ec054",
   "metadata": {
    "tags": []
   },
   "outputs": [
    {
     "name": "stdout",
     "output_type": "stream",
     "text": [
      "Updated list: [10, 20, 40, 50]\n"
     ]
    }
   ],
   "source": [
    "# Example list\n",
    "my_list = [10, 20, 30, 40, 50]\n",
    "\n",
    "# Element to remove\n",
    "element_to_remove = 30\n",
    "\n",
    "# Remove the element by its value\n",
    "my_list.remove(element_to_remove)\n",
    "\n",
    "# Print the updated list\n",
    "print(\"Updated list:\", my_list)"
   ]
  },
  {
   "cell_type": "code",
   "execution_count": null,
   "id": "27daa209-de81-4887-a3f1-2bd73eaf2cb8",
   "metadata": {},
   "outputs": [],
   "source": [
    "#6 Remove element from list by its index"
   ]
  },
  {
   "cell_type": "code",
   "execution_count": 8,
   "id": "54120f16-3aa1-46ed-89aa-0aed99d070d8",
   "metadata": {
    "tags": []
   },
   "outputs": [
    {
     "name": "stdout",
     "output_type": "stream",
     "text": [
      "Updated list: [10, 20, 40, 50]\n",
      "Removed element: 30\n"
     ]
    }
   ],
   "source": [
    "# Example list\n",
    "my_list = [10, 20, 30, 40, 50]\n",
    "\n",
    "# Index of the element to remove\n",
    "index_to_remove = 2\n",
    "\n",
    "# Remove the element at the specified index\n",
    "removed_element = my_list.pop(index_to_remove)\n",
    "\n",
    "# Print the updated list and the removed element\n",
    "print(\"Updated list:\", my_list)\n",
    "print(\"Removed element:\", removed_element)"
   ]
  },
  {
   "cell_type": "code",
   "execution_count": null,
   "id": "6cbab1df-79a4-421c-ac83-291dba4095e3",
   "metadata": {},
   "outputs": [],
   "source": [
    "#7 Check if element exists in list"
   ]
  },
  {
   "cell_type": "code",
   "execution_count": 9,
   "id": "cb289042-e8a9-456f-9b9d-80f98a044d55",
   "metadata": {
    "tags": []
   },
   "outputs": [
    {
     "name": "stdout",
     "output_type": "stream",
     "text": [
      "30 exists in the list.\n"
     ]
    }
   ],
   "source": [
    "# Example list\n",
    "my_list = [10, 20, 30, 40, 50]\n",
    "\n",
    "# Element to check\n",
    "element_to_check = 30\n",
    "\n",
    "# Check if the element exists in the list\n",
    "if element_to_check in my_list:\n",
    "    print(f\"{element_to_check} exists in the list.\")\n",
    "else:\n",
    "    print(f\"{element_to_check} does not exist in the list.\")"
   ]
  },
  {
   "cell_type": "code",
   "execution_count": null,
   "id": "90db1541-a96c-4e2f-87c6-2d817b11c42f",
   "metadata": {},
   "outputs": [],
   "source": [
    "#8 Find index of first occurrence in list"
   ]
  },
  {
   "cell_type": "code",
   "execution_count": 11,
   "id": "31f51bc2-0b26-493b-9533-d1ef76b0761a",
   "metadata": {
    "tags": []
   },
   "outputs": [
    {
     "name": "stdout",
     "output_type": "stream",
     "text": [
      "The index of 30 is 2\n"
     ]
    }
   ],
   "source": [
    "# Example list\n",
    "my_list = [10, 20, 30, 40, 50, 30]\n",
    "\n",
    "# Element to find the index of\n",
    "element_to_find = 30\n",
    "\n",
    "# Find the index of the first occurrence of the element\n",
    "index = my_list.index(element_to_find)\n",
    "\n",
    "# Print the index\n",
    "print(f\"The index of {element_to_find} is {index}\")"
   ]
  },
  {
   "cell_type": "code",
   "execution_count": null,
   "id": "cfe33b50-f00e-4be7-a70b-b550c7e607ab",
   "metadata": {},
   "outputs": [],
   "source": [
    "#9 Find occurrence of element in list"
   ]
  },
  {
   "cell_type": "code",
   "execution_count": 13,
   "id": "ee5458ed-dc60-484a-bbcf-fc3507791dc0",
   "metadata": {
    "tags": []
   },
   "outputs": [
    {
     "name": "stdout",
     "output_type": "stream",
     "text": [
      "The element 30 occurs 3 times in the list.\n"
     ]
    }
   ],
   "source": [
    "# Example list\n",
    "my_list = [10, 20, 30, 40, 50, 30, 30]\n",
    "\n",
    "# Element to count occurrences of\n",
    "element_to_count = 30\n",
    "\n",
    "# Count the occurrences of the element\n",
    "count = my_list.count(element_to_count)\n",
    "\n",
    "# Print the count\n",
    "print(f\"The element {element_to_count} occurs {count} times in the list.\")"
   ]
  },
  {
   "cell_type": "code",
   "execution_count": null,
   "id": "a2a46c1b-8df3-4546-8e5b-9d569b782483",
   "metadata": {},
   "outputs": [],
   "source": [
    "#10 Reverse order of string in list"
   ]
  },
  {
   "cell_type": "code",
   "execution_count": null,
   "id": "c8cdc556-1da4-4bd2-a4b4-54f44a6b2493",
   "metadata": {},
   "outputs": [],
   "source": [
    "# Example list\n",
    "my_list = [10, 20, 30, 40, 50]\n",
    "ac\n",
    "# Reverse the order of elements in the list\n",
    "my_list.reverse()\n",
    "\n",
    "# Print the reversed list\n",
    "print(\"Reversed list:\", my_list)"
   ]
  },
  {
   "cell_type": "code",
   "execution_count": null,
   "id": "136b0991-e56f-42a7-b752-553daea71269",
   "metadata": {},
   "outputs": [],
   "source": [
    "#11 Sort a list in ascending order "
   ]
  },
  {
   "cell_type": "code",
   "execution_count": 1,
   "id": "47cb7db5-46fa-494e-921a-7403c376444f",
   "metadata": {
    "tags": []
   },
   "outputs": [
    {
     "name": "stdout",
     "output_type": "stream",
     "text": [
      "Sorted list in ascending order: [10, 20, 30, 40, 50]\n"
     ]
    }
   ],
   "source": [
    "# Example list\n",
    "my_list = [50, 10, 30, 40, 20]\n",
    "\n",
    "# Sort the list in ascending order\n",
    "my_list.sort()\n",
    "\n",
    "# Print the sorted list\n",
    "print(\"Sorted list in ascending order:\", my_list)"
   ]
  },
  {
   "cell_type": "code",
   "execution_count": null,
   "id": "c4344e39-8ccc-4d52-9e22-3dfe7cb4c620",
   "metadata": {},
   "outputs": [],
   "source": [
    "#12 Sort a list in descending order"
   ]
  },
  {
   "cell_type": "code",
   "execution_count": 2,
   "id": "e36759ce-05de-4f5c-9f88-222b5eb39169",
   "metadata": {
    "tags": []
   },
   "outputs": [
    {
     "name": "stdout",
     "output_type": "stream",
     "text": [
      "Sorted list in descending order: [50, 40, 30, 20, 10]\n"
     ]
    }
   ],
   "source": [
    "# Example list\n",
    "my_list = [50, 10, 30, 40, 20]\n",
    "\n",
    "# Sort the list in descending order\n",
    "my_list.sort(reverse=True)\n",
    "\n",
    "# Print the sorted list\n",
    "print(\"Sorted list in descending order:\", my_list)"
   ]
  },
  {
   "cell_type": "code",
   "execution_count": null,
   "id": "710f4210-c19f-47bc-85a5-643de41efc60",
   "metadata": {},
   "outputs": [],
   "source": [
    "#13 Create a list of even numbers from 1 to20"
   ]
  },
  {
   "cell_type": "code",
   "execution_count": 3,
   "id": "8655da5d-fdab-4754-a808-59992588b498",
   "metadata": {
    "tags": []
   },
   "outputs": [
    {
     "name": "stdout",
     "output_type": "stream",
     "text": [
      "List of even numbers: [2, 4, 6, 8, 10, 12, 14, 16, 18, 20]\n"
     ]
    }
   ],
   "source": [
    "# Use a list comprehension to create a list of even numbers from 1 to 20\n",
    "even_numbers = [x for x in range(2, 21, 2)]\n",
    "\n",
    "# Print the list of even numbers\n",
    "print(\"List of even numbers:\", even_numbers)"
   ]
  },
  {
   "cell_type": "code",
   "execution_count": null,
   "id": "2ae7a017-61f4-470a-90f5-42fb08b90845",
   "metadata": {},
   "outputs": [],
   "source": [
    "#14 Create a list of odd numbers from 1 to 20"
   ]
  },
  {
   "cell_type": "code",
   "execution_count": 4,
   "id": "ec0fccb4-76db-4a3d-a2dd-7c01bc2e27eb",
   "metadata": {
    "tags": []
   },
   "outputs": [
    {
     "name": "stdout",
     "output_type": "stream",
     "text": [
      "List of odd numbers: [1, 3, 5, 7, 9, 11, 13, 15, 17, 19]\n"
     ]
    }
   ],
   "source": [
    "# Use a list comprehension to create a list of odd numbers from 1 to 20\n",
    "odd_numbers = [x for x in range(1, 21, 2)]\n",
    "\n",
    "# Print the list of odd numbers\n",
    "print(\"List of odd numbers:\", odd_numbers)"
   ]
  },
  {
   "cell_type": "code",
   "execution_count": null,
   "id": "100730a8-5c69-43fc-a989-7a57b55ddb38",
   "metadata": {},
   "outputs": [],
   "source": [
    "#15 Find sum of all elements in list"
   ]
  },
  {
   "cell_type": "code",
   "execution_count": 5,
   "id": "5bb9a883-aa17-464c-b268-80e6c93bf15b",
   "metadata": {
    "tags": []
   },
   "outputs": [
    {
     "name": "stdout",
     "output_type": "stream",
     "text": [
      "Sum of elements: 150\n"
     ]
    }
   ],
   "source": [
    "# Example list\n",
    "my_list = [10, 20, 30, 40, 50]\n",
    "\n",
    "# Calculate the sum of all elements in the list\n",
    "total_sum = sum(my_list)\n",
    "\n",
    "# Print the sum\n",
    "print(\"Sum of elements:\", total_sum)"
   ]
  },
  {
   "cell_type": "code",
   "execution_count": null,
   "id": "19b44981-c48a-408d-96fe-c42afe3c5376",
   "metadata": {},
   "outputs": [],
   "source": [
    "#16 Find maximum value in list"
   ]
  },
  {
   "cell_type": "code",
   "execution_count": 6,
   "id": "964959f8-d901-4a9e-bb3b-0bd358d2e9be",
   "metadata": {
    "tags": []
   },
   "outputs": [
    {
     "name": "stdout",
     "output_type": "stream",
     "text": [
      "Maximum value: 50\n"
     ]
    }
   ],
   "source": [
    "# Example list\n",
    "my_list = [10, 20, 30, 40, 50]\n",
    "\n",
    "# Find the maximum value in the list\n",
    "max_value = max(my_list)\n",
    "\n",
    "# Print the maximum value\n",
    "print(\"Maximum value:\", max_value)"
   ]
  },
  {
   "cell_type": "code",
   "execution_count": null,
   "id": "b972d08c-0638-4033-961a-5fb309521055",
   "metadata": {},
   "outputs": [],
   "source": [
    "#17 Find minimum value in list"
   ]
  },
  {
   "cell_type": "code",
   "execution_count": 7,
   "id": "8addc1a8-1212-4136-8e4b-6165afeae0ff",
   "metadata": {
    "tags": []
   },
   "outputs": [
    {
     "name": "stdout",
     "output_type": "stream",
     "text": [
      "Minimum value: 10\n"
     ]
    }
   ],
   "source": [
    "# Example list\n",
    "my_list = [10, 20, 30, 40, 50]\n",
    "\n",
    "# Find the minimum value in the list\n",
    "min_value = min(my_list)\n",
    "\n",
    "# Print the minimum value\n",
    "print(\"Minimum value:\", min_value)"
   ]
  },
  {
   "cell_type": "code",
   "execution_count": null,
   "id": "a9df6499-0998-4ac6-b22c-56708300a52d",
   "metadata": {},
   "outputs": [],
   "source": [
    "#18 Create list of squares from 1 to 10"
   ]
  },
  {
   "cell_type": "code",
   "execution_count": 8,
   "id": "6a11ca6c-12ba-468d-9a35-c11266320173",
   "metadata": {
    "tags": []
   },
   "outputs": [
    {
     "name": "stdout",
     "output_type": "stream",
     "text": [
      "List of squares: [1, 4, 9, 16, 25, 36, 49, 64, 81, 100]\n"
     ]
    }
   ],
   "source": [
    "# Use a list comprehension to create a list of squares of numbers from 1 to 10\n",
    "squares = [x ** 2 for x in range(1, 11)]\n",
    "\n",
    "# Print the list of squares\n",
    "print(\"List of squares:\", squares)"
   ]
  },
  {
   "cell_type": "code",
   "execution_count": null,
   "id": "777d411a-a639-46a1-bc41-bbf1ecf8eea8",
   "metadata": {},
   "outputs": [],
   "source": [
    "#19 Create a list of random numbers"
   ]
  },
  {
   "cell_type": "code",
   "execution_count": 10,
   "id": "6d5c0ea1-092a-4ba1-917c-1618c6c8b35c",
   "metadata": {
    "tags": []
   },
   "outputs": [
    {
     "name": "stdout",
     "output_type": "stream",
     "text": [
      "List of random integers: [83, 97, 96, 75, 81, 2, 12, 93, 69, 4]\n"
     ]
    }
   ],
   "source": [
    "import random\n",
    "\n",
    "# Create a list of random integers between 1 and 100\n",
    "random_integers = [random.randint(1, 100) for _ in range(10)]\n",
    "\n",
    "# Print the list of random integers\n",
    "print(\"List of random integers:\", random_integers)"
   ]
  },
  {
   "cell_type": "code",
   "execution_count": null,
   "id": "1f6535f6-7ac5-4619-905e-4774992b231c",
   "metadata": {},
   "outputs": [],
   "source": [
    "#20 Remove duplicate numbers"
   ]
  },
  {
   "cell_type": "code",
   "execution_count": 11,
   "id": "c7cf43ff-bd86-4ab2-b04f-00a7c8359f79",
   "metadata": {
    "tags": []
   },
   "outputs": [
    {
     "name": "stdout",
     "output_type": "stream",
     "text": [
      "List without duplicates: [40, 10, 50, 20, 30]\n"
     ]
    }
   ],
   "source": [
    "# Example list with duplicates\n",
    "my_list = [10, 20, 30, 20, 40, 10, 50, 30]\n",
    "\n",
    "# Remove duplicates by converting to a set and back to a list\n",
    "unique_list = list(set(my_list))\n",
    "\n",
    "# Print the list without duplicates\n",
    "print(\"List without duplicates:\", unique_list)"
   ]
  },
  {
   "cell_type": "code",
   "execution_count": null,
   "id": "4fd7d24c-7941-4d51-8303-878dfaa0b796",
   "metadata": {},
   "outputs": [],
   "source": [
    "#21 Find common elements between two list"
   ]
  },
  {
   "cell_type": "code",
   "execution_count": 13,
   "id": "9b608fae-953c-4f1d-bfe3-186980e971da",
   "metadata": {
    "tags": []
   },
   "outputs": [
    {
     "name": "stdout",
     "output_type": "stream",
     "text": [
      "{5}\n"
     ]
    }
   ],
   "source": [
    "def common_member(a, b):\n",
    "    a_set = set(a)\n",
    "    b_set = set(b)\n",
    " #check both list have common element\n",
    "    if (a_set & b_set):\n",
    "        print(a_set & b_set)\n",
    "    else:\n",
    "        print(\"No common elements\") \n",
    "          \n",
    "#define two list  \n",
    "a = [1, 2, 3, 4, 5]\n",
    "b = [5, 6, 7, 8, 9]\n",
    "common_member(a, b)"
   ]
  },
  {
   "cell_type": "code",
   "execution_count": null,
   "id": "7b70fc5c-f66b-4241-acbb-fce885e7f9ec",
   "metadata": {},
   "outputs": [],
   "source": [
    "#22 Find difference between two list"
   ]
  },
  {
   "cell_type": "code",
   "execution_count": 14,
   "id": "161b67dd-c0ec-4761-8811-96741e789a48",
   "metadata": {
    "tags": []
   },
   "outputs": [
    {
     "name": "stdout",
     "output_type": "stream",
     "text": [
      "Difference between lists: [20, 10]\n"
     ]
    }
   ],
   "source": [
    "# Example lists\n",
    "list1 = [10, 20, 30, 40, 50]\n",
    "list2 = [30, 40, 50, 60, 70]\n",
    "\n",
    "# Find the difference between lists using the difference() method\n",
    "difference = list(set(list1).difference(list2))\n",
    "\n",
    "# Print the difference\n",
    "print(\"Difference between lists:\", difference)"
   ]
  },
  {
   "cell_type": "code",
   "execution_count": null,
   "id": "bab5fd15-d724-4502-8d20-ed559ad3fcb5",
   "metadata": {},
   "outputs": [],
   "source": [
    "#23 merge two lists"
   ]
  },
  {
   "cell_type": "code",
   "execution_count": 15,
   "id": "52d5c7b0-44f9-4e7a-9033-0f7af6f0d842",
   "metadata": {
    "tags": []
   },
   "outputs": [
    {
     "name": "stdout",
     "output_type": "stream",
     "text": [
      "Merged list: [10, 20, 30, 40, 50, 60]\n"
     ]
    }
   ],
   "source": [
    "# Example lists\n",
    "list1 = [10, 20, 30]\n",
    "list2 = [40, 50, 60]\n",
    "\n",
    "# Merge lists using the + operator\n",
    "merged_list = list1 + list2\n",
    "\n",
    "# Print the merged list\n",
    "print(\"Merged list:\", merged_list)"
   ]
  },
  {
   "cell_type": "code",
   "execution_count": null,
   "id": "605d6b57-5602-4fdc-a9c5-7dcda399d839",
   "metadata": {},
   "outputs": [],
   "source": [
    "#24 Multiply all elements in list by 2"
   ]
  },
  {
   "cell_type": "code",
   "execution_count": 16,
   "id": "d5f486aa-752a-46bf-a37f-eb4790d3f2a8",
   "metadata": {
    "tags": []
   },
   "outputs": [
    {
     "name": "stdout",
     "output_type": "stream",
     "text": [
      "Multiplied list: [20, 40, 60, 80, 100]\n"
     ]
    }
   ],
   "source": [
    "# Example list\n",
    "my_list = [10, 20, 30, 40, 50]\n",
    "\n",
    "# Multiply all elements by 2 using a list comprehension\n",
    "multiplied_list = [x * 2 for x in my_list]\n",
    "\n",
    "# Print the multiplied list\n",
    "print(\"Multiplied list:\", multiplied_list)"
   ]
  },
  {
   "cell_type": "code",
   "execution_count": null,
   "id": "aa97296f-49c5-4126-928c-704dcdb36095",
   "metadata": {},
   "outputs": [],
   "source": [
    "#25 Filter out all even numbers from list"
   ]
  },
  {
   "cell_type": "code",
   "execution_count": 17,
   "id": "62afa2ca-47d1-41a1-9a0b-8632bd2cf3c6",
   "metadata": {
    "tags": []
   },
   "outputs": [
    {
     "name": "stdout",
     "output_type": "stream",
     "text": [
      "[2, 4]\n"
     ]
    }
   ],
   "source": [
    "# Initialisation of list\n",
    "lis = [1, 2, 3, 4, 5]\n",
    " \n",
    "# Output list initialisation\n",
    "out = []\n",
    " \n",
    "for num in lis:\n",
    " \n",
    "    # checking condition\n",
    "    if num % 2 == 0:\n",
    "        out.append(num)\n",
    " \n",
    " \n",
    "# printing output\n",
    "print(out)"
   ]
  },
  {
   "cell_type": "code",
   "execution_count": null,
   "id": "315aff13-6231-44f7-ae14-43d8d547d605",
   "metadata": {},
   "outputs": [],
   "source": [
    "#26 Convert a list of string to list of integer"
   ]
  },
  {
   "cell_type": "code",
   "execution_count": 18,
   "id": "7113fd5a-8769-4e67-82a1-3a7feb92ae77",
   "metadata": {
    "tags": []
   },
   "outputs": [
    {
     "name": "stdout",
     "output_type": "stream",
     "text": [
      "List of integers: [10, 20, 30, 40, 50]\n"
     ]
    }
   ],
   "source": [
    "# Example list of strings\n",
    "string_list = [\"10\", \"20\", \"30\", \"40\", \"50\"]\n",
    "\n",
    "# Convert list of strings to list of integers using a list comprehension\n",
    "integer_list = [int(x) for x in string_list]\n",
    "\n",
    "# Print the list of integers\n",
    "print(\"List of integers:\", integer_list)"
   ]
  },
  {
   "cell_type": "code",
   "execution_count": null,
   "id": "028971c9-1ca0-4d17-bdb7-abe83e9c04f6",
   "metadata": {},
   "outputs": [],
   "source": [
    "#27 Convert list of integer to list of string"
   ]
  },
  {
   "cell_type": "code",
   "execution_count": 19,
   "id": "c8157efa-be2d-4593-b7e8-6967ceab6ca0",
   "metadata": {
    "tags": []
   },
   "outputs": [
    {
     "name": "stdout",
     "output_type": "stream",
     "text": [
      "List of strings: ['10', '20', '30', '40', '50']\n"
     ]
    }
   ],
   "source": [
    "# Example list of integers\n",
    "integer_list = [10, 20, 30, 40, 50]\n",
    "\n",
    "# Convert list of integers to list of strings using a list comprehension\n",
    "string_list = [str(x) for x in integer_list]\n",
    "\n",
    "# Print the list of strings\n",
    "print(\"List of strings:\", string_list)"
   ]
  },
  {
   "cell_type": "code",
   "execution_count": null,
   "id": "e28b8d44-fa39-4ce9-a44d-375f09a98573",
   "metadata": {},
   "outputs": [],
   "source": [
    "#28 Flatten a nested list"
   ]
  },
  {
   "cell_type": "code",
   "execution_count": 21,
   "id": "23a2ad69-cc14-4720-bb82-317e3c5ef87f",
   "metadata": {
    "tags": []
   },
   "outputs": [
    {
     "name": "stdout",
     "output_type": "stream",
     "text": [
      "Flattened list: [1, 2, 3, 4, 5, 6, 7, 8, 9]\n"
     ]
    }
   ],
   "source": [
    "# Example nested list\n",
    "nested_list = [[1, 2, 3], [4, 5], [6, 7, 8, 9]]\n",
    "\n",
    "# Function to flatten a nested list\n",
    "def flatten_list(nested):\n",
    "    flattened = []\n",
    "    for sublist in nested:\n",
    "        if isinstance(sublist, list):\n",
    "            flattened.extend(flatten_list(sublist))\n",
    "        else:\n",
    "            flattened.append(sublist)\n",
    "    return flattened\n",
    "\n",
    "# Flatten the nested list\n",
    "flattened_list = flatten_list(nested_list)\n",
    "\n",
    "# Print the flattened list\n",
    "print(\"Flattened list:\", flattened_list)"
   ]
  },
  {
   "cell_type": "code",
   "execution_count": null,
   "id": "cad1b22f-5162-4a66-b70e-3a841dbf4a55",
   "metadata": {},
   "outputs": [],
   "source": [
    "#29 Create a list of first 10 fibonacci number "
   ]
  },
  {
   "cell_type": "code",
   "execution_count": 22,
   "id": "1a71bebb-2d5a-4a51-8935-163faeb0f5ee",
   "metadata": {
    "tags": []
   },
   "outputs": [
    {
     "name": "stdout",
     "output_type": "stream",
     "text": [
      "First 10 Fibonacci numbers: [0, 1]\n"
     ]
    }
   ],
   "source": [
    "# Function to generate the first n Fibonacci numbers\n",
    "def generate_fibonacci(n):\n",
    "    fibonacci_list = [0, 1]  # Initialize the list with the first two Fibonacci numbers\n",
    "\n",
    "    for i in range(2, n):\n",
    "        next_fibonacci = fibonacci_list[i - 1] + fibonacci_list[i - 2]\n",
    "        fibonacci_list.append(next_fibonacci)\n",
    "\n",
    "    return fibonacci_list\n",
    "\n",
    "# Generate the first 10 Fibonacci numbers\n",
    "fibonacci_numbers = generate_fibonacci(2)\n",
    "\n",
    "# Print the list of Fibonacci numbers\n",
    "print(\"First 10 Fibonacci numbers:\", fibonacci_numbers)"
   ]
  },
  {
   "cell_type": "code",
   "execution_count": null,
   "id": "04660275-0b78-4d59-b401-d0a632bfd8a8",
   "metadata": {},
   "outputs": [],
   "source": [
    "#30 Check if list ois sorted"
   ]
  },
  {
   "cell_type": "code",
   "execution_count": 23,
   "id": "1e889f39-685b-4b77-a4cb-ad4795d02f93",
   "metadata": {
    "tags": []
   },
   "outputs": [
    {
     "name": "stdout",
     "output_type": "stream",
     "text": [
      "The list is sorted in ascending order.\n"
     ]
    }
   ],
   "source": [
    "# Function to check if a list is sorted in ascending order\n",
    "def is_sorted_ascending(lst):\n",
    "    for i in range(1, len(lst)):\n",
    "        if lst[i] < lst[i - 1]:\n",
    "            return False\n",
    "    return True\n",
    "\n",
    "# Example list\n",
    "ascending_list = [10, 20, 30, 40, 50]\n",
    "\n",
    "# Check if the list is sorted in ascending order\n",
    "if is_sorted_ascending(ascending_list):\n",
    "    print(\"The list is sorted in ascending order.\")\n",
    "else:\n",
    "    print(\"The list is not sorted in ascending order.\")"
   ]
  },
  {
   "cell_type": "code",
   "execution_count": null,
   "id": "8858ee92-c28d-4a3b-b849-912cd529edf8",
   "metadata": {},
   "outputs": [],
   "source": [
    "#31 Rotate a list to left by n positions"
   ]
  },
  {
   "cell_type": "code",
   "execution_count": 24,
   "id": "f1978175-bd32-4b5c-aac3-74ba7f861947",
   "metadata": {
    "tags": []
   },
   "outputs": [
    {
     "name": "stdout",
     "output_type": "stream",
     "text": [
      "Rotated list: [3, 4, 5, 6, 1, 2]\n"
     ]
    }
   ],
   "source": [
    "# Function to rotate a list to the left by n positions\n",
    "def rotate_left(lst, n):\n",
    "    n = n % len(lst)  # Normalize n to handle cases where n is larger than the list length\n",
    "    # print(n)\n",
    "    rotated = lst[n:] + lst[:n]\n",
    "    return rotated\n",
    "\n",
    "# Example list\n",
    "my_list = [1, 2, 3, 4, 5, 6]\n",
    "\n",
    "# Number of positions to rotate by\n",
    "n = 2\n",
    "\n",
    "# Rotate the list to the left by n positions\n",
    "rotated_list = rotate_left(my_list, n)\n",
    "\n",
    "# Print the rotated list\n",
    "print(\"Rotated list:\", rotated_list)"
   ]
  },
  {
   "cell_type": "code",
   "execution_count": null,
   "id": "b06f1038-67cb-4a74-a674-a9b7b80967cf",
   "metadata": {},
   "outputs": [],
   "source": [
    "#32 Rotate a list to right by n position"
   ]
  },
  {
   "cell_type": "code",
   "execution_count": 25,
   "id": "05072f45-7501-495a-a1e1-abf7f2fa446f",
   "metadata": {
    "tags": []
   },
   "outputs": [
    {
     "name": "stdout",
     "output_type": "stream",
     "text": [
      "Rotated list: [5, 6, 1, 2, 3, 4]\n"
     ]
    }
   ],
   "source": [
    "# Function to rotate a list to the right by n positions\n",
    "def rotate_right(lst, n):\n",
    "    n = n % len(lst)  # Normalize n to handle cases where n is larger than the list length\n",
    "    # print(n)\n",
    "    rotated = lst[-n:] + lst[:-n]\n",
    "    return rotated\n",
    "\n",
    "# Example list\n",
    "my_list = [1, 2, 3, 4, 5, 6]\n",
    "\n",
    "# Number of positions to rotate by\n",
    "n = 2\n",
    "\n",
    "# Rotate the list to the right by n positions\n",
    "rotated_list = rotate_right(my_list, n)\n",
    "\n",
    "# Print the rotated list\n",
    "print(\"Rotated list:\", rotated_list)"
   ]
  },
  {
   "cell_type": "code",
   "execution_count": null,
   "id": "7398efe1-1774-46b7-bf50-0dd85cc8bac9",
   "metadata": {},
   "outputs": [],
   "source": [
    "#33Create a list of prime numbers upto 50"
   ]
  },
  {
   "cell_type": "code",
   "execution_count": 26,
   "id": "796cd8d4-0137-4a5f-bd82-93b0543112c7",
   "metadata": {
    "tags": []
   },
   "outputs": [
    {
     "name": "stdout",
     "output_type": "stream",
     "text": [
      "5 25\n",
      "5 29\n",
      "List of prime numbers up to 50: [2, 3, 5, 7, 11, 13, 17, 19, 23, 29]\n"
     ]
    }
   ],
   "source": [
    "# Function to check if a number is prime\n",
    "def is_prime(num):\n",
    "    if num <= 1:\n",
    "        return False\n",
    "    if num <= 3:\n",
    "        return True\n",
    "    if num % 2 == 0 or num % 3 == 0:\n",
    "        return False\n",
    "    i = 5\n",
    "    while i * i <= num:\n",
    "      print(i,num)\n",
    "      if num % i == 0 or num % (i + 2) == 0:\n",
    "          return False\n",
    "      i += 6\n",
    "    return True\n",
    "\n",
    "# Create a list of prime numbers up to 50\n",
    "prime_numbers = [num for num in range(2,30) if is_prime(num)]\n",
    "\n",
    "# Print the list of prime numbers\n",
    "print(\"List of prime numbers up to 50:\", prime_numbers)"
   ]
  },
  {
   "cell_type": "code",
   "execution_count": null,
   "id": "39abc925-242d-4fe7-a152-d076ff96b203",
   "metadata": {},
   "outputs": [],
   "source": [
    "#34 Split a list into chunk of size n"
   ]
  },
  {
   "cell_type": "code",
   "execution_count": 27,
   "id": "da1dac17-5a77-4227-bd87-8e933cb9d374",
   "metadata": {
    "tags": []
   },
   "outputs": [
    {
     "name": "stdout",
     "output_type": "stream",
     "text": [
      "List of prime numbers up to 50: [2, 3, 5, 7, 11, 13, 17, 19, 23, 29, 31, 37, 41, 43, 47]\n"
     ]
    }
   ],
   "source": [
    "# Create a list of prime numbers up to 50 using Sieve of Eratosthenes algorithm\n",
    "def sieve_of_eratosthenes(limit):\n",
    "    primes = []\n",
    "    is_prime = [True] * (limit + 1)\n",
    "    is_prime[0] = is_prime[1] = False\n",
    "\n",
    "    for num in range(2, int(limit ** 0.5) + 1):\n",
    "        if is_prime[num]:\n",
    "            primes.append(num)\n",
    "            for multiple in range(num * num, limit + 1, num):\n",
    "                is_prime[multiple] = False\n",
    "\n",
    "    for num in range(int(limit ** 0.5) + 1, limit + 1):\n",
    "        if is_prime[num]:\n",
    "            primes.append(num)\n",
    "\n",
    "    return primes\n",
    "\n",
    "# Create a list of prime numbers up to 50\n",
    "prime_numbers = sieve_of_eratosthenes(50)\n",
    "\n",
    "# Print the list of prime numbers\n",
    "print(\"List of prime numbers up to 50:\", prime_numbers)"
   ]
  },
  {
   "cell_type": "code",
   "execution_count": null,
   "id": "969e63bb-bee1-484a-bb12-971c06088e5e",
   "metadata": {},
   "outputs": [],
   "source": [
    "#35 Find the second lasgest number in list"
   ]
  },
  {
   "cell_type": "code",
   "execution_count": 29,
   "id": "77717378-0852-4427-b9ae-dc8550f332ce",
   "metadata": {
    "tags": []
   },
   "outputs": [
    {
     "name": "stdout",
     "output_type": "stream",
     "text": [
      "Second largest number: 25\n"
     ]
    }
   ],
   "source": [
    "# Example list\n",
    "my_list = [10, 5, 20, 15, 30, 25]\n",
    "\n",
    "# Remove duplicates and sort the list in ascending order\n",
    "sorted_list = sorted(set(my_list))\n",
    "\n",
    "# Find the second largest number\n",
    "if len(sorted_list) >= 2:\n",
    "    second_largest = sorted_list[-2]\n",
    "    print(\"Second largest number:\", second_largest)\n",
    "else:\n",
    "    print(\"The list does not contain enough elements.\")"
   ]
  },
  {
   "cell_type": "code",
   "execution_count": null,
   "id": "43948b59-af66-432b-8d6d-0324fe804abd",
   "metadata": {},
   "outputs": [],
   "source": [
    "#36  Replace every element in list with its square"
   ]
  },
  {
   "cell_type": "code",
   "execution_count": 30,
   "id": "38a0ea5e-f341-4932-bf30-82563b6498ab",
   "metadata": {
    "tags": []
   },
   "outputs": [
    {
     "name": "stdout",
     "output_type": "stream",
     "text": [
      "Squared list: [4, 16, 36, 64, 100]\n"
     ]
    }
   ],
   "source": [
    "# Example list\n",
    "my_list = [2, 4, 6, 8, 10]\n",
    "\n",
    "# Replace every element with its square using a list comprehension\n",
    "squared_list = [x ** 2 for x in my_list]\n",
    "\n",
    "# Print the squared list\n",
    "print(\"Squared list:\", squared_list)"
   ]
  },
  {
   "cell_type": "code",
   "execution_count": null,
   "id": "9e9f777d-d276-4147-91b7-2e4b364de38b",
   "metadata": {},
   "outputs": [],
   "source": [
    "#37 Convert a list to dictionary wherelist element become keys and their indices become values"
   ]
  },
  {
   "cell_type": "code",
   "execution_count": 31,
   "id": "f9d81017-d725-4fa2-8fe7-dec78ce7820f",
   "metadata": {
    "tags": []
   },
   "outputs": [
    {
     "name": "stdout",
     "output_type": "stream",
     "text": [
      "Converted dictionary: {'apple': 0, 'banana': 1, 'cherry': 2, 'date': 3, 'elderberry': 4}\n"
     ]
    }
   ],
   "source": [
    "# Example list\n",
    "my_list = ['apple', 'banana', 'cherry', 'date', 'elderberry']\n",
    "\n",
    "# Convert list to dictionary using dictionary comprehension\n",
    "my_dict = {element: index for index, element in enumerate(my_list)}\n",
    "\n",
    "# Print the resulting dictionary\n",
    "print(\"Converted dictionary:\", my_dict)"
   ]
  },
  {
   "cell_type": "code",
   "execution_count": null,
   "id": "451eb4bc-bb99-40cf-abcb-a32bf4b0c5e0",
   "metadata": {},
   "outputs": [],
   "source": [
    "#38 Shuffle the elements of list randomly"
   ]
  },
  {
   "cell_type": "code",
   "execution_count": 32,
   "id": "f55a5b94-b803-4e34-8b89-924e807f2475",
   "metadata": {
    "tags": []
   },
   "outputs": [
    {
     "name": "stdout",
     "output_type": "stream",
     "text": [
      "Shuffled list: [8, 10, 6, 7, 5, 4, 3, 1, 2, 9]\n"
     ]
    }
   ],
   "source": [
    "import random\n",
    "\n",
    "# Example list\n",
    "my_list = [1, 2, 3, 4, 5, 6, 7, 8, 9, 10]\n",
    "\n",
    "# Shuffle the list randomly\n",
    "random.shuffle(my_list)\n",
    "\n",
    "# Print the shuffled list\n",
    "print(\"Shuffled list:\", my_list)"
   ]
  },
  {
   "cell_type": "code",
   "execution_count": null,
   "id": "3c9ecd42-9211-476a-a4d8-f3535968666e",
   "metadata": {},
   "outputs": [],
   "source": [
    "#39 Create a list of first 10 factorial number"
   ]
  },
  {
   "cell_type": "code",
   "execution_count": 33,
   "id": "9ec777ae-1213-42eb-9d19-006e8ecbf1f0",
   "metadata": {
    "tags": []
   },
   "outputs": [
    {
     "name": "stdout",
     "output_type": "stream",
     "text": [
      "List of the first 10 factorial numbers: [1, 1, 2, 6, 24, 120, 720, 5040, 40320, 362880]\n"
     ]
    }
   ],
   "source": [
    "# Function to calculate factorial\n",
    "def factorial(n):\n",
    "    if n == 0 or n == 1:\n",
    "        return 1\n",
    "    else:\n",
    "        return n * factorial(n - 1)\n",
    "\n",
    "# Create a list of the first 10 factorial numbers\n",
    "factorial_numbers = [factorial(i) for i in range(10)]\n",
    "\n",
    "# Print the list of factorial numbers\n",
    "print(\"List of the first 10 factorial numbers:\", factorial_numbers)"
   ]
  },
  {
   "cell_type": "code",
   "execution_count": null,
   "id": "731645a8-056f-43c6-8247-57ede26c3cb4",
   "metadata": {},
   "outputs": [],
   "source": [
    "#40 Check if two lists have element in common"
   ]
  },
  {
   "cell_type": "code",
   "execution_count": 34,
   "id": "c79db777-4e94-4008-ae57-de341360cf43",
   "metadata": {
    "tags": []
   },
   "outputs": [
    {
     "name": "stdout",
     "output_type": "stream",
     "text": [
      "The lists have at least one common element.\n"
     ]
    }
   ],
   "source": [
    "# Function to check if two lists have at least one element in common\n",
    "def has_common_element(list1, list2):\n",
    "    for item in list1:\n",
    "        if item in list2:\n",
    "            return True\n",
    "    return False\n",
    "\n",
    "# Example lists\n",
    "list1 = [1, 2, 3, 4, 5]\n",
    "list2 = [4, 5, 6, 7, 8]\n",
    "\n",
    "# Check if the two lists have at least one element in common\n",
    "if has_common_element(list1, list2):\n",
    "    print(\"The lists have at least one common element.\")\n",
    "else:\n",
    "    print(\"The lists do not have any common elements.\")"
   ]
  },
  {
   "cell_type": "code",
   "execution_count": null,
   "id": "c8f53ed2-a3c2-46e2-8140-2e92b42f6031",
   "metadata": {},
   "outputs": [],
   "source": [
    "#41 Remove all elements in list"
   ]
  },
  {
   "cell_type": "code",
   "execution_count": 35,
   "id": "86179a93-b7b6-48eb-9257-ff7a63fed060",
   "metadata": {
    "tags": []
   },
   "outputs": [
    {
     "name": "stdout",
     "output_type": "stream",
     "text": [
      "Empty list: []\n"
     ]
    }
   ],
   "source": [
    "# Example list\n",
    "my_list = [1, 2, 3, 4, 5]\n",
    "\n",
    "# Clear all elements from the list\n",
    "my_list.clear()\n",
    "\n",
    "# Print the empty list\n",
    "print(\"Empty list:\", my_list)"
   ]
  },
  {
   "cell_type": "code",
   "execution_count": null,
   "id": "f462c589-195c-4fe6-a022-0d3a368b2060",
   "metadata": {},
   "outputs": [],
   "source": [
    "#42 Replace negative numbers in lisat with 0"
   ]
  },
  {
   "cell_type": "code",
   "execution_count": 36,
   "id": "345f59dc-8fab-47fa-8e13-4a256bbaf4fb",
   "metadata": {
    "tags": []
   },
   "outputs": [
    {
     "name": "stdout",
     "output_type": "stream",
     "text": [
      "List after replacing negative numbers with 0: [10, 0, 20, 0, 30, 0]\n"
     ]
    }
   ],
   "source": [
    "# Example list\n",
    "my_list = [10, -5, 20, -15, 30, -25]\n",
    "\n",
    "# Step 1: Iterate through the list and replace negative numbers with 0\n",
    "for i in range(len(my_list)):\n",
    "    if my_list[i] < 0:\n",
    "        my_list[i] = 0\n",
    "\n",
    "# Print the list after replacing negative numbers with 0\n",
    "print(\"List after replacing negative numbers with 0:\", my_list)"
   ]
  },
  {
   "cell_type": "code",
   "execution_count": null,
   "id": "a1284223-5b1a-49e3-b609-c88b592b76d0",
   "metadata": {},
   "outputs": [],
   "source": [
    "#43 Convert a string into list of words "
   ]
  },
  {
   "cell_type": "code",
   "execution_count": 37,
   "id": "8a7332e5-3c6b-4d44-ae00-839bd005bfde",
   "metadata": {
    "tags": []
   },
   "outputs": [
    {
     "name": "stdout",
     "output_type": "stream",
     "text": [
      "List of words: ['Hello,', 'this', 'is', 'a', 'sample', 'sentence.']\n"
     ]
    }
   ],
   "source": [
    "# Example string\n",
    "my_string = \"Hello, this is a sample sentence.\"\n",
    "\n",
    "# Convert the string into a list of words\n",
    "word_list = my_string.split()\n",
    "\n",
    "# Print the list of words\n",
    "print(\"List of words:\", word_list)"
   ]
  },
  {
   "cell_type": "code",
   "execution_count": null,
   "id": "70a4e8e3-555b-4bb2-97f2-208465e17979",
   "metadata": {},
   "outputs": [],
   "source": [
    "#44 Convert list of words into string"
   ]
  },
  {
   "cell_type": "code",
   "execution_count": 39,
   "id": "e0be0e99-0062-4854-83b4-add499a8a1d5",
   "metadata": {
    "tags": []
   },
   "outputs": [
    {
     "name": "stdout",
     "output_type": "stream",
     "text": [
      "Converted string: Hello, this is a sample sentence.\n"
     ]
    }
   ],
   "source": [
    "# Example list of words\n",
    "word_list = [\"Hello,\", \"this\", \"is\", \"a\", \"sample\", \"sentence.\"]\n",
    "\n",
    "# Convert the list of words into a string\n",
    "my_string = \" \".join(word_list)\n",
    "\n",
    "# Print the resulting string\n",
    "print(\"Converted string:\", my_string)"
   ]
  },
  {
   "cell_type": "code",
   "execution_count": null,
   "id": "33900f74-a97a-4d39-9da2-40c81e603d45",
   "metadata": {},
   "outputs": [],
   "source": [
    "#45 Create a list of first n powers of 2"
   ]
  },
  {
   "cell_type": "code",
   "execution_count": 40,
   "id": "1583d029-b4ff-4452-9980-80aafdca041c",
   "metadata": {
    "tags": []
   },
   "outputs": [
    {
     "name": "stdout",
     "output_type": "stream",
     "text": [
      "List of the first 5 powers of 2: [1, 2, 4, 8, 16]\n"
     ]
    }
   ],
   "source": [
    "# Specify the value of n\n",
    "n = 5\n",
    "\n",
    "# Create a list of the first n powers of 2 using a loop\n",
    "power_list = [2 ** i for i in range(n)]\n",
    "\n",
    "# Print the list of powers of 2\n",
    "print(\"List of the first\", n, \"powers of 2:\", power_list)"
   ]
  },
  {
   "cell_type": "code",
   "execution_count": null,
   "id": "e7dd019c-936b-469f-a6b2-3b0a90a46802",
   "metadata": {},
   "outputs": [],
   "source": [
    "#46 Find longest string in list of strings"
   ]
  },
  {
   "cell_type": "code",
   "execution_count": 41,
   "id": "cd8e10f5-0682-4477-bbd4-f796769f04d6",
   "metadata": {
    "tags": []
   },
   "outputs": [
    {
     "name": "stdout",
     "output_type": "stream",
     "text": [
      "Longest string: elderberry\n"
     ]
    }
   ],
   "source": [
    "# Example list of strings\n",
    "string_list = [\"apple\", \"banana\", \"cherry\", \"date\", \"elderberry\"]\n",
    "\n",
    "# Find the longest string in the list\n",
    "longest_string = \"\"\n",
    "for s in string_list:\n",
    "    if len(s) > len(longest_string):\n",
    "        longest_string = s\n",
    "\n",
    "# Print the longest string\n",
    "print(\"Longest string:\", longest_string)"
   ]
  },
  {
   "cell_type": "code",
   "execution_count": null,
   "id": "cdffc301-116e-4b2b-b4c3-f153a4c0b035",
   "metadata": {},
   "outputs": [],
   "source": [
    "#47 Find shortest string in list of strings"
   ]
  },
  {
   "cell_type": "code",
   "execution_count": 42,
   "id": "16eafdc1-242f-426f-8647-6095cc3e9721",
   "metadata": {
    "tags": []
   },
   "outputs": [
    {
     "name": "stdout",
     "output_type": "stream",
     "text": [
      "Shortest string: date\n"
     ]
    }
   ],
   "source": [
    "# Example list of strings\n",
    "string_list = [\"apple\", \"banana\", \"cherry\", \"date\", \"elderberry\"]\n",
    "\n",
    "# Find the shortest string in the list\n",
    "shortest_string = string_list[0]  # Initialize with the first string\n",
    "for s in string_list:\n",
    "    if len(s) < len(shortest_string):\n",
    "        shortest_string = s\n",
    "\n",
    "# Print the shortest string\n",
    "print(\"Shortest string:\", shortest_string)"
   ]
  },
  {
   "cell_type": "markdown",
   "id": "737384cd-e1cb-4782-9252-308f7d5135e8",
   "metadata": {},
   "source": [
    "#48 Create a list of first n triangular numbers "
   ]
  },
  {
   "cell_type": "code",
   "execution_count": 43,
   "id": "c4b63c4f-37d1-43aa-a892-b211556a380b",
   "metadata": {
    "tags": []
   },
   "outputs": [
    {
     "name": "stdout",
     "output_type": "stream",
     "text": [
      "List of the first 5 triangular numbers: [1, 3, 6, 10, 15]\n"
     ]
    }
   ],
   "source": [
    "# Function to calculate triangular numbers\n",
    "def triangular_numbers(n):\n",
    "    return [i * (i + 1) // 2 for i in range(1, n + 1)]\n",
    "\n",
    "# Specify the value of n\n",
    "n = 5\n",
    "\n",
    "# Create a list of the first n triangular numbers\n",
    "triangular_list = triangular_numbers(n)\n",
    "\n",
    "# Print the list of triangular numbers\n",
    "print(\"List of the first\", n, \"triangular numbers:\", triangular_list)"
   ]
  },
  {
   "cell_type": "code",
   "execution_count": null,
   "id": "aa848e5a-9295-42b3-8a15-5697b094caa2",
   "metadata": {},
   "outputs": [],
   "source": [
    "#49 Check if list contain another list of subsequence"
   ]
  },
  {
   "cell_type": "code",
   "execution_count": 44,
   "id": "fbfd90fa-457c-4d2e-9ab8-dacc3648f63c",
   "metadata": {
    "tags": []
   },
   "outputs": [
    {
     "name": "stdout",
     "output_type": "stream",
     "text": [
      "Main list contains the subsequence.\n"
     ]
    }
   ],
   "source": [
    "# Function to check if a list contains another list as a subsequence\n",
    "def is_subsequence(subsequence, main_list):\n",
    "    subseq_index = 0  # Index for the subsequence elements\n",
    "    for element in main_list:\n",
    "        if element == subsequence[subseq_index]:\n",
    "            subseq_index += 1\n",
    "            if subseq_index == len(subsequence):\n",
    "                return True\n",
    "    return False\n",
    "\n",
    "# Example main list and subsequence\n",
    "main_list = [1, 2, 3, 4, 5, 6, 7, 8, 9, 10]\n",
    "subsequence = [3, 5, 8]\n",
    "\n",
    "# Check if the main list contains the subsequence\n",
    "if is_subsequence(subsequence, main_list):\n",
    "    print(\"Main list contains the subsequence.\")\n",
    "else:\n",
    "    print(\"Main list does not contain the subsequence.\")"
   ]
  },
  {
   "cell_type": "code",
   "execution_count": null,
   "id": "098d47b7-73ec-49c1-939c-ed2a99f3033d",
   "metadata": {},
   "outputs": [],
   "source": [
    "#50 Swap two elements in list by their indices"
   ]
  },
  {
   "cell_type": "code",
   "execution_count": 45,
   "id": "563108a4-2c5d-49d6-a8a2-a59022e3e07d",
   "metadata": {
    "tags": []
   },
   "outputs": [
    {
     "name": "stdout",
     "output_type": "stream",
     "text": [
      "List after swapping elements: [1, 4, 3, 2, 5]\n"
     ]
    }
   ],
   "source": [
    "# Example list\n",
    "my_list = [1, 2, 3, 4, 5]\n",
    "\n",
    "# Indices of elements to swap\n",
    "index1 = 1\n",
    "index2 = 3\n",
    "\n",
    "# Swap the elements at the specified indices\n",
    "temp = my_list[index1]\n",
    "my_list[index1] = my_list[index2]\n",
    "my_list[index2] = temp\n",
    "\n",
    "# Print the list after swapping\n",
    "print(\"List after swapping elements:\", my_list)"
   ]
  },
  {
   "cell_type": "code",
   "execution_count": null,
   "id": "7de82fe2-094b-4eaa-b3c6-a1e683ed11f2",
   "metadata": {},
   "outputs": [],
   "source": [
    "#Tuple based problems\n",
    "#1 Create tuple with integer from 1 to 5"
   ]
  },
  {
   "cell_type": "code",
   "execution_count": 46,
   "id": "4fb7771a-4a9b-425e-899a-fb86ed077d19",
   "metadata": {
    "tags": []
   },
   "outputs": [
    {
     "name": "stdout",
     "output_type": "stream",
     "text": [
      "The third element of the tuple is: 30\n"
     ]
    }
   ],
   "source": [
    "# Step 1: Create a tuple\n",
    "my_tuple = (10, 20, 30, 40, 50)\n",
    "\n",
    "# Step 2: Access the third element of the tuple\n",
    "third_element = my_tuple[2]\n",
    "\n",
    "# Explanation: In this line, we use indexing to access the third element of the tuple.\n",
    "# Since indexing is 0-based, the third element is at index 2.\n",
    "\n",
    "# Step 3: Print the third element\n",
    "print(\"The third element of the tuple is:\", third_element)"
   ]
  },
  {
   "cell_type": "code",
   "execution_count": null,
   "id": "32ff0580-393a-41bc-a35d-a60996945a06",
   "metadata": {},
   "outputs": [],
   "source": [
    "#2 Acess the third element of tuple"
   ]
  },
  {
   "cell_type": "code",
   "execution_count": 47,
   "id": "6830f8c8-2a7d-4e17-800f-9fbe281a7f56",
   "metadata": {
    "tags": []
   },
   "outputs": [
    {
     "name": "stdout",
     "output_type": "stream",
     "text": [
      "The third element of the tuple is: 30\n"
     ]
    }
   ],
   "source": [
    "# Step 1: Create a tuple with some elements\n",
    "my_tuple = (10, 20, 30, 40, 50)\n",
    "\n",
    "# Step 2: Access the third element (index 2) of the tuple\n",
    "third_element = my_tuple[2]\n",
    "\n",
    "# Step 3: Print the third element\n",
    "print(\"The third element of the tuple is:\", third_element)"
   ]
  },
  {
   "cell_type": "code",
   "execution_count": null,
   "id": "a9364f36-10d5-425d-8a9a-2c1e49c69980",
   "metadata": {},
   "outputs": [],
   "source": [
    "#3 Find length of tuple without using len() function"
   ]
  },
  {
   "cell_type": "code",
   "execution_count": 48,
   "id": "71a46c1a-26e6-47ff-9a0c-762964f885a5",
   "metadata": {
    "tags": []
   },
   "outputs": [
    {
     "name": "stdout",
     "output_type": "stream",
     "text": [
      "The length of the tuple is: 5\n"
     ]
    }
   ],
   "source": [
    "# Step 1: Create a tuple\n",
    "my_tuple = (10, 20, 30, 40, 50)\n",
    "\n",
    "# Step 2: Initialize a variable to count the elements\n",
    "count = 0\n",
    "\n",
    "# Step 3: Iterate through the tuple and increment the count for each element\n",
    "for _ in my_tuple:\n",
    "    count += 1\n",
    "\n",
    "# Step 4: Print the length of the tuple\n",
    "print(\"The length of the tuple is:\", count)"
   ]
  },
  {
   "cell_type": "code",
   "execution_count": null,
   "id": "fba5627d-e0b0-4e08-8a6f-19a591493b61",
   "metadata": {},
   "outputs": [],
   "source": [
    "#4 Count the occurrences of elements in tuple"
   ]
  },
  {
   "cell_type": "code",
   "execution_count": 49,
   "id": "68d96ec9-fe36-4c51-8dc7-5cc0c20bce16",
   "metadata": {
    "tags": []
   },
   "outputs": [
    {
     "name": "stdout",
     "output_type": "stream",
     "text": [
      "The element 20 appears 3 times in the tuple.\n"
     ]
    }
   ],
   "source": [
    "# Step 1: Create a tuple\n",
    "my_tuple = (10, 20, 30, 20, 40, 50, 20)\n",
    "\n",
    "# Step 2: Choose the element to count occurrences of\n",
    "element_to_count = 20\n",
    "\n",
    "# Step 3: Initialize a variable to keep track of the count\n",
    "count = 0\n",
    "\n",
    "# Step 4: Iterate through the tuple and count occurrences of the chosen element\n",
    "for item in my_tuple:\n",
    "    if item == element_to_count:\n",
    "        count += 1\n",
    "\n",
    "# Step 5: Print the count of occurrences\n",
    "print(f\"The element {element_to_count} appears {count} times in the tuple.\")"
   ]
  },
  {
   "cell_type": "code",
   "execution_count": null,
   "id": "c5820cb1-53f7-4972-bcd7-6ff614d64287",
   "metadata": {},
   "outputs": [],
   "source": [
    "#5 Find index of first occurrence of element in tuple"
   ]
  },
  {
   "cell_type": "code",
   "execution_count": 50,
   "id": "1a278218-d80d-4fab-84d4-76cad7d9451a",
   "metadata": {
    "tags": []
   },
   "outputs": [
    {
     "name": "stdout",
     "output_type": "stream",
     "text": [
      "The first occurrence of 20 is at index 1.\n"
     ]
    }
   ],
   "source": [
    "# Step 1: Create a tuple\n",
    "my_tuple = (10, 20, 30, 20, 40, 50)\n",
    "\n",
    "# Step 2: Choose the element to find the index of\n",
    "element_to_find = 20\n",
    "\n",
    "# Step 3: Initialize a variable to keep track of the index\n",
    "index = -1  # Initialize with -1 to indicate that the element was not found\n",
    "\n",
    "# Step 4: Iterate through the tuple and find the index of the chosen element\n",
    "for i, item in enumerate(my_tuple):\n",
    "    if item == element_to_find:\n",
    "        index = i\n",
    "        break  # Exit the loop once the first occurrence is found\n",
    "\n",
    "# Step 5: Print the index of the first occurrence\n",
    "if index != -1:\n",
    "    print(f\"The first occurrence of {element_to_find} is at index {index}.\")\n",
    "else:\n",
    "    print(f\"{element_to_find} is not found in the tuple.\")"
   ]
  },
  {
   "cell_type": "code",
   "execution_count": null,
   "id": "568dc244-043d-47b5-8d61-5bd9656de709",
   "metadata": {},
   "outputs": [],
   "source": [
    "#6 Check if elements exixts in tuple"
   ]
  },
  {
   "cell_type": "code",
   "execution_count": 51,
   "id": "0071aad0-85dc-4ec7-8a70-e4f179a1f11d",
   "metadata": {
    "tags": []
   },
   "outputs": [
    {
     "name": "stdout",
     "output_type": "stream",
     "text": [
      "30 exists in the tuple.\n"
     ]
    }
   ],
   "source": [
    "# Step 1: Create a tuple\n",
    "my_tuple = (10, 20, 30, 40, 50)\n",
    "\n",
    "# Step 2: Choose the element to check for existence\n",
    "element_to_check = 30\n",
    "\n",
    "# Step 3: Check if the element exists in the tuple using the 'in' operator\n",
    "if element_to_check in my_tuple:\n",
    "    print(f\"{element_to_check} exists in the tuple.\")\n",
    "else:\n",
    "    print(f\"{element_to_check} does not exist in the tuple.\")"
   ]
  },
  {
   "cell_type": "code",
   "execution_count": null,
   "id": "c073fb54-443b-4fb4-929b-16b7d24499b0",
   "metadata": {},
   "outputs": [],
   "source": [
    "#7 Convert tuple into a list"
   ]
  },
  {
   "cell_type": "code",
   "execution_count": 52,
   "id": "25f590aa-3fc0-42ef-9c89-a80644c22964",
   "metadata": {
    "tags": []
   },
   "outputs": [
    {
     "name": "stdout",
     "output_type": "stream",
     "text": [
      "Tuple: (10, 20, 30, 40, 50)\n",
      "List: [10, 20, 30, 40, 50]\n"
     ]
    }
   ],
   "source": [
    "# Step 1: Create a tuple\n",
    "my_tuple = (10, 20, 30, 40, 50)\n",
    "\n",
    "# Step 2: Convert the tuple to a list\n",
    "my_list = list(my_tuple)\n",
    "\n",
    "# Step 3: Print the resulting list\n",
    "print(\"Tuple:\", my_tuple)\n",
    "print(\"List:\", my_list)"
   ]
  },
  {
   "cell_type": "code",
   "execution_count": null,
   "id": "f0776e95-efcf-4938-a4e9-14bf7346d0ef",
   "metadata": {},
   "outputs": [],
   "source": [
    "#8 Convert a list to tuple"
   ]
  },
  {
   "cell_type": "code",
   "execution_count": 53,
   "id": "2e03edb0-6818-4840-8785-d5788adaff3c",
   "metadata": {
    "tags": []
   },
   "outputs": [
    {
     "name": "stdout",
     "output_type": "stream",
     "text": [
      "List: [10, 20, 30, 40, 50]\n",
      "Tuple: (10, 20, 30, 40, 50)\n"
     ]
    }
   ],
   "source": [
    "# Step 1: Create a list\n",
    "my_list = [10, 20, 30, 40, 50]\n",
    "\n",
    "# Step 2: Convert the list to a tuple\n",
    "my_tuple = tuple(my_list)\n",
    "\n",
    "# Step 3: Print the resulting tuple\n",
    "print(\"List:\", my_list)\n",
    "print(\"Tuple:\", my_tuple)\n"
   ]
  },
  {
   "cell_type": "code",
   "execution_count": null,
   "id": "db056bbe-0805-475a-999f-49d6d40a36c5",
   "metadata": {},
   "outputs": [],
   "source": [
    "#9 Unpack the elements of tuple into variable"
   ]
  },
  {
   "cell_type": "code",
   "execution_count": 54,
   "id": "6752618d-05f6-4a3a-90e9-57092e883b0c",
   "metadata": {
    "tags": []
   },
   "outputs": [
    {
     "name": "stdout",
     "output_type": "stream",
     "text": [
      "var1: 10\n",
      "var2: 20\n",
      "var3: 30\n"
     ]
    }
   ],
   "source": [
    "# Step 1: Create a tuple\n",
    "my_tuple = (10, 20, 30)\n",
    "\n",
    "# Step 2: Unpack the elements of the tuple into variables\n",
    "var1, var2, var3 = my_tuple\n",
    "\n",
    "# Step 3: Print the variables\n",
    "print(\"var1:\", var1)\n",
    "print(\"var2:\", var2)\n",
    "print(\"var3:\", var3)"
   ]
  },
  {
   "cell_type": "code",
   "execution_count": null,
   "id": "78b46440-24c5-4e45-a6b4-e5a2b76ae511",
   "metadata": {},
   "outputs": [],
   "source": [
    "#10 Create a tuple of even number 1 to 10"
   ]
  },
  {
   "cell_type": "code",
   "execution_count": 55,
   "id": "581b1c07-bb21-46b6-8498-e06293b0d288",
   "metadata": {
    "tags": []
   },
   "outputs": [
    {
     "name": "stdout",
     "output_type": "stream",
     "text": [
      "Tuple of even numbers: (2, 4, 6, 8, 10)\n"
     ]
    }
   ],
   "source": [
    "# Step 1: Create a list of even numbers using a list comprehension\n",
    "even_numbers_list = [num for num in range(2, 11, 2)]  # Start from 2, step by 2, end at 10\n",
    "\n",
    "# Step 2: Convert the list to a tuple\n",
    "even_numbers_tuple = tuple(even_numbers_list)\n",
    "\n",
    "# Step 3: Print the resulting tuple\n",
    "print(\"Tuple of even numbers:\", even_numbers_tuple)"
   ]
  },
  {
   "cell_type": "code",
   "execution_count": null,
   "id": "058fac58-b712-4f33-96e8-22580cb9144d",
   "metadata": {},
   "outputs": [],
   "source": [
    "#11 Create a tuple of odd numbers from 1 to 10"
   ]
  },
  {
   "cell_type": "code",
   "execution_count": 56,
   "id": "a71bfc67-d1aa-4e20-97ee-0d1c11ff3b0e",
   "metadata": {
    "tags": []
   },
   "outputs": [
    {
     "name": "stdout",
     "output_type": "stream",
     "text": [
      "Tuple of even numbers: (2, 4, 6, 8, 10)\n"
     ]
    }
   ],
   "source": [
    "# Step 1: Create a list of even numbers using a list comprehension\n",
    "even_numbers_list = [num for num in range(2, 11, 2)]  # Start from 2, step by 2, end at 10\n",
    "\n",
    "# Step 2: Convert the list to a tuple\n",
    "even_numbers_tuple = tuple(even_numbers_list)\n",
    "\n",
    "# Step 3: Print the resulting tuple\n",
    "print(\"Tuple of even numbers:\", even_numbers_tuple)"
   ]
  },
  {
   "cell_type": "code",
   "execution_count": null,
   "id": "b7433408-60d7-4a16-8e27-6d9e30764ae4",
   "metadata": {},
   "outputs": [],
   "source": [
    "#12 Concatenation of two tuple"
   ]
  },
  {
   "cell_type": "code",
   "execution_count": 57,
   "id": "969c347a-3971-4a3b-a146-72653c1e96fc",
   "metadata": {
    "tags": []
   },
   "outputs": [
    {
     "name": "stdout",
     "output_type": "stream",
     "text": [
      "Concatenated tuple: (1, 2, 3, 4, 5, 6)\n"
     ]
    }
   ],
   "source": [
    "# Step 1: Create two tuples\n",
    "tuple1 = (1, 2, 3)\n",
    "tuple2 = (4, 5, 6)\n",
    "\n",
    "# Step 2: Concatenate the two tuples\n",
    "concatenated_tuple = tuple1 + tuple2\n",
    "\n",
    "# Step 3: Print the concatenated tuple\n",
    "print(\"Concatenated tuple:\", concatenated_tuple)"
   ]
  },
  {
   "cell_type": "code",
   "execution_count": null,
   "id": "a5b8abc4-01c5-4165-a344-2849fa40a040",
   "metadata": {},
   "outputs": [],
   "source": [
    "#13 Repeat a tuple three times"
   ]
  },
  {
   "cell_type": "code",
   "execution_count": 58,
   "id": "c4d4874b-f313-4aae-9532-52516e351875",
   "metadata": {
    "tags": []
   },
   "outputs": [
    {
     "name": "stdout",
     "output_type": "stream",
     "text": [
      "Repeated tuple: (1, 2, 3, 1, 2, 3, 1, 2, 3)\n"
     ]
    }
   ],
   "source": [
    "# Step 1: Create a tuple\n",
    "original_tuple = (1, 2, 3)\n",
    "\n",
    "# Step 2: Repeat the tuple three times\n",
    "repeated_tuple = original_tuple * 3\n",
    "\n",
    "# Step 3: Print the repeated tuple\n",
    "print(\"Repeated tuple:\", repeated_tuple)"
   ]
  },
  {
   "cell_type": "code",
   "execution_count": null,
   "id": "b3a092e0-fb99-462f-8d80-da4843dd0ce9",
   "metadata": {},
   "outputs": [],
   "source": [
    "#14 Check if tuple is empty"
   ]
  },
  {
   "cell_type": "code",
   "execution_count": 59,
   "id": "af8b0062-8544-4e78-b0b8-2325017c7b12",
   "metadata": {
    "tags": []
   },
   "outputs": [
    {
     "name": "stdout",
     "output_type": "stream",
     "text": [
      "The empty_tuple is empty.\n",
      "The non_empty_tuple is not empty.\n"
     ]
    }
   ],
   "source": [
    "# Step 1: Create an empty tuple and a non-empty tuple\n",
    "empty_tuple = ()\n",
    "non_empty_tuple = (1, 2, 3)\n",
    "\n",
    "# Step 2: Check if the tuples are empty\n",
    "if not empty_tuple:\n",
    "    print(\"The empty_tuple is empty.\")\n",
    "else:\n",
    "    print(\"The empty_tuple is not empty.\")\n",
    "\n",
    "if not non_empty_tuple:\n",
    "    print(\"The non_empty_tuple is empty.\")\n",
    "else:\n",
    "    print(\"The non_empty_tuple is not empty.\")"
   ]
  },
  {
   "cell_type": "code",
   "execution_count": null,
   "id": "21289ef6-fd8a-42de-9348-6e2d12b3f436",
   "metadata": {},
   "outputs": [],
   "source": [
    "#15 Create a nested tuple"
   ]
  },
  {
   "cell_type": "code",
   "execution_count": 60,
   "id": "db08a7fa-c0ab-434f-a60e-253ffb87c5fb",
   "metadata": {
    "tags": []
   },
   "outputs": [
    {
     "name": "stdout",
     "output_type": "stream",
     "text": [
      "Nested tuple: ((1, 2, 3), ('a', 'b', 'c'), (True, False))\n"
     ]
    }
   ],
   "source": [
    "# Step 1: Create a nested tuple\n",
    "nested_tuple = ((1, 2, 3), ('a', 'b', 'c'), (True, False))\n",
    "\n",
    "# Step 2: Print the nested tuple\n",
    "print(\"Nested tuple:\", nested_tuple)"
   ]
  },
  {
   "cell_type": "code",
   "execution_count": null,
   "id": "f4fc67df-3c74-4f23-ba9c-2e86ae459c40",
   "metadata": {},
   "outputs": [],
   "source": [
    "#16 Access the first element of nested tuple"
   ]
  },
  {
   "cell_type": "code",
   "execution_count": 61,
   "id": "06ef3e78-0cbc-4823-9115-33c83557cae0",
   "metadata": {
    "tags": []
   },
   "outputs": [
    {
     "name": "stdout",
     "output_type": "stream",
     "text": [
      "First element of the nested tuple: (1, 2, 3)\n"
     ]
    }
   ],
   "source": [
    "# Step 1: Create a nested tuple\n",
    "nested_tuple = ((1, 2, 3), ('a', 'b', 'c'), (True, False))\n",
    "\n",
    "# Step 2: Access the first element of the nested tuple\n",
    "first_element = nested_tuple[0]\n",
    "\n",
    "# Step 3: Print the first element\n",
    "print(\"First element of the nested tuple:\", first_element)"
   ]
  },
  {
   "cell_type": "code",
   "execution_count": null,
   "id": "27440d16-66ca-41f0-bd57-e1cc86d2a0c6",
   "metadata": {},
   "outputs": [],
   "source": [
    "#17 Create a tuple with single element"
   ]
  },
  {
   "cell_type": "code",
   "execution_count": 62,
   "id": "201a740e-045a-4007-b46c-d80fa16c5c4f",
   "metadata": {
    "tags": []
   },
   "outputs": [
    {
     "name": "stdout",
     "output_type": "stream",
     "text": [
      "Single element tuple: (42,)\n"
     ]
    }
   ],
   "source": [
    "# Step 1: Create a tuple with a single element\n",
    "single_element_tuple = (42,)  # Note the trailing comma\n",
    "\n",
    "# Step 2: Print the single element tuple\n",
    "print(\"Single element tuple:\", single_element_tuple)"
   ]
  },
  {
   "cell_type": "code",
   "execution_count": null,
   "id": "77fec0b0-dfe9-4b2a-8f01-4c02d38b2482",
   "metadata": {},
   "outputs": [],
   "source": [
    "#18 Cmpare two tuple"
   ]
  },
  {
   "cell_type": "code",
   "execution_count": 63,
   "id": "ff62a86f-69f0-4062-a893-d7ca71495e04",
   "metadata": {
    "tags": []
   },
   "outputs": [
    {
     "name": "stdout",
     "output_type": "stream",
     "text": [
      "tuple1 == tuple2: False\n",
      "tuple1 != tuple2: True\n",
      "tuple1 < tuple2: True\n",
      "tuple1 <= tuple2: True\n",
      "tuple1 > tuple2: False\n",
      "tuple1 >= tuple2: False\n"
     ]
    }
   ],
   "source": [
    "# Step 1: Create two tuples\n",
    "tuple1 = (1, 2, 3)\n",
    "tuple2 = (1, 2, 4)\n",
    "\n",
    "# Step 2: Compare the two tuples using comparison operators\n",
    "print(\"tuple1 == tuple2:\", tuple1 == tuple2)  # Equality check\n",
    "print(\"tuple1 != tuple2:\", tuple1 != tuple2)  # Inequality check\n",
    "print(\"tuple1 < tuple2:\", tuple1 < tuple2)    # Less than check\n",
    "print(\"tuple1 <= tuple2:\", tuple1 <= tuple2)  # Less than or equal to check\n",
    "print(\"tuple1 > tuple2:\", tuple1 > tuple2)    # Greater than check\n",
    "print(\"tuple1 >= tuple2:\", tuple1 >= tuple2)  # Greater than or equal to check"
   ]
  },
  {
   "cell_type": "code",
   "execution_count": null,
   "id": "0293ca4c-95db-4cd7-bd5e-e71fd79ddf2f",
   "metadata": {},
   "outputs": [],
   "source": [
    "#19 Delete a tuple"
   ]
  },
  {
   "cell_type": "code",
   "execution_count": 71,
   "id": "7d33efc9-86d6-49bb-a3ce-4487fa6c9f0a",
   "metadata": {
    "tags": []
   },
   "outputs": [
    {
     "name": "stdout",
     "output_type": "stream",
     "text": [
      "The original tuple: (1, 5, 3, 6, 8)\n",
      "The tuple after clearing values: ()\n"
     ]
    }
   ],
   "source": [
    "\n",
    "# Input\n",
    "tup = (1, 5, 3, 6, 8)\n",
    " \n",
    "# Delete the original tuple using the del keyword\n",
    "del tup\n",
    " \n",
    "# Output\n",
    "print(\"The original tuple:\", (1, 5, 3, 6, 8))\n",
    "print(\"The tuple after clearing values:\", ())\n"
   ]
  },
  {
   "cell_type": "code",
   "execution_count": null,
   "id": "ebc43b34-9e99-4c7a-9eee-f2b7c4c42ca3",
   "metadata": {},
   "outputs": [],
   "source": [
    "#20 Slice a tuple"
   ]
  },
  {
   "cell_type": "code",
   "execution_count": 69,
   "id": "5239ef28-7e13-4bd1-8727-66a79c254d5c",
   "metadata": {
    "tags": []
   },
   "outputs": [
    {
     "name": "stdout",
     "output_type": "stream",
     "text": [
      "Sliced tuple: (3, 4, 5, 6)\n"
     ]
    }
   ],
   "source": [
    "# Step 1: Create a tuple\n",
    "my_tuple = (1, 2, 3, 4, 5, 6, 7, 8, 9, 10)\n",
    "\n",
    "# Step 2: Slice the tuple to get a portion of it\n",
    "sliced_tuple = my_tuple[2:6]  # Elements from index 2 to 5 (end index is exclusive)\n",
    "\n",
    "# Step 3: Print the sliced tuple\n",
    "print(\"Sliced tuple:\", sliced_tuple)"
   ]
  },
  {
   "cell_type": "code",
   "execution_count": null,
   "id": "7ef4e107-3e91-4a9d-b68f-c4888b4f3f28",
   "metadata": {},
   "outputs": [],
   "source": [
    "#21 Find maximum value in tuple"
   ]
  },
  {
   "cell_type": "code",
   "execution_count": 72,
   "id": "5469a1c8-d9af-44a8-a23b-a07ed1e1587c",
   "metadata": {
    "tags": []
   },
   "outputs": [
    {
     "name": "stdout",
     "output_type": "stream",
     "text": [
      "Maximum value: 45\n"
     ]
    }
   ],
   "source": [
    "# Step 1: Create a tuple\n",
    "my_tuple = (10, 20, 5, 45, 30)\n",
    "\n",
    "# Step 2: Find the maximum value in the tuple using the 'max()' function\n",
    "max_value = max(my_tuple)\n",
    "\n",
    "# Step 3: Print the maximum value\n",
    "print(\"Maximum value:\", max_value)"
   ]
  },
  {
   "cell_type": "code",
   "execution_count": null,
   "id": "ed675b31-cd01-4a55-bf62-bd2b7659e0ed",
   "metadata": {},
   "outputs": [],
   "source": [
    "#22 Find minimum value in tuple"
   ]
  },
  {
   "cell_type": "code",
   "execution_count": 73,
   "id": "b266ef5b-ad20-4df8-94f8-3e23c3471e97",
   "metadata": {
    "tags": []
   },
   "outputs": [
    {
     "name": "stdout",
     "output_type": "stream",
     "text": [
      "Minimum value: 5\n"
     ]
    }
   ],
   "source": [
    "# Step 1: Create a tuple\n",
    "my_tuple = (10, 20, 5, 45, 30)\n",
    "\n",
    "# Step 2: Find the minimum value in the tuple using the 'min()' function\n",
    "min_value = min(my_tuple)\n",
    "\n",
    "# Step 3: Print the minimum value\n",
    "print(\"Minimum value:\", min_value)"
   ]
  },
  {
   "cell_type": "code",
   "execution_count": null,
   "id": "ad6bc6f3-aafa-414f-afdc-6dc2287b23fc",
   "metadata": {},
   "outputs": [],
   "source": [
    "#23 Convert string to tuple of character"
   ]
  },
  {
   "cell_type": "code",
   "execution_count": 74,
   "id": "b298745f-ad37-407b-ba61-e54a725b9804",
   "metadata": {
    "tags": []
   },
   "outputs": [
    {
     "name": "stdout",
     "output_type": "stream",
     "text": [
      "Tuple of characters: ('H', 'e', 'l', 'l', 'o', ',', ' ', 'W', 'o', 'r', 'l', 'd', '!')\n"
     ]
    }
   ],
   "source": [
    "# Step 1: Create a string\n",
    "my_string = \"Hello, World!\"\n",
    "\n",
    "# Step 2: Convert the string to a tuple of characters\n",
    "tuple_of_characters = tuple(my_string)\n",
    "\n",
    "# Step 3: Print the tuple of characters\n",
    "print(\"Tuple of characters:\", tuple_of_characters)"
   ]
  },
  {
   "cell_type": "code",
   "execution_count": null,
   "id": "fceb34fe-e673-4d5d-bc32-4d1d4d52325f",
   "metadata": {},
   "outputs": [],
   "source": [
    "#24 Convert tuple of character to string"
   ]
  },
  {
   "cell_type": "code",
   "execution_count": 75,
   "id": "61860f74-0a54-4349-86c4-d1e8588e1106",
   "metadata": {
    "tags": []
   },
   "outputs": [
    {
     "name": "stdout",
     "output_type": "stream",
     "text": [
      "String from tuple: Hello World!\n"
     ]
    }
   ],
   "source": [
    "# Step 1: Create a tuple of characters\n",
    "tuple_of_characters = ('H', 'e', 'l', 'l', 'o', ' ', 'W', 'o', 'r', 'l', 'd', '!')\n",
    "\n",
    "# Step 2: Convert the tuple of characters to a string using the 'join()' method\n",
    "string_from_tuple = ''.join(tuple_of_characters)\n",
    "\n",
    "# Step 3: Print the resulting string\n",
    "print(\"String from tuple:\", string_from_tuple)"
   ]
  },
  {
   "cell_type": "code",
   "execution_count": null,
   "id": "837c5c5f-4fc9-417e-8e67-2073979f1768",
   "metadata": {},
   "outputs": [],
   "source": [
    "#25 Create a tuple from multiple data types"
   ]
  },
  {
   "cell_type": "code",
   "execution_count": 76,
   "id": "6e55bfc0-0574-4747-b841-acc4abd2e2fc",
   "metadata": {
    "tags": []
   },
   "outputs": [
    {
     "name": "stdout",
     "output_type": "stream",
     "text": [
      "(1, 'hello', 3.14, True)\n"
     ]
    }
   ],
   "source": [
    "# Creating a tuple with elements of different data types\n",
    "mixed_tuple = (1, \"hello\", 3.14, True)\n",
    "\n",
    "# Printing the tuple\n",
    "print(mixed_tuple)"
   ]
  },
  {
   "cell_type": "code",
   "execution_count": null,
   "id": "c8a8d5ac-d66c-413b-b202-9a0f160b32c8",
   "metadata": {},
   "outputs": [],
   "source": [
    "#26 Check if two tuples are identical"
   ]
  },
  {
   "cell_type": "code",
   "execution_count": 77,
   "id": "04c53bb5-b2bc-4a3d-86c9-fe1cab2b0a44",
   "metadata": {
    "tags": []
   },
   "outputs": [
    {
     "name": "stdout",
     "output_type": "stream",
     "text": [
      "tuple1 and tuple2 are identical: True\n",
      "tuple1 and tuple3 are identical: False\n"
     ]
    }
   ],
   "source": [
    "# Step 1: Create two tuples\n",
    "tuple1 = (1, 2, 3)\n",
    "tuple2 = (1, 2, 3)\n",
    "tuple3 = (4, 5, 6)\n",
    "\n",
    "# Step 2: Compare the tuples for identity using the equality operator\n",
    "are_identical1 = tuple1 == tuple2\n",
    "are_identical2 = tuple1 == tuple3\n",
    "\n",
    "# Step 3: Print the results\n",
    "print(\"tuple1 and tuple2 are identical:\", are_identical1)\n",
    "print(\"tuple1 and tuple3 are identical:\", are_identical2)"
   ]
  },
  {
   "cell_type": "code",
   "execution_count": null,
   "id": "5f451948-167a-4216-a538-d0eaea58a8c2",
   "metadata": {},
   "outputs": [],
   "source": [
    "#27 Sort the elements of tuple"
   ]
  },
  {
   "cell_type": "code",
   "execution_count": 78,
   "id": "380366a3-d23e-4414-b517-2cd1f2aa19f9",
   "metadata": {
    "tags": []
   },
   "outputs": [
    {
     "name": "stdout",
     "output_type": "stream",
     "text": [
      "Sorted tuple: (1, 2, 3, 5, 8)\n"
     ]
    }
   ],
   "source": [
    "# Step 1: Create a tuple\n",
    "my_tuple = (5, 2, 8, 1, 3)\n",
    "\n",
    "# Step 2: Convert the tuple to a list, sort the list, and convert it back to a tuple\n",
    "sorted_tuple = tuple(sorted(my_tuple))\n",
    "\n",
    "# Step 3: Print the sorted tuple\n",
    "print(\"Sorted tuple:\", sorted_tuple)\n"
   ]
  },
  {
   "cell_type": "code",
   "execution_count": null,
   "id": "a9825099-76df-4f44-bbeb-46a7fca48ec1",
   "metadata": {},
   "outputs": [],
   "source": [
    "#28 Convert tuple of integer to tuple of strings"
   ]
  },
  {
   "cell_type": "code",
   "execution_count": 79,
   "id": "7b74a55e-2f02-4b82-84d0-bbf4ac546b3e",
   "metadata": {
    "tags": []
   },
   "outputs": [
    {
     "name": "stdout",
     "output_type": "stream",
     "text": [
      "Tuple of strings: ('1', '2', '3', '4', '5')\n"
     ]
    }
   ],
   "source": [
    "# Step 1: Create a tuple of integers\n",
    "tuple_of_integers = (1, 2, 3, 4, 5)\n",
    "\n",
    "# Step 2: Convert the tuple of integers to a tuple of strings using a list comprehension\n",
    "tuple_of_strings = tuple(str(item) for item in tuple_of_integers)\n",
    "\n",
    "# Step 3: Print the tuple of strings\n",
    "print(\"Tuple of strings:\", tuple_of_strings)"
   ]
  },
  {
   "cell_type": "code",
   "execution_count": null,
   "id": "92cfc67b-bd40-450b-a07e-9327ac588c63",
   "metadata": {},
   "outputs": [],
   "source": [
    "#29 Convert tuple of strings to tuple of integers"
   ]
  },
  {
   "cell_type": "code",
   "execution_count": 80,
   "id": "0ff7f45c-7c07-47c4-9ebb-08ef58527dac",
   "metadata": {
    "tags": []
   },
   "outputs": [
    {
     "name": "stdout",
     "output_type": "stream",
     "text": [
      "Tuple of integers: (10, 20, 30, 40, 50)\n"
     ]
    }
   ],
   "source": [
    "# Step 1: Create a tuple of strings\n",
    "tuple_of_strings = ('10', '20', '30', '40', '50')\n",
    "\n",
    "# Step 2: Convert the tuple of strings to a tuple of integers using a list comprehension\n",
    "tuple_of_integers = tuple(int(item) for item in tuple_of_strings)\n",
    "\n",
    "# Step 3: Print the tuple of integers\n",
    "print(\"Tuple of integers:\", tuple_of_integers)"
   ]
  },
  {
   "cell_type": "code",
   "execution_count": null,
   "id": "3459ce6e-6dfb-4a81-a738-d49b70fd1bb5",
   "metadata": {},
   "outputs": [],
   "source": [
    "#30 Merge two tuples"
   ]
  },
  {
   "cell_type": "code",
   "execution_count": 81,
   "id": "0f909d0a-9367-48d0-bede-867fd92d35b5",
   "metadata": {
    "tags": []
   },
   "outputs": [
    {
     "name": "stdout",
     "output_type": "stream",
     "text": [
      "Merged tuple: (1, 2, 3, 4, 5, 6)\n"
     ]
    }
   ],
   "source": [
    "# Step 1: Create two tuples\n",
    "tuple1 = (1, 2, 3)\n",
    "tuple2 = (4, 5, 6)\n",
    "\n",
    "# Step 2: Merge the two tuples using the '+' operator\n",
    "merged_tuple = tuple1 + tuple2\n",
    "\n",
    "# Step 3: Print the merged tuple\n",
    "print(\"Merged tuple:\", merged_tuple)"
   ]
  },
  {
   "cell_type": "markdown",
   "id": "45bade09-36c6-4bf1-929c-ffde9cff96a9",
   "metadata": {},
   "source": [
    "#31  Flatten a nested tuple"
   ]
  },
  {
   "cell_type": "code",
   "execution_count": 82,
   "id": "0a26de15-0879-4737-9c65-5991fce84065",
   "metadata": {
    "tags": []
   },
   "outputs": [
    {
     "name": "stdout",
     "output_type": "stream",
     "text": [
      "Flattened tuple: (1, 2, 3, 4, 5, 6, 7, 8)\n"
     ]
    }
   ],
   "source": [
    "# Recursive function to flatten a nested tuple\n",
    "def flatten_tuple(nested_tuple):\n",
    "    flattened = []\n",
    "    for item in nested_tuple:\n",
    "        if isinstance(item, tuple):\n",
    "            flattened.extend(flatten_tuple(item))\n",
    "        else:\n",
    "            flattened.append(item)\n",
    "    return flattened\n",
    "\n",
    "# Step 1: Create a nested tuple\n",
    "nested_tuple = ((1, 2), (3, 4, 5), (6, (7, 8)))\n",
    "\n",
    "# Step 2: Flatten the nested tuple\n",
    "flattened_tuple = tuple(flatten_tuple(nested_tuple))\n",
    "\n",
    "# Step 3: Print the flattened tuple\n",
    "print(\"Flattened tuple:\", flattened_tuple)"
   ]
  },
  {
   "cell_type": "code",
   "execution_count": null,
   "id": "c0f916af-5747-4597-8832-ef5fc2ac1693",
   "metadata": {},
   "outputs": [],
   "source": [
    "# 32 Create a tuple of the first 5 prime numbers "
   ]
  },
  {
   "cell_type": "code",
   "execution_count": 83,
   "id": "7f13f114-aceb-4d79-9bec-0aedb4933be3",
   "metadata": {
    "tags": []
   },
   "outputs": [
    {
     "name": "stdout",
     "output_type": "stream",
     "text": [
      "Tuple of the first 5 prime numbers: (2, 3, 5, 7, 11)\n"
     ]
    }
   ],
   "source": [
    "# Function to check if a number is prime\n",
    "def is_prime(num):\n",
    "    if num <= 1:\n",
    "        return False\n",
    "    for i in range(2, int(num ** 0.5) + 1):\n",
    "        if num % i == 0:\n",
    "            return False\n",
    "    return True\n",
    "\n",
    "# Generate the first 5 prime numbers\n",
    "prime_numbers_list = [num for num in range(2, 100) if is_prime(num)][:5]\n",
    "\n",
    "# Convert the list to a tuple\n",
    "prime_numbers_tuple = tuple(prime_numbers_list)\n",
    "\n",
    "# Print the tuple of prime numbers\n",
    "print(\"Tuple of the first 5 prime numbers:\", prime_numbers_tuple)"
   ]
  },
  {
   "cell_type": "code",
   "execution_count": null,
   "id": "9b21addc-673b-4823-9383-43e4af5641e6",
   "metadata": {},
   "outputs": [],
   "source": [
    "#33 Check if tuple is palindrome"
   ]
  },
  {
   "cell_type": "code",
   "execution_count": 85,
   "id": "b5ae4bb3-ea6f-4f41-a74d-4d503e851c7d",
   "metadata": {
    "tags": []
   },
   "outputs": [
    {
     "name": "stdout",
     "output_type": "stream",
     "text": [
      "palindrome_tuple is a palindrome: True\n",
      "non_palindrome_tuple is a palindrome: False\n"
     ]
    }
   ],
   "source": [
    "# Function to check if a tuple is a palindrome\n",
    "def is_palindrome(tup):\n",
    "    return tup == tup[::-1]\n",
    "\n",
    "# Create tuples for testing\n",
    "palindrome_tuple = (1, 2, 3, 2, 1)\n",
    "non_palindrome_tuple = (1, 2, 3, 4, 5)\n",
    "\n",
    "# Check if the tuples are palindromes\n",
    "is_palindrome1 = is_palindrome(palindrome_tuple)\n",
    "is_palindrome2 = is_palindrome(non_palindrome_tuple)\n",
    "\n",
    "# Print the results\n",
    "print(\"palindrome_tuple is a palindrome:\", is_palindrome1)\n",
    "print(\"non_palindrome_tuple is a palindrome:\", is_palindrome2)"
   ]
  },
  {
   "cell_type": "code",
   "execution_count": null,
   "id": "2a5aeb17-1919-49d7-be7e-146d2f8d00da",
   "metadata": {},
   "outputs": [],
   "source": [
    "#34 Create a tuple of squares of numbers from 1 to 5"
   ]
  },
  {
   "cell_type": "code",
   "execution_count": 86,
   "id": "69d66654-979f-4d2c-b9df-23e3a378691c",
   "metadata": {
    "tags": []
   },
   "outputs": [
    {
     "name": "stdout",
     "output_type": "stream",
     "text": [
      "Tuple of squares: (1, 4, 9, 16, 25)\n"
     ]
    }
   ],
   "source": [
    "# Create a tuple of squares using a list comprehension\n",
    "squares_tuple = tuple(x ** 2 for x in range(1, 6))\n",
    "\n",
    "# Print the tuple of squares\n",
    "print(\"Tuple of squares:\", squares_tuple)"
   ]
  },
  {
   "cell_type": "code",
   "execution_count": null,
   "id": "69f094d8-b122-4fe6-8536-e1e57dd5a9cd",
   "metadata": {},
   "outputs": [],
   "source": [
    "#35 Filter out all even numbers from tuple"
   ]
  },
  {
   "cell_type": "code",
   "execution_count": 87,
   "id": "0c231044-aa46-4239-88cc-8ed40315cb49",
   "metadata": {
    "tags": []
   },
   "outputs": [
    {
     "name": "stdout",
     "output_type": "stream",
     "text": [
      "Filtered tuple: (1, 3, 5, 7, 9)\n"
     ]
    }
   ],
   "source": [
    "# Create a tuple\n",
    "original_tuple = (1, 2, 3, 4, 5, 6, 7, 8, 9, 10)\n",
    "\n",
    "# Filter out even numbers using a list comprehension\n",
    "filtered_tuple = tuple(num for num in original_tuple if num % 2 != 0)\n",
    "\n",
    "# Print the filtered tuple\n",
    "print(\"Filtered tuple:\", filtered_tuple)"
   ]
  },
  {
   "cell_type": "code",
   "execution_count": null,
   "id": "ca0fbd55-0103-4784-aece-c7715aff35fe",
   "metadata": {},
   "outputs": [],
   "source": [
    "#36 Multiply all elements of tuple by 2"
   ]
  },
  {
   "cell_type": "code",
   "execution_count": 88,
   "id": "fc3b1736-5fbe-417b-bc0c-6b0a62256467",
   "metadata": {
    "tags": []
   },
   "outputs": [
    {
     "name": "stdout",
     "output_type": "stream",
     "text": [
      "Doubled tuple: (2, 4, 6, 8, 10)\n"
     ]
    }
   ],
   "source": [
    "# Create a tuple\n",
    "original_tuple = (1, 2, 3, 4, 5)\n",
    "\n",
    "# Multiply all elements by 2 using a list comprehension and convert to a tuple\n",
    "doubled_tuple = tuple(num * 2 for num in original_tuple)\n",
    "\n",
    "# Print the doubled tuple\n",
    "print(\"Doubled tuple:\", doubled_tuple)"
   ]
  },
  {
   "cell_type": "code",
   "execution_count": null,
   "id": "40cba7c1-b860-465f-8ef1-92e76291012d",
   "metadata": {},
   "outputs": [],
   "source": [
    "#37 Create tuple of random numbers"
   ]
  },
  {
   "cell_type": "code",
   "execution_count": 89,
   "id": "ed50e24b-77aa-4a2b-8ab4-d0ba645b8438",
   "metadata": {
    "tags": []
   },
   "outputs": [
    {
     "name": "stdout",
     "output_type": "stream",
     "text": [
      "Random tuple: (47, 98, 59, 72, 76, 14, 76, 47, 14, 62)\n"
     ]
    }
   ],
   "source": [
    "import random\n",
    "\n",
    "# Create a tuple of random numbers using a list comprehension\n",
    "random_tuple = tuple(random.randint(1, 100) for _ in range(10))  # Generating 10 random numbers between 1 and 100\n",
    "\n",
    "# Print the tuple of random numbers\n",
    "print(\"Random tuple:\", random_tuple)"
   ]
  },
  {
   "cell_type": "code",
   "execution_count": null,
   "id": "0af96d0e-67a8-4120-9e3d-5ac054ec6cc0",
   "metadata": {},
   "outputs": [],
   "source": [
    "#38 Check if tuple is sorted"
   ]
  },
  {
   "cell_type": "code",
   "execution_count": 90,
   "id": "92ca505f-d6e2-4772-a517-d50b43d3281d",
   "metadata": {
    "tags": []
   },
   "outputs": [
    {
     "name": "stdout",
     "output_type": "stream",
     "text": [
      "sorted_tuple is sorted: True\n",
      "unsorted_tuple is sorted: False\n"
     ]
    }
   ],
   "source": [
    "# Function to check if a tuple is sorted\n",
    "def is_sorted(tup):\n",
    "    for i in range(len(tup) - 1):\n",
    "        if tup[i] > tup[i + 1]:\n",
    "            return False\n",
    "    return True\n",
    "\n",
    "# Create tuples for testing\n",
    "sorted_tuple = (1, 2, 3, 4, 5)\n",
    "unsorted_tuple = (5, 3, 1, 4, 2)\n",
    "\n",
    "# Check if the tuples are sorted\n",
    "is_sorted1 = is_sorted(sorted_tuple)\n",
    "is_sorted2 = is_sorted(unsorted_tuple)\n",
    "\n",
    "# Print the results\n",
    "print(\"sorted_tuple is sorted:\", is_sorted1)\n",
    "print(\"unsorted_tuple is sorted:\", is_sorted2)"
   ]
  },
  {
   "cell_type": "code",
   "execution_count": null,
   "id": "7d9e3cf7-8f3f-4e73-b538-e41fa6d55dcf",
   "metadata": {},
   "outputs": [],
   "source": [
    "#39 Rotate tuple by left by n position"
   ]
  },
  {
   "cell_type": "code",
   "execution_count": 91,
   "id": "d13b1b63-8786-4a95-bbeb-105b818ff957",
   "metadata": {
    "tags": []
   },
   "outputs": [
    {
     "name": "stdout",
     "output_type": "stream",
     "text": [
      "(3, 4, 5, 1, 2)\n"
     ]
    }
   ],
   "source": [
    "def rotate_tuple_left(tup, n):\n",
    "    n = n % len(tup)  # Ensure n is within the range of tuple length\n",
    "    rotated_tuple = tup[n:] + tup[:n]  # Rotate the tuple\n",
    "    return rotated_tuple\n",
    "\n",
    "# Example tuple\n",
    "my_tuple = (1, 2, 3, 4, 5)\n",
    "n_positions = 2\n",
    "result = rotate_tuple_left(my_tuple, n_positions)\n",
    "print(result)"
   ]
  },
  {
   "cell_type": "code",
   "execution_count": null,
   "id": "73439dcd-d528-4b51-82a0-4a7879457244",
   "metadata": {},
   "outputs": [],
   "source": [
    "#40 Rotate tuple by right by n position"
   ]
  },
  {
   "cell_type": "code",
   "execution_count": 92,
   "id": "cd4a1655-90d2-462f-8d7f-19a397bf876f",
   "metadata": {
    "tags": []
   },
   "outputs": [
    {
     "name": "stdout",
     "output_type": "stream",
     "text": [
      "(4, 5, 1, 2, 3)\n"
     ]
    }
   ],
   "source": [
    "def rotate_tuple_right(tup, n):\n",
    "    n = n % len(tup)  # Ensure n is within the range of tuple length\n",
    "    rotated_tuple = tup[-n:] + tup[:-n]  # Rotate the tuple\n",
    "    return rotated_tuple\n",
    "\n",
    "# Example tuple\n",
    "my_tuple = (1, 2, 3, 4, 5)\n",
    "n_positions = 2\n",
    "result = rotate_tuple_right(my_tuple, n_positions)\n",
    "print(result)"
   ]
  },
  {
   "cell_type": "code",
   "execution_count": null,
   "id": "fdd0297e-5225-4d4f-a32a-58a3e17b1adf",
   "metadata": {},
   "outputs": [],
   "source": [
    "#41 Create a tuple of the first 5 Fibonacci numbers."
   ]
  },
  {
   "cell_type": "code",
   "execution_count": 93,
   "id": "c976e924-4f31-40bb-9b7e-0125cb801734",
   "metadata": {
    "tags": []
   },
   "outputs": [
    {
     "name": "stdout",
     "output_type": "stream",
     "text": [
      "(0, 1, 1, 2, 3)\n"
     ]
    }
   ],
   "source": [
    "# Define a function to generate the first n Fibonacci numbers\n",
    "def generate_fibonacci(n):\n",
    "    fibonacci = [0, 1]  # Initialize the list with the first two Fibonacci numbers\n",
    "    while len(fibonacci) < n:  # Continue generating Fibonacci numbers until the list has n elements\n",
    "        next_number = fibonacci[-1] + fibonacci[-2]  # Calculate the next Fibonacci number\n",
    "        fibonacci.append(next_number)  # Add the next Fibonacci number to the list\n",
    "    return tuple(fibonacci)  # Convert the list to a tuple and return it\n",
    "\n",
    "# Call the generate_fibonacci function to create a tuple of the first 5 Fibonacci numbers\n",
    "fibonacci_tuple = generate_fibonacci(5)\n",
    "\n",
    "# Print the resulting tuple\n",
    "print(fibonacci_tuple)"
   ]
  },
  {
   "cell_type": "code",
   "execution_count": null,
   "id": "060ead64-e025-4de4-9f94-261d070ea976",
   "metadata": {},
   "outputs": [],
   "source": [
    "#42 Create a tuple user from single input"
   ]
  },
  {
   "cell_type": "code",
   "execution_count": 94,
   "id": "ba1d9ce1-7aa7-4213-a3f7-5275335c9e2b",
   "metadata": {
    "tags": []
   },
   "outputs": [
    {
     "name": "stdin",
     "output_type": "stream",
     "text": [
      "Enter elements separated by commas:  m,u,k,t,i\n"
     ]
    },
    {
     "name": "stdout",
     "output_type": "stream",
     "text": [
      "User input tuple: ('m', 'u', 'k', 't', 'i')\n"
     ]
    }
   ],
   "source": [
    "# Taking user input for creating a tuple\n",
    "input_str = input(\"Enter elements separated by commas: \")\n",
    "\n",
    "# Splitting the input string into a list of strings\n",
    "input_list = input_str.split(',')\n",
    "\n",
    "# Converting the list of strings to a tuple\n",
    "user_tuple = tuple(input_list)\n",
    "\n",
    "# Printing the created tuple\n",
    "print(\"User input tuple:\", user_tuple)"
   ]
  },
  {
   "cell_type": "code",
   "execution_count": null,
   "id": "c89d5152-40e6-44a6-b14c-6985b8994857",
   "metadata": {},
   "outputs": [],
   "source": [
    "#43 Swap two elements in tuple"
   ]
  },
  {
   "cell_type": "code",
   "execution_count": 95,
   "id": "f2b850a6-90e9-4dcf-8a8c-8f407830969c",
   "metadata": {
    "tags": []
   },
   "outputs": [
    {
     "name": "stdout",
     "output_type": "stream",
     "text": [
      "Swapped tuple: (1, 4, 3, 2, 5)\n"
     ]
    }
   ],
   "source": [
    "# Create a tuple\n",
    "my_tuple = (1, 2, 3, 4, 5)\n",
    "\n",
    "# Swap elements at indices 1 and 3\n",
    "index1 = 1\n",
    "index2 = 3\n",
    "swapped_tuple = tuple(\n",
    "    my_tuple[i] if i not in (index1, index2) else\n",
    "    my_tuple[index2] if i == index1 else\n",
    "    my_tuple[index1]\n",
    "    for i in range(len(my_tuple))\n",
    ")\n",
    "\n",
    "# Print the swapped tuple\n",
    "print(\"Swapped tuple:\", swapped_tuple)"
   ]
  },
  {
   "cell_type": "code",
   "execution_count": null,
   "id": "c2f21130-bfac-49d5-9ec4-96236b1b464b",
   "metadata": {},
   "outputs": [],
   "source": [
    "#44 Reverse element of tuple"
   ]
  },
  {
   "cell_type": "code",
   "execution_count": 96,
   "id": "a3b66574-e381-4b62-a0ea-f6885b21641d",
   "metadata": {
    "tags": []
   },
   "outputs": [
    {
     "name": "stdout",
     "output_type": "stream",
     "text": [
      "Reversed tuple: (5, 4, 3, 2, 1)\n"
     ]
    }
   ],
   "source": [
    "# Create a tuple\n",
    "my_tuple = (1, 2, 3, 4, 5)\n",
    "\n",
    "# Reverse the elements using slicing\n",
    "reversed_tuple = my_tuple[::-1]\n",
    "\n",
    "# Print the reversed tuple\n",
    "print(\"Reversed tuple:\", reversed_tuple)"
   ]
  },
  {
   "cell_type": "code",
   "execution_count": null,
   "id": "06cffc0e-5318-4960-acf4-63994cc5fc4a",
   "metadata": {},
   "outputs": [],
   "source": [
    "#45 Create a tuple of the first n powers of 2.\n"
   ]
  },
  {
   "cell_type": "code",
   "execution_count": 97,
   "id": "fe63d739-3512-489c-81e0-5b6e520e2f3e",
   "metadata": {
    "tags": []
   },
   "outputs": [
    {
     "name": "stdout",
     "output_type": "stream",
     "text": [
      "Tuple of the first 5 powers of 2: (1, 2, 4, 8, 16)\n"
     ]
    }
   ],
   "source": [
    "# Define the value of n\n",
    "n = 5\n",
    "\n",
    "# Create a tuple of the first n powers of 2 using a list comprehension\n",
    "powers_of_2_tuple = tuple(2 ** i for i in range(n))\n",
    "\n",
    "# Print the tuple of powers of 2\n",
    "print(\"Tuple of the first\", n, \"powers of 2:\", powers_of_2_tuple)"
   ]
  },
  {
   "cell_type": "code",
   "execution_count": null,
   "id": "aac21ed5-64b4-47ad-a91d-ff176efc1997",
   "metadata": {},
   "outputs": [],
   "source": [
    "#46 Find the longest string in a tuple of strings"
   ]
  },
  {
   "cell_type": "code",
   "execution_count": 98,
   "id": "c50bf330-d80f-473a-8c02-be6c2c7fa649",
   "metadata": {
    "tags": []
   },
   "outputs": [
    {
     "name": "stdout",
     "output_type": "stream",
     "text": [
      "Longest string: watermelon\n"
     ]
    }
   ],
   "source": [
    "# Create a tuple of strings\n",
    "string_tuple = (\"apple\", \"banana\", \"grape\", \"kiwi\", \"watermelon\")\n",
    "\n",
    "# Find the longest string in the tuple\n",
    "longest_string = max(string_tuple, key=len)\n",
    "\n",
    "# Print the longest string\n",
    "print(\"Longest string:\", longest_string)"
   ]
  },
  {
   "cell_type": "code",
   "execution_count": null,
   "id": "89976bcf-8c29-4ff1-964c-6aa43b7f0478",
   "metadata": {},
   "outputs": [],
   "source": [
    "#47 Find the shortest string in a tuple of strings"
   ]
  },
  {
   "cell_type": "code",
   "execution_count": 99,
   "id": "d50a6c02-952f-4bad-9fe7-92685229f444",
   "metadata": {
    "tags": []
   },
   "outputs": [
    {
     "name": "stdout",
     "output_type": "stream",
     "text": [
      "Shortest string: kiwi\n"
     ]
    }
   ],
   "source": [
    "# Create a tuple of strings\n",
    "string_tuple = (\"apple\", \"banana\", \"grape\", \"kiwi\", \"watermelon\")\n",
    "\n",
    "# Find the shortest string in the tuple\n",
    "shortest_string = min(string_tuple, key=len)\n",
    "\n",
    "# Print the shortest string\n",
    "print(\"Shortest string:\", shortest_string)"
   ]
  },
  {
   "cell_type": "code",
   "execution_count": null,
   "id": "6a8bfbbe-60ff-445a-970f-9acbddd4d8f8",
   "metadata": {},
   "outputs": [],
   "source": [
    "#48 Create a tuple of the first n triangular numbers"
   ]
  },
  {
   "cell_type": "code",
   "execution_count": 100,
   "id": "0a26e4e0-be90-4564-b746-7784fc92574e",
   "metadata": {
    "tags": []
   },
   "outputs": [
    {
     "name": "stdout",
     "output_type": "stream",
     "text": [
      "Tuple of the first 5 triangular numbers: (1, 3, 6, 10, 15)\n"
     ]
    }
   ],
   "source": [
    "# Define the value of n\n",
    "n = 5\n",
    "\n",
    "# Create a tuple of the first n triangular numbers using a list comprehension\n",
    "triangular_numbers_tuple = tuple((i * (i + 1)) // 2 for i in range(1, n + 1))\n",
    "\n",
    "# Print the tuple of triangular numbers\n",
    "print(\"Tuple of the first\", n, \"triangular numbers:\", triangular_numbers_tuple)"
   ]
  },
  {
   "cell_type": "code",
   "execution_count": null,
   "id": "e7943e45-6625-4f46-9919-575d8399471d",
   "metadata": {},
   "outputs": [],
   "source": [
    "#49 Check if a tuple contains another tuple as a subsequence"
   ]
  },
  {
   "cell_type": "code",
   "execution_count": 101,
   "id": "84d0d439-8397-47e7-b5e1-bd58495194e9",
   "metadata": {
    "tags": []
   },
   "outputs": [
    {
     "name": "stdout",
     "output_type": "stream",
     "text": [
      "Main tuple contains subsequence tuple: True\n"
     ]
    }
   ],
   "source": [
    "# Function to check if a tuple contains another tuple as a subsequence\n",
    "def contains_subsequence(main_tuple, sub_tuple):\n",
    "    sub_length = len(sub_tuple)\n",
    "    for i in range(len(main_tuple) - sub_length + 1):\n",
    "        if main_tuple[i:i+sub_length] == sub_tuple:\n",
    "            return True\n",
    "    return False\n",
    "\n",
    "# Main tuple\n",
    "main_tuple = (1, 2, 3, 4, 5, 6, 7, 8, 9)\n",
    "\n",
    "# Subsequence tuple\n",
    "sub_tuple = (3, 4, 5)\n",
    "\n",
    "# Check if the main tuple contains the subsequence tuple\n",
    "contains_subseq = contains_subsequence(main_tuple, sub_tuple)\n",
    "\n",
    "# Print the result\n",
    "print(\"Main tuple contains subsequence tuple:\", contains_subseq)"
   ]
  },
  {
   "cell_type": "code",
   "execution_count": null,
   "id": "7a6f072b-1267-48a8-8234-96d7c95b9c3a",
   "metadata": {},
   "outputs": [],
   "source": [
    "#50 Create a tuple of alternating 1s and 0s of length n"
   ]
  },
  {
   "cell_type": "code",
   "execution_count": 102,
   "id": "f4ceae02-2fdf-4b52-a79f-a098cfc9c384",
   "metadata": {
    "tags": []
   },
   "outputs": [
    {
     "name": "stdout",
     "output_type": "stream",
     "text": [
      "Tuple of alternating 1s and 0s: (0, 1, 0, 1, 0, 1, 0, 1, 0, 1)\n"
     ]
    }
   ],
   "source": [
    "# Define the value of n\n",
    "n = 10\n",
    "\n",
    "# Create a tuple of alternating 1s and 0s using a list comprehension\n",
    "alternating_tuple = tuple(i % 2 for i in range(n))\n",
    "\n",
    "# Print the tuple of alternating 1s and 0s\n",
    "print(\"Tuple of alternating 1s and 0s:\", alternating_tuple)"
   ]
  },
  {
   "cell_type": "code",
   "execution_count": null,
   "id": "39480875-ad3e-4799-bf92-020237950296",
   "metadata": {},
   "outputs": [],
   "source": [
    "#set based problems\n",
    "#1 Create a set with integer from 1 to 5"
   ]
  },
  {
   "cell_type": "code",
   "execution_count": 103,
   "id": "41d23c63-14f0-4106-b51c-45e5d70cc1ec",
   "metadata": {
    "tags": []
   },
   "outputs": [
    {
     "name": "stdout",
     "output_type": "stream",
     "text": [
      "{1, 2, 3, 4, 5}\n"
     ]
    }
   ],
   "source": [
    "# Step 1: Create an empty set\n",
    "my_set = set()\n",
    "\n",
    "# Step 2: Add integers from 1 to 5 to the set\n",
    "my_set.add(1)\n",
    "my_set.add(2)\n",
    "my_set.add(3)\n",
    "my_set.add(4)\n",
    "my_set.add(5)\n",
    "\n",
    "# Step 3: Print the final set\n",
    "print(my_set)## Set based problems:"
   ]
  },
  {
   "cell_type": "code",
   "execution_count": null,
   "id": "4a9dc5bb-56b4-44bf-b65c-27d33c8810e5",
   "metadata": {},
   "outputs": [],
   "source": [
    "#2 Add an element to set"
   ]
  },
  {
   "cell_type": "code",
   "execution_count": 104,
   "id": "673506b2-11ac-4652-bf0f-29ba9537e680",
   "metadata": {
    "tags": []
   },
   "outputs": [
    {
     "name": "stdout",
     "output_type": "stream",
     "text": [
      "Original set: {1, 2, 3, 4, 5}\n",
      "Set after adding element: {1, 2, 3, 4, 5, 6}\n"
     ]
    }
   ],
   "source": [
    "# Step 1: Create a set\n",
    "my_set = {1, 2, 3, 4, 5}\n",
    "\n",
    "# Step 2: Display the original set\n",
    "print(\"Original set:\", my_set)\n",
    "\n",
    "# Step 3: Add an element to the set\n",
    "element_to_add = 6\n",
    "my_set.add(element_to_add)\n",
    "\n",
    "# Step 4: Display the modified set\n",
    "print(\"Set after adding element:\", my_set)"
   ]
  },
  {
   "cell_type": "code",
   "execution_count": null,
   "id": "ae838c0a-0e19-4563-b6f0-476b535ce3fd",
   "metadata": {},
   "outputs": [],
   "source": [
    "#3 Remove an element from set"
   ]
  },
  {
   "cell_type": "code",
   "execution_count": 105,
   "id": "3006b527-1756-4b6a-9a06-d712a2a2225f",
   "metadata": {
    "tags": []
   },
   "outputs": [
    {
     "name": "stdout",
     "output_type": "stream",
     "text": [
      "Original Set: {1, 2, 3, 4, 5}\n",
      "Set after removing 3 : {1, 2, 4, 5}\n"
     ]
    }
   ],
   "source": [
    "# Step 1: Create a set with some elements\n",
    "my_set = {1, 2, 3, 4, 5}\n",
    "\n",
    "# Step 2: Print the original set\n",
    "print(\"Original Set:\", my_set)\n",
    "\n",
    "# Step 3: Choose an element to remove\n",
    "element_to_remove = 3\n",
    "\n",
    "# Step 4: Use the remove() method to remove the chosen element\n",
    "# Note: If the element is not present in the set, remove() raises a KeyError.\n",
    "my_set.remove(element_to_remove)\n",
    "\n",
    "# Step 5: Print the modified set after removal\n",
    "print(\"Set after removing\", element_to_remove, \":\", my_set)"
   ]
  },
  {
   "cell_type": "code",
   "execution_count": null,
   "id": "bbb4249a-d380-4f3b-9f63-5e62adfe632a",
   "metadata": {},
   "outputs": [],
   "source": [
    "#4 Check if element exists in set"
   ]
  },
  {
   "cell_type": "code",
   "execution_count": 106,
   "id": "f97445af-c778-4c9b-9b72-bc4428b08118",
   "metadata": {
    "tags": []
   },
   "outputs": [
    {
     "name": "stdin",
     "output_type": "stream",
     "text": [
      "Enter the element to check:  5\n"
     ]
    },
    {
     "name": "stdout",
     "output_type": "stream",
     "text": [
      "5 exists in the set.\n"
     ]
    }
   ],
   "source": [
    "# Step 1: Create a set with some elements\n",
    "my_set = {1, 3, 5, 7, 9}\n",
    "\n",
    "# Step 2: Ask the user for the element they want to check\n",
    "element_to_check = int(input(\"Enter the element to check: \"))\n",
    "\n",
    "# Step 3: Use the \"in\" keyword to check if the element exists in the set\n",
    "if element_to_check in my_set:\n",
    "    # Step 4: If the element exists in the set, print a message\n",
    "    print(f\"{element_to_check} exists in the set.\")\n",
    "else:\n",
    "    # Step 5: If the element does not exist in the set, print a message\n",
    "    print(f\"{element_to_check} does not exist in the set.\")"
   ]
  },
  {
   "cell_type": "code",
   "execution_count": null,
   "id": "ce45a62b-aada-466a-8998-a60657915d63",
   "metadata": {},
   "outputs": [],
   "source": [
    "#5 Find length of set without using len() function"
   ]
  },
  {
   "cell_type": "code",
   "execution_count": 107,
   "id": "bc7f001c-ddeb-4433-9ea7-921763bc952c",
   "metadata": {
    "tags": []
   },
   "outputs": [
    {
     "name": "stdout",
     "output_type": "stream",
     "text": [
      "Length of the set: 5\n"
     ]
    }
   ],
   "source": [
    "# Create a set with some elements\n",
    "my_set = {1, 2, 3, 4, 5}\n",
    "\n",
    "# Initialize a variable to count the elements in the set\n",
    "count = 0\n",
    "\n",
    "# Iterate through each element in the set\n",
    "for _ in my_set:\n",
    "    # Increase the count by 1 for each element\n",
    "    count += 1\n",
    "\n",
    "# Print the count, which is the length of the set\n",
    "print(\"Length of the set:\", count)"
   ]
  },
  {
   "cell_type": "code",
   "execution_count": null,
   "id": "6be0a57c-be50-4fbe-a6d9-0bc0d96b2784",
   "metadata": {},
   "outputs": [],
   "source": [
    "#6 Clear all elements from set"
   ]
  },
  {
   "cell_type": "code",
   "execution_count": 108,
   "id": "41c3ef7c-6068-4266-be00-3449f784e9e1",
   "metadata": {
    "tags": []
   },
   "outputs": [
    {
     "name": "stdout",
     "output_type": "stream",
     "text": [
      "Original set: {1, 2, 3, 4, 5}\n",
      "Set after clearing: set()\n"
     ]
    }
   ],
   "source": [
    "# Step 1: Create a set with some elements\n",
    "my_set = {1, 2, 3, 4, 5}\n",
    "\n",
    "# Step 2: Display the original set\n",
    "print(\"Original set:\", my_set)\n",
    "\n",
    "# Step 3: Clear all elements from the set using the clear() method\n",
    "my_set.clear()\n",
    "\n",
    "# Step 4: Display the set after clearing\n",
    "print(\"Set after clearing:\", my_set)\n"
   ]
  },
  {
   "cell_type": "code",
   "execution_count": null,
   "id": "3abe34ee-92bb-4f20-8914-2578e9fb5efe",
   "metadata": {},
   "outputs": [],
   "source": [
    "#7 Create a set of even numbers from 1 to 10"
   ]
  },
  {
   "cell_type": "code",
   "execution_count": 109,
   "id": "4071dbb5-12e4-4312-97d4-bfe892b5f910",
   "metadata": {
    "tags": []
   },
   "outputs": [
    {
     "name": "stdout",
     "output_type": "stream",
     "text": [
      "{2, 4, 6, 8, 10}\n"
     ]
    }
   ],
   "source": [
    "# Step 1: Initialize an empty set\n",
    "even_numbers_set = set()\n",
    "\n",
    "# Step 2: Iterate through numbers from 1 to 10\n",
    "for num in range(1, 11):\n",
    "    # Step 3: Check if the number is even\n",
    "    if num % 2 == 0:\n",
    "        # Step 4: Add the even number to the set\n",
    "        even_numbers_set.add(num)\n",
    "\n",
    "# Step 5: Print the set of even numbers\n",
    "print(even_numbers_set)"
   ]
  },
  {
   "cell_type": "code",
   "execution_count": null,
   "id": "fd4306c3-6f45-4ebb-a129-f896a493b5e1",
   "metadata": {},
   "outputs": [],
   "source": [
    "#8 Create a set of odd numbers from 1 to 10"
   ]
  },
  {
   "cell_type": "code",
   "execution_count": 111,
   "id": "9b21b5b3-d8d2-4908-a5a0-5bcfeedcf6e5",
   "metadata": {
    "tags": []
   },
   "outputs": [
    {
     "name": "stdout",
     "output_type": "stream",
     "text": [
      "{1, 3, 5, 7, 9}\n"
     ]
    }
   ],
   "source": [
    "# Step 1: Initialize an empty set to store odd numbers.\n",
    "odd_numbers_set = set()\n",
    "\n",
    "# Step 2: Iterate through numbers from 1 to 10.\n",
    "for num in range(1, 11):\n",
    "    # Step 3: Check if the current number is odd.\n",
    "    if num % 2 != 0:\n",
    "        # Step 4: If the number is odd, add it to the set.\n",
    "        odd_numbers_set.add(num)\n",
    "\n",
    "# Step 5: Print the final set of odd numbers.\n",
    "print(odd_numbers_set)"
   ]
  },
  {
   "cell_type": "code",
   "execution_count": null,
   "id": "1bc0a572-fd1c-4d24-a2bb-ca2b7b4aa556",
   "metadata": {},
   "outputs": [],
   "source": [
    "#9 Create union of two sets"
   ]
  },
  {
   "cell_type": "code",
   "execution_count": 112,
   "id": "b925ff9f-7daf-4b71-b9ae-d3f4435f2944",
   "metadata": {
    "tags": []
   },
   "outputs": [
    {
     "name": "stdout",
     "output_type": "stream",
     "text": [
      "Set 1: {1, 2, 3, 4, 5}\n",
      "Set 2: {4, 5, 6, 7, 8}\n",
      "Union of Set 1 and Set 2: {1, 2, 3, 4, 5, 6, 7, 8}\n"
     ]
    }
   ],
   "source": [
    "# Define two sets\n",
    "set1 = {1, 2, 3, 4, 5}\n",
    "set2 = {4, 5, 6, 7, 8}\n",
    "\n",
    "# Find the union of the two sets using the `union()` method\n",
    "union_result = set1.union(set2)\n",
    "\n",
    "# Print the original sets and their union\n",
    "print(\"Set 1:\", set1)\n",
    "print(\"Set 2:\", set2)\n",
    "print(\"Union of Set 1 and Set 2:\", union_result)"
   ]
  },
  {
   "cell_type": "code",
   "execution_count": null,
   "id": "93c221fd-8f79-447e-91bb-02ff1b81ab6a",
   "metadata": {},
   "outputs": [],
   "source": [
    "#10 Find intersection of two sets"
   ]
  },
  {
   "cell_type": "code",
   "execution_count": 113,
   "id": "e32c1632-05e3-4c3e-a550-574cacab7912",
   "metadata": {
    "tags": []
   },
   "outputs": [
    {
     "name": "stdout",
     "output_type": "stream",
     "text": [
      "Set 1: {1, 2, 3, 4, 5}\n",
      "Set 2: {3, 4, 5, 6, 7}\n",
      "Intersection: {3, 4, 5}\n"
     ]
    }
   ],
   "source": [
    "# Create two sets\n",
    "set1 = {1, 2, 3, 4, 5}\n",
    "set2 = {3, 4, 5, 6, 7}\n",
    "\n",
    "# Find the intersection using the intersection() method\n",
    "intersection_result = set1.intersection(set2)\n",
    "\n",
    "# Print the original sets and the intersection\n",
    "print(\"Set 1:\", set1)\n",
    "print(\"Set 2:\", set2)\n",
    "print(\"Intersection:\", intersection_result)"
   ]
  },
  {
   "cell_type": "code",
   "execution_count": null,
   "id": "01841088-8fbf-4878-8bb3-127bf09cdce2",
   "metadata": {},
   "outputs": [],
   "source": [
    "#11 Find difference of two sets"
   ]
  },
  {
   "cell_type": "code",
   "execution_count": 114,
   "id": "0940f1d0-58e5-4262-a2a1-09686be25534",
   "metadata": {
    "tags": []
   },
   "outputs": [
    {
     "name": "stdout",
     "output_type": "stream",
     "text": [
      "Set 1: {1, 2, 3, 4, 5}\n",
      "Set 2: {3, 4, 5, 6, 7}\n",
      "Difference: {1, 2}\n"
     ]
    }
   ],
   "source": [
    "# Create two sets\n",
    "set1 = {1, 2, 3, 4, 5}\n",
    "set2 = {3, 4, 5, 6, 7}\n",
    "\n",
    "# Find the difference between the sets using the difference() method\n",
    "difference_set = set1.difference(set2)\n",
    "\n",
    "# Print the original sets and the difference set\n",
    "print(\"Set 1:\", set1)\n",
    "print(\"Set 2:\", set2)\n",
    "print(\"Difference:\", difference_set)"
   ]
  },
  {
   "cell_type": "code",
   "execution_count": null,
   "id": "086cbeb1-200c-4b1a-9d59-043fb5fe85b3",
   "metadata": {},
   "outputs": [],
   "source": [
    "#12 Check if set is subset of another"
   ]
  },
  {
   "cell_type": "code",
   "execution_count": 115,
   "id": "b08d65ce-cd10-4790-b00e-330f425c6db9",
   "metadata": {
    "tags": []
   },
   "outputs": [
    {
     "name": "stdout",
     "output_type": "stream",
     "text": [
      "Is set1 a subset of set2: True\n"
     ]
    }
   ],
   "source": [
    "# Define the two sets\n",
    "set1 = {1, 2, 3}\n",
    "set2 = {1, 2, 3, 4, 5}\n",
    "\n",
    "# Use the \"issubset()\" method to check if set1 is a subset of set2\n",
    "is_subset = set1.issubset(set2)\n",
    "\n",
    "# Print the result\n",
    "print(\"Is set1 a subset of set2:\", is_subset)"
   ]
  },
  {
   "cell_type": "code",
   "execution_count": null,
   "id": "eb835eb1-e5ac-40a6-80e4-02d868ad6adc",
   "metadata": {},
   "outputs": [],
   "source": [
    "#13 Check if set is superset of another set"
   ]
  },
  {
   "cell_type": "code",
   "execution_count": 116,
   "id": "2b8176a9-81c4-4fca-b8cb-ab025503bb4e",
   "metadata": {
    "tags": []
   },
   "outputs": [
    {
     "name": "stdout",
     "output_type": "stream",
     "text": [
      "set1 is a superset of set2\n"
     ]
    }
   ],
   "source": [
    "# Create two sets\n",
    "set1 = {1, 2, 3, 4, 5, 6}\n",
    "set2 = {3, 4}\n",
    "\n",
    "# Check if set1 is a superset of set2\n",
    "is_superset = set1.issuperset(set2)\n",
    "\n",
    "# Print the result\n",
    "if is_superset:\n",
    "    print(\"set1 is a superset of set2\")\n",
    "else:\n",
    "    print(\"set1 is not a superset of set2\")"
   ]
  },
  {
   "cell_type": "code",
   "execution_count": null,
   "id": "db26ca9b-d898-4c54-b558-cf318db7976e",
   "metadata": {},
   "outputs": [],
   "source": [
    "#14 Create a set from list"
   ]
  },
  {
   "cell_type": "code",
   "execution_count": 117,
   "id": "74b78619-9ae1-49ca-9792-ab1253fd8a28",
   "metadata": {
    "tags": []
   },
   "outputs": [
    {
     "name": "stdout",
     "output_type": "stream",
     "text": [
      "Original List: [2, 4, 1, 4, 3, 2, 5]\n",
      "Set from List: {1, 2, 3, 4, 5}\n"
     ]
    }
   ],
   "source": [
    "# Step 1: Create a list of elements\n",
    "my_list = [2, 4, 1, 4, 3, 2, 5]\n",
    "\n",
    "# Step 2: Use the set() constructor to convert the list into a set\n",
    "# This automatically removes duplicates and creates a set with unique elements\n",
    "my_set = set(my_list)\n",
    "\n",
    "# Step 3: Print the original list and the resulting set\n",
    "print(\"Original List:\", my_list)\n",
    "print(\"Set from List:\", my_set)"
   ]
  },
  {
   "cell_type": "code",
   "execution_count": null,
   "id": "036f5ef8-db39-487a-9aba-3c02c2ac54b2",
   "metadata": {},
   "outputs": [],
   "source": [
    "#15 Create a set to a list"
   ]
  },
  {
   "cell_type": "code",
   "execution_count": 118,
   "id": "a925c66f-9fde-4f3a-8e05-56c24f2b69de",
   "metadata": {
    "tags": []
   },
   "outputs": [
    {
     "name": "stdout",
     "output_type": "stream",
     "text": [
      "Original Set: {1, 2, 3, 4, 5, 6, 9}\n",
      "Converted List: [1, 2, 3, 4, 5, 6, 9]\n"
     ]
    }
   ],
   "source": [
    "# Step 1: Create a set with some elements\n",
    "my_set = {3, 1, 4, 1, 5, 9, 2, 6, 5}\n",
    "\n",
    "# Step 2: Convert the set to a list using the list() function\n",
    "my_list = list(my_set)\n",
    "\n",
    "# Now, my_list contains the elements from my_set in list format\n",
    "\n",
    "# Step 3: Print the original set and the converted list\n",
    "print(\"Original Set:\", my_set)\n",
    "print(\"Converted List:\", my_list)"
   ]
  },
  {
   "cell_type": "code",
   "execution_count": null,
   "id": "d0cd6c2f-ef1b-42c6-a5b6-6f12ce3712c9",
   "metadata": {},
   "outputs": [],
   "source": [
    "#16 Remove random element from set"
   ]
  },
  {
   "cell_type": "code",
   "execution_count": 119,
   "id": "42de800c-5bcd-4dfc-89e2-b71244f14560",
   "metadata": {
    "tags": []
   },
   "outputs": [
    {
     "name": "stdout",
     "output_type": "stream",
     "text": [
      "Original set: {1, 2, 3, 4, 5}\n",
      "Updated set after removing 2 : {1, 3, 4, 5}\n"
     ]
    }
   ],
   "source": [
    "import random  # Import the random module\n",
    "\n",
    "# Create a set with some elements\n",
    "my_set = {1, 2, 3, 4, 5}\n",
    "\n",
    "# Display the original set\n",
    "print(\"Original set:\", my_set)\n",
    "\n",
    "# Choose a random element from the set using the random.choice() function\n",
    "random_element = random.choice(list(my_set))\n",
    "\n",
    "# Remove the chosen random element from the set using the remove() method\n",
    "my_set.remove(random_element)\n",
    "\n",
    "# Display the updated set after removing the random element\n",
    "print(\"Updated set after removing\", random_element, \":\", my_set)"
   ]
  },
  {
   "cell_type": "code",
   "execution_count": null,
   "id": "f7042f11-6385-41f2-85b2-dc18065b4113",
   "metadata": {},
   "outputs": [],
   "source": [
    "#17 Pop an element from set"
   ]
  },
  {
   "cell_type": "code",
   "execution_count": 120,
   "id": "0867789f-32ee-4614-9a5e-bb8f95e054fb",
   "metadata": {
    "tags": []
   },
   "outputs": [
    {
     "name": "stdout",
     "output_type": "stream",
     "text": [
      "Original set: {1, 2, 3, 4, 5}\n",
      "Popped element: 1\n",
      "Set after popping: {2, 3, 4, 5}\n"
     ]
    }
   ],
   "source": [
    "# Create a set with some elements\n",
    "my_set = {1, 2, 3, 4, 5}\n",
    "\n",
    "# Print the original set\n",
    "print(\"Original set:\", my_set)\n",
    "\n",
    "# Pop an element from the set using the pop() method\n",
    "popped_element = my_set.pop()\n",
    "\n",
    "# Print the element that was popped\n",
    "print(\"Popped element:\", popped_element)\n",
    "\n",
    "# Print the set after popping an element\n",
    "print(\"Set after popping:\", my_set)"
   ]
  },
  {
   "cell_type": "code",
   "execution_count": null,
   "id": "fc87cfb9-0452-43df-8175-f2777118bff2",
   "metadata": {},
   "outputs": [],
   "source": [
    "#18 Check if two set have no element in common"
   ]
  },
  {
   "cell_type": "code",
   "execution_count": 121,
   "id": "bfb30b02-8c3e-4408-8266-890bbbd97a9f",
   "metadata": {
    "tags": []
   },
   "outputs": [
    {
     "name": "stdout",
     "output_type": "stream",
     "text": [
      "The two sets have no elements in common.\n"
     ]
    }
   ],
   "source": [
    "# Step 1: Define two sets\n",
    "set1 = {1, 2, 3, 4}\n",
    "set2 = {5, 6, 7, 8}\n",
    "\n",
    "# Step 2: Check if the intersection of the two sets is empty\n",
    "# The intersection is the set of elements that are common to both sets\n",
    "common_elements = set1.intersection(set2)\n",
    "\n",
    "# Step 3: Check if the common_elements set is empty\n",
    "if not common_elements:\n",
    "    print(\"The two sets have no elements in common.\")\n",
    "else:\n",
    "    print(\"The two sets have common elements:\", common_elements)"
   ]
  },
  {
   "cell_type": "code",
   "execution_count": null,
   "id": "e3fc3ab2-63ec-4c13-9a0f-03fe06a8cfa1",
   "metadata": {},
   "outputs": [],
   "source": [
    "#19 Find symmetric difference between two set"
   ]
  },
  {
   "cell_type": "code",
   "execution_count": 122,
   "id": "7371cc38-63fe-4d06-8e87-bc98281ea325",
   "metadata": {
    "tags": []
   },
   "outputs": [
    {
     "name": "stdout",
     "output_type": "stream",
     "text": [
      "Symmetric Difference: {1, 2, 3, 6, 7, 8}\n"
     ]
    }
   ],
   "source": [
    "# Define two sets\n",
    "set1 = {1, 2, 3, 4, 5}\n",
    "set2 = {4, 5, 6, 7, 8}\n",
    "\n",
    "# Calculate the symmetric difference using the ^ operator\n",
    "symmetric_difference = set1 ^ set2\n",
    "\n",
    "# Print the symmetric difference\n",
    "print(\"Symmetric Difference:\", symmetric_difference)"
   ]
  },
  {
   "cell_type": "code",
   "execution_count": null,
   "id": "e8579cd8-2322-4ce4-a197-280ed09776c7",
   "metadata": {},
   "outputs": [],
   "source": [
    "#20 Update a set with element of another set"
   ]
  },
  {
   "cell_type": "code",
   "execution_count": 123,
   "id": "e4ff4f92-5b68-45fe-bc4c-4a439ea74e16",
   "metadata": {
    "tags": []
   },
   "outputs": [
    {
     "name": "stdout",
     "output_type": "stream",
     "text": [
      "Set 1: {1, 2, 3}\n",
      "Set 2: {3, 4, 5}\n",
      "Updated Set 1: {1, 2, 3, 4, 5}\n"
     ]
    }
   ],
   "source": [
    "# Create the first set\n",
    "set1 = {1, 2, 3}\n",
    "print(\"Set 1:\", set1)\n",
    "\n",
    "# Create the second set\n",
    "set2 = {3, 4, 5}\n",
    "print(\"Set 2:\", set2)\n",
    "\n",
    "# Update set1 with elements from set2\n",
    "set1.update(set2)\n",
    "print(\"Updated Set 1:\", set1)"
   ]
  },
  {
   "cell_type": "code",
   "execution_count": null,
   "id": "fad6585e-a62e-415f-918a-22c131fe4aca",
   "metadata": {},
   "outputs": [],
   "source": [
    "#21 Create a set of first 5 prime number"
   ]
  },
  {
   "cell_type": "code",
   "execution_count": 124,
   "id": "bc7a0b21-b5f3-4d59-8370-c72d0293f60a",
   "metadata": {
    "tags": []
   },
   "outputs": [
    {
     "name": "stdout",
     "output_type": "stream",
     "text": [
      "Set of the first 5 prime numbers: {2, 3, 5, 7, 11}\n"
     ]
    }
   ],
   "source": [
    "# Function to check if a number is prime\n",
    "def is_prime(num):\n",
    "    if num <= 1:\n",
    "        return False\n",
    "    for i in range(2, int(num ** 0.5) + 1):\n",
    "        if num % i == 0:\n",
    "            return False\n",
    "    return True\n",
    "\n",
    "# Create an empty set to store the prime numbers\n",
    "prime_set = set()\n",
    "\n",
    "# Initialize the number to start checking for primes\n",
    "num = 2\n",
    "\n",
    "# Loop until we have found the first 5 prime numbers\n",
    "while len(prime_set) < 5:\n",
    "    # Check if the current number is prime using the is_prime function\n",
    "    if is_prime(num):\n",
    "        # If the number is prime, add it to the prime_set\n",
    "        prime_set.add(num)\n",
    "\n",
    "    # Move on to the next number for the next iteration\n",
    "    num += 1\n",
    "\n",
    "# Print the set of prime numbers\n",
    "print(\"Set of the first 5 prime numbers:\", prime_set)"
   ]
  },
  {
   "cell_type": "code",
   "execution_count": null,
   "id": "2ecbcfc4-c6d9-4eda-a7d2-78153ac16bfa",
   "metadata": {},
   "outputs": [],
   "source": [
    "#22 Check if two sets are identical"
   ]
  },
  {
   "cell_type": "code",
   "execution_count": 125,
   "id": "8f5b1b55-9afd-47b8-abc4-927246cf27ab",
   "metadata": {
    "tags": []
   },
   "outputs": [
    {
     "name": "stdout",
     "output_type": "stream",
     "text": [
      "The sets are identical.\n"
     ]
    }
   ],
   "source": [
    "# Step 1: Define two sets\n",
    "set1 = {1, 2, 3, 4, 5}\n",
    "set2 = {3, 1, 5, 2, 4}  # The order of elements doesn't matter in sets\n",
    "\n",
    "# Step 2: Check if the sets are identical using the `==` operator\n",
    "# Sets are unordered collections, so the order of elements doesn't matter.\n",
    "# The `==` operator compares the content of the sets.\n",
    "if set1 == set2:\n",
    "    print(\"The sets are identical.\")\n",
    "else:\n",
    "    print(\"The sets are not identical.\")"
   ]
  },
  {
   "cell_type": "code",
   "execution_count": null,
   "id": "e64cd01a-9427-4aa4-bb8e-113addc7c5be",
   "metadata": {},
   "outputs": [],
   "source": [
    "#23 Create a frozen set"
   ]
  },
  {
   "cell_type": "code",
   "execution_count": 126,
   "id": "3060ac65-bd9c-4689-849d-b25658728a4e",
   "metadata": {
    "tags": []
   },
   "outputs": [
    {
     "name": "stdout",
     "output_type": "stream",
     "text": [
      "Frozen Set: frozenset({1, 2, 3, 4, 5})\n"
     ]
    }
   ],
   "source": [
    "# Step 2: Define a list of elements that you want to include in the frozen set\n",
    "elements = [1, 2, 3, 4, 5]\n",
    "\n",
    "# Step 3: Create a frozen set using the 'frozenset' constructor and passing the list of elements\n",
    "my_frozen_set = frozenset(elements)\n",
    "\n",
    "# Step 4: Print the frozen set\n",
    "print(\"Frozen Set:\", my_frozen_set)"
   ]
  },
  {
   "cell_type": "code",
   "execution_count": null,
   "id": "1803adcc-50d3-42a0-b43a-6ca96af444b4",
   "metadata": {},
   "outputs": [],
   "source": [
    "#24 Check if set is disjoint with another set"
   ]
  },
  {
   "cell_type": "code",
   "execution_count": 127,
   "id": "54d246a9-ac03-44a8-b4ce-2a6b8a9acdc3",
   "metadata": {
    "tags": []
   },
   "outputs": [
    {
     "name": "stdout",
     "output_type": "stream",
     "text": [
      "Are the sets disjoint? True\n"
     ]
    }
   ],
   "source": [
    "# Step 1: Define the two sets you want to check for disjointness\n",
    "set1 = {1, 2, 3, 4}\n",
    "set2 = {5, 6, 7, 8}\n",
    "\n",
    "# Step 2: Use the `isdisjoint()` method to check if the sets are disjoint\n",
    "# The `isdisjoint()` method returns True if the sets have no common elements,\n",
    "# and False if they have at least one common element.\n",
    "disjoint_status = set1.isdisjoint(set2)\n",
    "\n",
    "# Step 3: Print the result\n",
    "print(\"Are the sets disjoint?\", disjoint_status)"
   ]
  },
  {
   "cell_type": "code",
   "execution_count": null,
   "id": "d4f87fe1-2470-4d10-a2bf-8b4cdf40bc41",
   "metadata": {},
   "outputs": [],
   "source": [
    "#25 Create set of squares of number from 1 to 5"
   ]
  },
  {
   "cell_type": "code",
   "execution_count": 128,
   "id": "83a5fcba-a113-4436-80a5-ae5942891ae1",
   "metadata": {
    "tags": []
   },
   "outputs": [
    {
     "name": "stdout",
     "output_type": "stream",
     "text": [
      "{1, 4, 9, 16, 25}\n"
     ]
    }
   ],
   "source": [
    "# Step 1: Create an empty set to store the squares of numbers\n",
    "squares_set = set()\n",
    "\n",
    "# Step 2: Use a loop to iterate through numbers from 1 to 5\n",
    "for num in range(1, 6):\n",
    "    # Step 3: Calculate the square of the current number\n",
    "    square = num ** 2\n",
    "\n",
    "    # Step 4: Add the square to the set\n",
    "    squares_set.add(square)\n",
    "\n",
    "# Step 5: Print the set of squares\n",
    "print(squares_set)"
   ]
  },
  {
   "cell_type": "code",
   "execution_count": null,
   "id": "85059781-29a4-4b0c-96e5-fd0215b97cbf",
   "metadata": {},
   "outputs": [],
   "source": [
    "#26 Filter out all even numbers from set"
   ]
  },
  {
   "cell_type": "code",
   "execution_count": 129,
   "id": "c870379d-996d-4d0d-ab27-07e9e68fe8a2",
   "metadata": {
    "tags": []
   },
   "outputs": [
    {
     "name": "stdout",
     "output_type": "stream",
     "text": [
      "Original Set: {1, 2, 3, 4, 5}\n",
      "Even Numbers Set: {2, 4}\n"
     ]
    }
   ],
   "source": [
    "# Step 1: Create a set with integers from 1 to 5\n",
    "original_set = {1, 2, 3, 4, 5}\n",
    "\n",
    "# Step 2: Initialize an empty set to store the filtered even numbers\n",
    "even_numbers_set = set()\n",
    "\n",
    "# Step 3: Iterate through each element in the original set\n",
    "for num in original_set:\n",
    "    # Step 4: Check if the current number is even (divisible by 2)\n",
    "    if num % 2 == 0:\n",
    "        # Step 5: If even, add it to the even_numbers_set\n",
    "        even_numbers_set.add(num)\n",
    "\n",
    "# Step 6: Print the original set and the set containing even numbers\n",
    "print(\"Original Set:\", original_set)\n",
    "print(\"Even Numbers Set:\", even_numbers_set)"
   ]
  },
  {
   "cell_type": "code",
   "execution_count": null,
   "id": "b5350ff4-7d2c-4a0d-9439-9b2af23b6901",
   "metadata": {},
   "outputs": [],
   "source": [
    "#27 Multiply all elements in set by 2"
   ]
  },
  {
   "cell_type": "code",
   "execution_count": 130,
   "id": "11fff948-5458-4728-9811-618aa0d58815",
   "metadata": {
    "tags": []
   },
   "outputs": [
    {
     "name": "stdout",
     "output_type": "stream",
     "text": [
      "Original Set: {1, 2, 3, 4, 5}\n",
      "Multiplied Set: {2, 4, 6, 8, 10}\n"
     ]
    }
   ],
   "source": [
    "# Create a set with integers from 1 to 5\n",
    "original_set = {1, 2, 3, 4, 5}\n",
    "\n",
    "# Initialize an empty set to store the multiplied elements\n",
    "multiplied_set = set()\n",
    "\n",
    "# Loop through each element in the original set\n",
    "for num in original_set:\n",
    "    # Multiply the current element by 2\n",
    "    multiplied_num = num * 2\n",
    "\n",
    "    # Add the multiplied element to the multiplied_set\n",
    "    multiplied_set.add(multiplied_num)\n",
    "\n",
    "# The original_set remains unchanged\n",
    "print(\"Original Set:\", original_set)\n",
    "\n",
    "# Display the set with elements multiplied by 2\n",
    "print(\"Multiplied Set:\", multiplied_set)"
   ]
  },
  {
   "cell_type": "code",
   "execution_count": null,
   "id": "285f91a5-6665-4c7a-82b5-28135de917e1",
   "metadata": {},
   "outputs": [],
   "source": [
    "#28 Create set of random numbers"
   ]
  },
  {
   "cell_type": "code",
   "execution_count": 131,
   "id": "a7673d77-a6ff-419e-924d-48fb1e8aa6b2",
   "metadata": {
    "tags": []
   },
   "outputs": [
    {
     "name": "stdout",
     "output_type": "stream",
     "text": [
      "Generated set of random numbers: {34, 85, 22, 55, 29}\n"
     ]
    }
   ],
   "source": [
    "# Step 1: Import the `random` module to generate random numbers\n",
    "import random\n",
    "\n",
    "# Step 2: Define the number of random numbers you want in the set\n",
    "num_random_numbers = 5\n",
    "\n",
    "# Step 3: Initialize an empty set to store the random numbers\n",
    "random_number_set = set()\n",
    "\n",
    "# Step 4: Use a loop to generate random numbers and add them to the set\n",
    "for _ in range(num_random_numbers):\n",
    "    # Generate a random integer using the `randint` function from the `random` module\n",
    "    random_num = random.randint(1, 100)  # Generate a random number between 1 and 100\n",
    "    # Add the random number to the set\n",
    "    random_number_set.add(random_num)\n",
    "\n",
    "# Step 5: Print the generated set of random numbers\n",
    "print(\"Generated set of random numbers:\", random_number_set)"
   ]
  },
  {
   "cell_type": "code",
   "execution_count": null,
   "id": "78f4fa66-66ae-4b08-af9f-75bd00eb4614",
   "metadata": {},
   "outputs": [],
   "source": [
    "#29 Check if set is empty"
   ]
  },
  {
   "cell_type": "code",
   "execution_count": 132,
   "id": "29f703d3-c281-46e6-ae4b-8070bcc53c07",
   "metadata": {
    "tags": []
   },
   "outputs": [
    {
     "name": "stdout",
     "output_type": "stream",
     "text": [
      "The set is empty.\n"
     ]
    }
   ],
   "source": [
    "# Step 1: Create a set (you can replace this with your own set)\n",
    "my_set = set()\n",
    "\n",
    "# Step 2: Check if the set is empty using the 'if' statement\n",
    "if not my_set:\n",
    "    print(\"The set is empty.\")\n",
    "else:\n",
    "    print(\"The set is not empty.\")"
   ]
  },
  {
   "cell_type": "code",
   "execution_count": null,
   "id": "80d6d1df-70b4-471b-b4e3-ad67a6f0c53c",
   "metadata": {},
   "outputs": [],
   "source": [
    "#30 Create a nested set "
   ]
  },
  {
   "cell_type": "code",
   "execution_count": 133,
   "id": "8541e2f8-d864-4431-b63b-4898be2ae91a",
   "metadata": {
    "tags": []
   },
   "outputs": [
    {
     "name": "stdout",
     "output_type": "stream",
     "text": [
      "Nested Set: {frozenset({1, 2, 3, 4, 5}), frozenset({6, 7, 8, 9, 10})}\n"
     ]
    }
   ],
   "source": [
    "# Step 1: Create the inner sets\n",
    "set1 = {1, 2, 3, 4, 5}\n",
    "set2 = {6, 7, 8, 9, 10}\n",
    "\n",
    "# Step 2: Create frozensets from the inner sets\n",
    "frozen_set1 = frozenset(set1)\n",
    "frozen_set2 = frozenset(set2)\n",
    "\n",
    "# Step 3: Create the nested set using the frozensets\n",
    "nested_set = {frozen_set1, frozen_set2}\n",
    "\n",
    "# Print the nested set\n",
    "print(\"Nested Set:\", nested_set)"
   ]
  },
  {
   "cell_type": "code",
   "execution_count": null,
   "id": "460c791b-a862-47c3-9fb3-dd63a5e48775",
   "metadata": {},
   "outputs": [],
   "source": [
    "#31 Remove an element from a set using the discard method."
   ]
  },
  {
   "cell_type": "code",
   "execution_count": 134,
   "id": "491e4b71-50a3-453f-9c5a-b070c2166d06",
   "metadata": {
    "tags": []
   },
   "outputs": [
    {
     "name": "stdout",
     "output_type": "stream",
     "text": [
      "Initial set: {1, 2, 3, 4, 5}\n",
      "Set after removing 3 : {1, 2, 4, 5}\n"
     ]
    }
   ],
   "source": [
    "# Create a set with some elements\n",
    "my_set = {1, 2, 3, 4, 5}\n",
    "\n",
    "# Display the initial set\n",
    "print(\"Initial set:\", my_set)\n",
    "\n",
    "# Define the element to be removed\n",
    "element_to_remove = 3\n",
    "\n",
    "# Use the discard() method to remove the element from the set\n",
    "# If the element is not present in the set, discard() won't raise an error\n",
    "my_set.discard(element_to_remove)\n",
    "\n",
    "# Display the set after removing the element\n",
    "print(\"Set after removing\", element_to_remove, \":\", my_set)"
   ]
  },
  {
   "cell_type": "code",
   "execution_count": null,
   "id": "652b7e3d-918c-4eb4-bbf5-100268b2b43d",
   "metadata": {},
   "outputs": [],
   "source": [
    "#32 Compare two set"
   ]
  },
  {
   "cell_type": "code",
   "execution_count": 135,
   "id": "bb18dd2d-ee28-4cd7-b31d-2dfd99a17ec6",
   "metadata": {
    "tags": []
   },
   "outputs": [
    {
     "name": "stdout",
     "output_type": "stream",
     "text": [
      "Set 1: {1, 2, 3, 4, 5}\n",
      "Set 2: {4, 5, 6, 7, 8}\n",
      "Is set1 a subset of set2? False\n",
      "Is set2 a subset of set1? False\n",
      "Intersection: {4, 5}\n",
      "Union: {1, 2, 3, 4, 5, 6, 7, 8}\n",
      "Elements in set1 but not in set2: {1, 2, 3}\n",
      "Elements in set2 but not in set1: {8, 6, 7}\n"
     ]
    }
   ],
   "source": [
    "# Step 1: Define two sets\n",
    "set1 = {1, 2, 3, 4, 5}\n",
    "set2 = {4, 5, 6, 7, 8}\n",
    "\n",
    "# Step 2: Use set operations to compare the sets\n",
    "# Check if set1 is a subset of set2\n",
    "is_subset = set1.issubset(set2)\n",
    "\n",
    "# Check if set2 is a subset of set1\n",
    "is_superset = set1.issuperset(set2)\n",
    "\n",
    "# Find the intersection of the sets\n",
    "intersection = set1.intersection(set2)\n",
    "\n",
    "# Find the union of the sets\n",
    "union = set1.union(set2)\n",
    "\n",
    "# Find the elements that are in set1 but not in set2\n",
    "difference1 = set1.difference(set2)\n",
    "\n",
    "# Find the elements that are in set2 but not in set1\n",
    "difference2 = set2.difference(set1)\n",
    "\n",
    "# Step 3: Print the results\n",
    "print(\"Set 1:\", set1)\n",
    "print(\"Set 2:\", set2)\n",
    "print(\"Is set1 a subset of set2?\", is_subset)\n",
    "print(\"Is set2 a subset of set1?\", is_superset)\n",
    "print(\"Intersection:\", intersection)\n",
    "print(\"Union:\", union)\n",
    "print(\"Elements in set1 but not in set2:\", difference1)\n",
    "print(\"Elements in set2 but not in set1:\", difference2)"
   ]
  },
  {
   "cell_type": "code",
   "execution_count": null,
   "id": "3a570164-91a2-48fb-b6c1-aba768ef6309",
   "metadata": {},
   "outputs": [],
   "source": [
    "#33 Create a set from string"
   ]
  },
  {
   "cell_type": "code",
   "execution_count": 136,
   "id": "c45752dd-6a7f-46ff-bef3-c1679a2d5a90",
   "metadata": {
    "tags": []
   },
   "outputs": [
    {
     "name": "stdout",
     "output_type": "stream",
     "text": [
      "{'l', 'h', 'o', 'e'}\n"
     ]
    }
   ],
   "source": [
    "# Step 1: Define the input string\n",
    "input_string = \"hello\"\n",
    "\n",
    "# Step 2: Use the set() constructor to create a set from the characters in the string\n",
    "char_set = set(input_string)\n",
    "\n",
    "# Step 3: Print the resulting set\n",
    "print(char_set)"
   ]
  },
  {
   "cell_type": "code",
   "execution_count": null,
   "id": "9e839185-e900-406c-8533-fc2fa2e67509",
   "metadata": {},
   "outputs": [],
   "source": [
    "#34 Convert set of string into set of integer"
   ]
  },
  {
   "cell_type": "code",
   "execution_count": 137,
   "id": "b7938e23-79e4-47fe-9081-6a373d92c4f7",
   "metadata": {
    "tags": []
   },
   "outputs": [
    {
     "name": "stdout",
     "output_type": "stream",
     "text": [
      "Original String Set: {'123', '456', '789'}\n",
      "Converted Integer Set: {456, 123, 789}\n"
     ]
    }
   ],
   "source": [
    "# Step 1: Create a set of strings\n",
    "string_set = {\"123\", \"456\", \"789\"}\n",
    "\n",
    "# Step 2: Initialize an empty set to store integers\n",
    "integer_set = set()\n",
    "\n",
    "# Step 3: Iterate through each string in the string set\n",
    "for string in string_set:\n",
    "    # Step 4: Convert the string to an integer using the int() function\n",
    "    integer_value = int(string)\n",
    "\n",
    "    # Step 5: Add the integer to the integer set\n",
    "    integer_set.add(integer_value)\n",
    "\n",
    "# Step 6: Print the original string set and the converted integer set\n",
    "print(\"Original String Set:\", string_set)\n",
    "print(\"Converted Integer Set:\", integer_set)"
   ]
  },
  {
   "cell_type": "code",
   "execution_count": null,
   "id": "26808e2e-355f-4ac0-ab69-0e32ae9e7620",
   "metadata": {},
   "outputs": [],
   "source": [
    "#35 Convert set of integer into set of string"
   ]
  },
  {
   "cell_type": "code",
   "execution_count": 138,
   "id": "f648b71f-faf7-4640-a6cc-c53edbdb9dd7",
   "metadata": {
    "tags": []
   },
   "outputs": [
    {
     "name": "stdout",
     "output_type": "stream",
     "text": [
      "Original integers_set: {1, 2, 3, 4, 5}\n",
      "Converted strings_set: {'1', '2', '3', '4', '5'}\n"
     ]
    }
   ],
   "source": [
    "# Step 1: Create a set of integers\n",
    "integers_set = {1, 2, 3, 4, 5}\n",
    "\n",
    "# Step 2: Initialize an empty set to store the strings\n",
    "strings_set = set()\n",
    "\n",
    "# Step 3: Iterate through each integer in the integers_set\n",
    "for num in integers_set:\n",
    "    # Step 4: Convert the integer to a string using the str() function\n",
    "    num_str = str(num)\n",
    "\n",
    "    # Step 5: Add the string representation to the strings_set\n",
    "    strings_set.add(num_str)\n",
    "\n",
    "# Step 6: Print the original integers_set and the converted strings_set\n",
    "print(\"Original integers_set:\", integers_set)\n",
    "print(\"Converted strings_set:\", strings_set)"
   ]
  },
  {
   "cell_type": "code",
   "execution_count": null,
   "id": "444955f3-4187-41bc-965c-c4fa4860d646",
   "metadata": {},
   "outputs": [],
   "source": [
    "#36 Create a set from tuple"
   ]
  },
  {
   "cell_type": "code",
   "execution_count": 139,
   "id": "1a438959-58f4-42d9-9cb7-f9035fa7d1b3",
   "metadata": {
    "tags": []
   },
   "outputs": [
    {
     "name": "stdout",
     "output_type": "stream",
     "text": [
      "{1, 2, 3, 4, 5}\n"
     ]
    }
   ],
   "source": [
    "# Given tuple\n",
    "input_tuple = (1, 2, 3, 2, 4, 5, 1)\n",
    "\n",
    "# Step 1: Convert the tuple to a set\n",
    "output_set = set(input_tuple)\n",
    "# At this point, the set() function is used to convert the elements of the tuple into a set.\n",
    "# Since sets only contain unique elements, duplicate values are automatically removed.\n",
    "\n",
    "# Step 2: Print the resulting set\n",
    "print(output_set)\n",
    "# The set is now printed, and it will only contain the unique elements from the original tuple."
   ]
  },
  {
   "cell_type": "code",
   "execution_count": null,
   "id": "db6c583e-a0e0-4dfd-b782-560a457dd0fa",
   "metadata": {},
   "outputs": [],
   "source": [
    "#37 Convert set to tuple"
   ]
  },
  {
   "cell_type": "code",
   "execution_count": 140,
   "id": "03469071-1b6c-48c4-b611-89048f8ca0f0",
   "metadata": {
    "tags": []
   },
   "outputs": [
    {
     "name": "stdout",
     "output_type": "stream",
     "text": [
      "Original set: {1, 2, 3, 4, 5}\n",
      "Converted tuple: (1, 2, 3, 4, 5)\n"
     ]
    }
   ],
   "source": [
    "# Step 1: Create a set\n",
    "input_set = {1, 2, 3, 4, 5}\n",
    "\n",
    "# Step 2: Convert the set to a tuple\n",
    "output_tuple = tuple(input_set)\n",
    "\n",
    "# Step 3: Print the original set and the converted tuple\n",
    "print(\"Original set:\", input_set)\n",
    "print(\"Converted tuple:\", output_tuple)"
   ]
  },
  {
   "cell_type": "code",
   "execution_count": null,
   "id": "24515706-1c89-4280-a49c-e23712183fa1",
   "metadata": {},
   "outputs": [],
   "source": [
    "#38 Find maximum value in set"
   ]
  },
  {
   "cell_type": "code",
   "execution_count": 141,
   "id": "375f7db6-9d49-4f3d-9cab-23957acb571c",
   "metadata": {
    "tags": []
   },
   "outputs": [
    {
     "name": "stdout",
     "output_type": "stream",
     "text": [
      "Maximum value: 22\n"
     ]
    }
   ],
   "source": [
    "# Define a set with some values\n",
    "my_set = {15, 7, 22, 13, 8}\n",
    "\n",
    "# Initialize a variable to store the maximum value\n",
    "max_value = None\n",
    "\n",
    "# Iterate through each element in the set\n",
    "for num in my_set:\n",
    "    # Check if max_value is None (first iteration) or if the current number is greater than max_value\n",
    "    if max_value is None or num > max_value:\n",
    "        max_value = num  # Update max_value with the current number if it's greater\n",
    "\n",
    "# Print the maximum value\n",
    "print(\"Maximum value:\", max_value)"
   ]
  },
  {
   "cell_type": "code",
   "execution_count": null,
   "id": "2153ad2c-13d9-4f0a-ad35-be005be10cdd",
   "metadata": {},
   "outputs": [],
   "source": [
    "#39 Find minimum value in set"
   ]
  },
  {
   "cell_type": "code",
   "execution_count": 142,
   "id": "0ad8aae2-50d1-4e77-ba5d-5a8c1927007c",
   "metadata": {
    "tags": []
   },
   "outputs": [
    {
     "name": "stdout",
     "output_type": "stream",
     "text": [
      "The minimum value in the set is: 4\n"
     ]
    }
   ],
   "source": [
    "# Create a sample set of numbers\n",
    "number_set = {15, 8, 23, 4, 42, 11}\n",
    "\n",
    "# Initialize a variable to store the minimum value\n",
    "min_value = None\n",
    "\n",
    "# Iterate through each element in the set\n",
    "for num in number_set:\n",
    "    # Check if min_value is None (first iteration) or if num is smaller than the current min_value\n",
    "    if min_value is None or num < min_value:\n",
    "        # Update min_value to the current num since it's smaller\n",
    "        min_value = num\n",
    "\n",
    "# Print the minimum value found in the set\n",
    "print(\"The minimum value in the set is:\", min_value)"
   ]
  },
  {
   "cell_type": "code",
   "execution_count": null,
   "id": "ec73a972-a446-4a61-8aa8-c9b3a33ad330",
   "metadata": {},
   "outputs": [],
   "source": [
    "#40 Create a set from user input"
   ]
  },
  {
   "cell_type": "code",
   "execution_count": 143,
   "id": "54c54fca-380c-4218-b430-f0ddf8b6c6b3",
   "metadata": {
    "tags": []
   },
   "outputs": [
    {
     "name": "stdout",
     "output_type": "stream",
     "text": [
      "Enter elements for the set (type 'done' to finish):\n"
     ]
    },
    {
     "name": "stdin",
     "output_type": "stream",
     "text": [
      ">  pwskills,done\n",
      ">  done\n"
     ]
    },
    {
     "name": "stdout",
     "output_type": "stream",
     "text": [
      "Final set: {'pwskills,done'}\n"
     ]
    }
   ],
   "source": [
    "# Step 1: Initialize an empty set\n",
    "user_set = set()\n",
    "\n",
    "# Step 2: Get input from the user\n",
    "print(\"Enter elements for the set (type 'done' to finish):\")\n",
    "while True:\n",
    "    user_input = input(\"> \")  # Get input from the user\n",
    "\n",
    "    if user_input.lower() == 'done':\n",
    "        break  # Exit the loop if the user enters 'done'\n",
    "\n",
    "    # Step 3: Add the user input to the set\n",
    "    user_set.add(user_input)\n",
    "\n",
    "# Step 4: Display the final set created from user input\n",
    "print(\"Final set:\", user_set)"
   ]
  },
  {
   "cell_type": "code",
   "execution_count": null,
   "id": "ade23950-0559-49ee-bc8a-993115e1449b",
   "metadata": {},
   "outputs": [],
   "source": [
    "#41 Check if intersection of two sets is empty"
   ]
  },
  {
   "cell_type": "code",
   "execution_count": 144,
   "id": "061154bf-0338-4118-9ffa-d1a89f201ea3",
   "metadata": {
    "tags": []
   },
   "outputs": [
    {
     "name": "stdout",
     "output_type": "stream",
     "text": [
      "The intersection of the two sets is not empty.\n"
     ]
    }
   ],
   "source": [
    "# Step 1: Define two sets\n",
    "set1 = {1, 2, 3, 4, 5}\n",
    "set2 = {4, 5, 6, 7, 8}\n",
    "\n",
    "# Step 2: Find the intersection of the two sets using the `intersection()` method\n",
    "intersection_result = set1.intersection(set2)\n",
    "\n",
    "# Step 3: Check if the intersection result is empty\n",
    "if not intersection_result:\n",
    "    print(\"The intersection of the two sets is empty.\")\n",
    "else:\n",
    "    print(\"The intersection of the two sets is not empty.\")"
   ]
  },
  {
   "cell_type": "code",
   "execution_count": null,
   "id": "471d2e99-03bb-45a9-ba82-f67b11b6d0fb",
   "metadata": {},
   "outputs": [],
   "source": [
    "#42 Create a set of first 5 fibonacci series"
   ]
  },
  {
   "cell_type": "code",
   "execution_count": 145,
   "id": "06a2c336-3dda-4dfd-a7d2-ed31b1af6094",
   "metadata": {
    "tags": []
   },
   "outputs": [
    {
     "name": "stdout",
     "output_type": "stream",
     "text": [
      "Set of the first 5 Fibonacci numbers: {0, 1, 2, 3, 5}\n"
     ]
    }
   ],
   "source": [
    "# Create a set to store the first 5 Fibonacci numbers\n",
    "fibonacci_set = set()\n",
    "\n",
    "# Initialize the first two Fibonacci numbers\n",
    "a, b = 0, 1\n",
    "\n",
    "# Loop to generate the first 5 Fibonacci numbers\n",
    "for _ in range(6):\n",
    "    # Add the current Fibonacci number to the set\n",
    "    fibonacci_set.add(a)\n",
    "\n",
    "    # Calculate the next Fibonacci number\n",
    "    a, b = b, a + b\n",
    "\n",
    "# Print the set of Fibonacci numbers\n",
    "print(\"Set of the first 5 Fibonacci numbers:\", fibonacci_set)"
   ]
  },
  {
   "cell_type": "code",
   "execution_count": null,
   "id": "f6eff368-6fe2-4833-8011-35d5585e77d0",
   "metadata": {},
   "outputs": [],
   "source": [
    "#43 Remove duplicate from list using sets."
   ]
  },
  {
   "cell_type": "code",
   "execution_count": 146,
   "id": "4fdc7f9c-033f-41b4-a069-8d52b94581a9",
   "metadata": {
    "tags": []
   },
   "outputs": [
    {
     "name": "stdout",
     "output_type": "stream",
     "text": [
      "Original List: [2, 4, 6, 8, 4, 10, 6, 12, 14, 8]\n",
      "List with Duplicates Removed: [2, 4, 6, 8, 10, 12, 14]\n"
     ]
    }
   ],
   "source": [
    "# Step 1: Define a list with duplicates\n",
    "original_list = [2, 4, 6, 8, 4, 10, 6, 12, 14, 8]\n",
    "\n",
    "# Step 2: Convert the list to a set\n",
    "unique_set = set(original_list)\n",
    "# Now, 'unique_set' contains only unique elements from 'original_list'\n",
    "\n",
    "# Step 3: Convert the set back to a list\n",
    "unique_list = list(unique_set)\n",
    "# Now, 'unique_list' is a list containing only unique elements\n",
    "\n",
    "# Step 4: Print the original list and the list with duplicates removed\n",
    "print(\"Original List:\", original_list)\n",
    "print(\"List with Duplicates Removed:\", unique_list)"
   ]
  },
  {
   "cell_type": "code",
   "execution_count": null,
   "id": "d823d627-33b7-4683-a8cd-e99dd452041c",
   "metadata": {},
   "outputs": [],
   "source": [
    "#44  Check if two sets have the same elements, regardless of their count"
   ]
  },
  {
   "cell_type": "code",
   "execution_count": 147,
   "id": "4e41e682-0854-49f8-86c1-ff79237982f0",
   "metadata": {
    "tags": []
   },
   "outputs": [
    {
     "name": "stdout",
     "output_type": "stream",
     "text": [
      "The sets have the same elements.\n"
     ]
    }
   ],
   "source": [
    "def have_same_elements(set1, set2):\n",
    "    # Convert the sets to lists and sort them\n",
    "    sorted_list1 = sorted(list(set1))\n",
    "    sorted_list2 = sorted(list(set2))\n",
    "\n",
    "    # Compare the sorted lists to check if they are equal\n",
    "    return sorted_list1 == sorted_list2\n",
    "\n",
    "# Example sets\n",
    "set1 = {1, 2, 3, 2, 1}\n",
    "set2 = {3, 1, 2}\n",
    "\n",
    "# Check if the sets have the same elements\n",
    "result = have_same_elements(set1, set2)\n",
    "\n",
    "# Print the result\n",
    "if result:\n",
    "    print(\"The sets have the same elements.\")\n",
    "else:\n",
    "    print(\"The sets do not have the same elements.\")"
   ]
  },
  {
   "cell_type": "code",
   "execution_count": null,
   "id": "653c4be9-93ec-4ead-807a-977a316aeeda",
   "metadata": {},
   "outputs": [],
   "source": [
    "#46 Create a set of the first `n` powers of 2"
   ]
  },
  {
   "cell_type": "code",
   "execution_count": 148,
   "id": "1c43f6aa-2573-44f4-8e41-585bdc5da535",
   "metadata": {
    "tags": []
   },
   "outputs": [
    {
     "name": "stdout",
     "output_type": "stream",
     "text": [
      "{1, 2, 4, 8, 16}\n"
     ]
    }
   ],
   "source": [
    "def generate_powers_of_2(n):\n",
    "    # Initialize an empty set to store the powers of 2\n",
    "    powers_of_2 = set()\n",
    "\n",
    "    # Loop from 0 to n-1\n",
    "    for i in range(n):\n",
    "        # Calculate the current power of 2 using the exponentiation operator **\n",
    "        power = 2 ** i\n",
    "\n",
    "        # Add the current power of 2 to the set\n",
    "        powers_of_2.add(power)\n",
    "\n",
    "    # Return the set of powers of 2\n",
    "    return powers_of_2\n",
    "\n",
    "# Define the value of n\n",
    "n = 5\n",
    "\n",
    "# Call the function to generate the set of powers of 2\n",
    "powers_set = generate_powers_of_2(n)\n",
    "\n",
    "# Print the resulting set\n",
    "print(powers_set)"
   ]
  },
  {
   "cell_type": "code",
   "execution_count": null,
   "id": "748556c0-0951-4bdf-a1ee-d89cc661c050",
   "metadata": {},
   "outputs": [],
   "source": [
    "#46 Find common element  between set and list"
   ]
  },
  {
   "cell_type": "code",
   "execution_count": 149,
   "id": "f3d3de1f-fdae-4b7b-b899-4072f6fcd2e8",
   "metadata": {
    "tags": []
   },
   "outputs": [
    {
     "name": "stdout",
     "output_type": "stream",
     "text": [
      "Common elements: [7, 9, 12]\n"
     ]
    }
   ],
   "source": [
    "# Step 1: Define a set and a list\n",
    "my_set = {3, 7, 9, 12, 15}\n",
    "my_list = [7, 12, 5, 9]\n",
    "\n",
    "# Step 2: Convert the list to a set for efficient comparison\n",
    "list_to_set = set(my_list)\n",
    "\n",
    "# Step 3: Initialize an empty list to store common elements\n",
    "common_elements = []\n",
    "\n",
    "# Step 4: Iterate through the elements in the set\n",
    "for element in my_set:\n",
    "    # Step 5: Check if the element is present in the converted set (list_to_set)\n",
    "    if element in list_to_set:\n",
    "        # Step 6: If the element is present in both the set and the list, add it to the common_elements list\n",
    "        common_elements.append(element)\n",
    "\n",
    "# Step 7: Print the common elements\n",
    "print(\"Common elements:\", common_elements)"
   ]
  },
  {
   "cell_type": "code",
   "execution_count": null,
   "id": "50221779-c10d-4a88-a814-578f49bacaef",
   "metadata": {},
   "outputs": [],
   "source": [
    "#47 Create set of first n triangular number"
   ]
  },
  {
   "cell_type": "code",
   "execution_count": 150,
   "id": "d4be9059-b6bc-4315-a843-02bf23551625",
   "metadata": {
    "tags": []
   },
   "outputs": [
    {
     "name": "stdin",
     "output_type": "stream",
     "text": [
      "Enter the value of n:  10\n"
     ]
    },
    {
     "name": "stdout",
     "output_type": "stream",
     "text": [
      "The set of the first 10 triangular numbers is: {1, 3, 36, 6, 10, 45, 15, 21, 55, 28}\n"
     ]
    }
   ],
   "source": [
    "def generate_triangular_numbers(n):\n",
    "    triangular_numbers = set()  # Create an empty set to store the triangular numbers\n",
    "    for i in range(1, n + 1):\n",
    "        triangular_number = i * (i + 1) // 2  # Calculate the ith triangular number using the formula\n",
    "        triangular_numbers.add(triangular_number)  # Add the calculated triangular number to the set\n",
    "    return triangular_numbers\n",
    "\n",
    "# Input the value of 'n'\n",
    "n = int(input(\"Enter the value of n: \"))\n",
    "\n",
    "# Call the function to generate the set of first 'n' triangular numbers\n",
    "triangular_set = generate_triangular_numbers(n)\n",
    "\n",
    "# Display the set of triangular numbers\n",
    "print(f\"The set of the first {n} triangular numbers is:\", triangular_set)"
   ]
  },
  {
   "cell_type": "code",
   "execution_count": null,
   "id": "60cada7a-253a-4777-a030-25b847a824c9",
   "metadata": {},
   "outputs": [],
   "source": [
    "#48 Check if set contain set of subset"
   ]
  },
  {
   "cell_type": "code",
   "execution_count": 151,
   "id": "311f98aa-9d99-4f9b-9260-e06f314ed692",
   "metadata": {
    "tags": []
   },
   "outputs": [
    {
     "name": "stdout",
     "output_type": "stream",
     "text": [
      "set2 is a subset of set1\n"
     ]
    }
   ],
   "source": [
    "# Define two sets\n",
    "set1 = {1, 2, 3, 4, 5}\n",
    "set2 = {3, 4}\n",
    "\n",
    "# Check if set2 is a subset of set1\n",
    "is_subset = set2.issubset(set1)\n",
    "\n",
    "# Print the result\n",
    "if is_subset:\n",
    "    print(\"set2 is a subset of set1\")\n",
    "else:\n",
    "    print(\"set2 is not a subset of set1\")"
   ]
  },
  {
   "cell_type": "code",
   "execution_count": null,
   "id": "1e6efc7c-51bf-46f4-8038-5bc50ed5fc54",
   "metadata": {},
   "outputs": [],
   "source": [
    "#49 Create set of alternate 1s and 0s of length n"
   ]
  },
  {
   "cell_type": "code",
   "execution_count": 152,
   "id": "72179e02-130c-4a40-ba74-f8d7fc8b9c3b",
   "metadata": {
    "tags": []
   },
   "outputs": [
    {
     "name": "stdout",
     "output_type": "stream",
     "text": [
      "{0, 1}\n"
     ]
    }
   ],
   "source": [
    "def create_alternating_set(n):\n",
    "    # Initialize an empty set to store the alternating sequence.\n",
    "    alternating_set = set()\n",
    "\n",
    "    # Loop to generate alternating 1s and 0s.\n",
    "    for i in range(n):\n",
    "        # Alternate between adding 1 and 0 to the set based on whether i is even or odd.\n",
    "        if i % 2 == 0:\n",
    "            alternating_set.add(1)  # Add 1 if i is even.\n",
    "        else:\n",
    "            alternating_set.add(0)  # Add 0 if i is odd.\n",
    "\n",
    "    return alternating_set\n",
    "\n",
    "# Define the desired length of the alternating set.\n",
    "length_n = 10\n",
    "\n",
    "# Call the function to create the alternating set of length 'length_n'.\n",
    "result = create_alternating_set(length_n)\n",
    "\n",
    "# Print the resulting set.\n",
    "print(result)"
   ]
  },
  {
   "cell_type": "code",
   "execution_count": null,
   "id": "9f3f620c-301d-4504-9524-d92c36471fa8",
   "metadata": {},
   "outputs": [],
   "source": [
    "#50 Merge multiple set into one"
   ]
  },
  {
   "cell_type": "code",
   "execution_count": 153,
   "id": "2cda5f18-1ee3-47f4-8615-6303ff77b8ee",
   "metadata": {
    "tags": []
   },
   "outputs": [
    {
     "name": "stdout",
     "output_type": "stream",
     "text": [
      "Merged Set: {1, 2, 3, 4, 5, 6, 7}\n"
     ]
    }
   ],
   "source": [
    "# Step 1: Create multiple sets\n",
    "set1 = {1, 2, 3}\n",
    "set2 = {3, 4, 5}\n",
    "set3 = {5, 6, 7}\n",
    "\n",
    "# Step 2: Use the union() method to merge sets\n",
    "merged_set = set1.union(set2, set3)\n",
    "\n",
    "# Alternatively, you can use the | operator\n",
    "# merged_set = set1 | set2 | set3\n",
    "\n",
    "# Step 3: Print the merged set\n",
    "print(\"Merged Set:\", merged_set)"
   ]
  }
 ],
 "metadata": {
  "kernelspec": {
   "display_name": "Python 3 (ipykernel)",
   "language": "python",
   "name": "python3"
  },
  "language_info": {
   "codemirror_mode": {
    "name": "ipython",
    "version": 3
   },
   "file_extension": ".py",
   "mimetype": "text/x-python",
   "name": "python",
   "nbconvert_exporter": "python",
   "pygments_lexer": "ipython3",
   "version": "3.11.5"
  }
 },
 "nbformat": 4,
 "nbformat_minor": 5
}
